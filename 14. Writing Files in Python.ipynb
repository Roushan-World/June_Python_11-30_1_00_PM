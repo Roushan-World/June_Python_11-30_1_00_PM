{
 "cells": [
  {
   "cell_type": "markdown",
   "id": "c00c3231",
   "metadata": {},
   "source": [
    "# 14. Writing files in Python\n",
    "\n",
    " * __To Write to a text file in python, you follow these steps:__\n",
    " \n",
    " * __First, Open the text file for writing(appending) using open() functions.__\n",
    " * __Second, write to the text file using the write() or writelines() method.__\n",
    " * __Third, close the file using close() method.__\n",
    " \n",
    " * __Characters---------------------> Functions.__\n",
    " * __W -----------------------------> Open file for writing only. File pointer placed at beginning of the file. Overwrites if existing file and Creates a new one if it does not exists.__\n",
    " \n",
    " * __r------------------------------> Open the file for reading only. Starts reading from the beginning of the file.This is default mode.__\n",
    " \n",
    " * __rb-----------------------------> Open a file for reading only. Starts reading from beginning of the file.__\n",
    " \n",
    " * __r+-----------------------------> Open file for reading only. File pointer placed at beginning of the file.__\n",
    " \n",
    " * __Wb-----------------------------> Same as W but opens in binary mode.__\n",
    " \n",
    " * __W+-----------------------------> Same as W but open allows to read from the file.__\n",
    " \n",
    " * __Wb+----------------------------> Open a file for appending. Starts writing at the end of the file. Creates a new file if file does not exist.__\n",
    " \n",
    " * __ab-----------------------------> Same as a but in binary format. Creates a new file if file does not exist.__\n",
    " \n",
    " * __ab+----------------------------> Same as ab but also open for reading.__"
   ]
  },
  {
   "cell_type": "code",
   "execution_count": 1,
   "id": "5fc7b0ec",
   "metadata": {},
   "outputs": [],
   "source": [
    "filename='akhilesh.txt'\n",
    "\n",
    "with open(filename,'w') as f:\n",
    "    f.write('My name is Akhilesh Gawade.\\n')\n",
    "    f.write('I am from Pune.\\n')\n",
    "    f.write(\"I've done my Graduation from JSPM Hadapsar.\\n\")\n",
    "    f.write (\"Done! That's all\")"
   ]
  },
  {
   "cell_type": "code",
   "execution_count": 2,
   "id": "0d9968b7",
   "metadata": {},
   "outputs": [
    {
     "name": "stdout",
     "output_type": "stream",
     "text": [
      "My name is Akhilesh Gawade.\n",
      "I am from Pune.\n",
      "I've done my Graduation from JSPM Hadapsar.\n",
      "Done! That's all\n"
     ]
    }
   ],
   "source": [
    "with open(filename,'r') as f:\n",
    "    content=f.read()\n",
    "    print(content)"
   ]
  },
  {
   "cell_type": "code",
   "execution_count": 1,
   "id": "f9521106",
   "metadata": {},
   "outputs": [
    {
     "name": "stdout",
     "output_type": "stream",
     "text": [
      "Enter the number of lines:3\n",
      "Begins Writing and Press Enter to continue:\n",
      "Myself Akhilesh Gawade.\n",
      "I belongs to Chandan Nagar.\n",
      "I am 16 years old.\n"
     ]
    }
   ],
   "source": [
    "# File writing using for loop\n",
    "\n",
    "filename='about.txt'\n",
    "n=int(input('Enter the number of lines:'))\n",
    "print('Begins Writing and Press Enter to continue:')\n",
    "with open(filename,'w') as f:\n",
    "    for i in range(n):\n",
    "        s=input()\n",
    "        f.write(s)\n",
    "        f.write('\\n')"
   ]
  },
  {
   "cell_type": "code",
   "execution_count": 2,
   "id": "c415e98d",
   "metadata": {},
   "outputs": [
    {
     "name": "stdout",
     "output_type": "stream",
     "text": [
      "Myself Akhilesh Gawade.\n",
      "I belongs to Chandan Nagar.\n",
      "I am 16 years old.\n",
      "\n"
     ]
    }
   ],
   "source": [
    "with open(filename,'r') as f:\n",
    "    content=f.read()\n",
    "    print(content)"
   ]
  },
  {
   "cell_type": "code",
   "execution_count": 3,
   "id": "bd49568a",
   "metadata": {},
   "outputs": [
    {
     "name": "stdout",
     "output_type": "stream",
     "text": [
      "Write the number of lines you want to write:2\n",
      "Write:Myself Akhilesh\n",
      "Write:I am from Pune\n"
     ]
    }
   ],
   "source": [
    "# file opening and writing using classes and object.\n",
    "\n",
    "class am:\n",
    "    def __init__(self,filename):\n",
    "        self.filename=filename\n",
    "        \n",
    "    def am2file(self):\n",
    "        fname=open(self.filename,'w')\n",
    "        aboutme=[]\n",
    "        n=int(input('Write the number of lines you want to write:'))\n",
    "        \n",
    "        for x in range(n):\n",
    "            am=input('Write:')\n",
    "            aboutme.append(am)\n",
    "            \n",
    "        for i in aboutme:\n",
    "            fname.write(i)\n",
    "            fname.write('\\n')\n",
    "            \n",
    "        fname.close()\n",
    "        \n",
    "am1=am('f1.txt')\n",
    "am1.am2file()"
   ]
  },
  {
   "cell_type": "code",
   "execution_count": null,
   "id": "b548eada",
   "metadata": {},
   "outputs": [],
   "source": []
  },
  {
   "cell_type": "code",
   "execution_count": null,
   "id": "4c2221f5",
   "metadata": {},
   "outputs": [],
   "source": []
  }
 ],
 "metadata": {
  "kernelspec": {
   "display_name": "Python 3 (ipykernel)",
   "language": "python",
   "name": "python3"
  },
  "language_info": {
   "codemirror_mode": {
    "name": "ipython",
    "version": 3
   },
   "file_extension": ".py",
   "mimetype": "text/x-python",
   "name": "python",
   "nbconvert_exporter": "python",
   "pygments_lexer": "ipython3",
   "version": "3.9.13"
  }
 },
 "nbformat": 4,
 "nbformat_minor": 5
}
