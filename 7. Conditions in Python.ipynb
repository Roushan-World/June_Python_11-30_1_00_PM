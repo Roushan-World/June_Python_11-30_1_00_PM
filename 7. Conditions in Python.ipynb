{
 "cells": [
  {
   "cell_type": "markdown",
   "id": "0643b39c",
   "metadata": {},
   "source": [
    "# 7. Conditions in Python\n",
    "\n",
    "# Comparison Operators\n",
    "\n",
    "__Comparison operators compare some value or operand and based on condition, produce a Boolean. Python has six comparison operators as below:__\n",
    "\n",
    " * __1. Less than(<)__\n",
    " * __2. Less than or equal to(<=)__\n",
    " * __3. Greater than(>)__\n",
    " * __4. Greater than(>=)__\n",
    " * __5. Equal to(==)__\n",
    " * __6. Not equal to(!=)__"
   ]
  },
  {
   "cell_type": "code",
   "execution_count": 12,
   "id": "f340b123",
   "metadata": {},
   "outputs": [
    {
     "name": "stdout",
     "output_type": "stream",
     "text": [
      "True\n",
      "False\n",
      "True\n",
      "False\n",
      "True\n",
      "True\n",
      "True\n",
      "False\n",
      "True\n",
      "True\n",
      "False\n"
     ]
    }
   ],
   "source": [
    "# Take a variable\n",
    "\n",
    "ratio= 1.618\n",
    "\n",
    "print(ratio<2)\n",
    "print(ratio>2)\n",
    "print(ratio<=2)\n",
    "print(ratio>=2)\n",
    "print(ratio>1)\n",
    "print(ratio>=1)\n",
    "print(ratio>=1.618)\n",
    "\n",
    "print(ratio==2)\n",
    "print(ratio==1.618)\n",
    "\n",
    "\n",
    "print(ratio!=2)\n",
    "print(ratio!=1.618)"
   ]
  },
  {
   "cell_type": "markdown",
   "id": "4511fc43",
   "metadata": {},
   "source": [
    "# Branching (if,elif,else)\n",
    "\n",
    " * __Decision making is required when we want to execute a code only if a certain condition is satisfied.__\n",
    " * __The if/elif/else statement can be combined with an if statement.__\n",
    " * __An else statement can be combinded with an if statement.__\n",
    " * __An else statement contains the block of code that executes if the conditional expression in the if statement resolves to 0 or False value.__\n",
    " * __The else statement is an optional statement and there could be at most only one else statement following if.__\n",
    " * __The elif statement allows you to check multiple expression for True and execute a block of code as soon as one the conditions evaluates to True.__\n",
    " * __Similar to the else, the elif statement is optional.__\n",
    " * __However, unlike else, for which there can be at most one statement, there can be an arbitrary number of elif statement following an if.__"
   ]
  },
  {
   "cell_type": "code",
   "execution_count": 18,
   "id": "3cf2584b",
   "metadata": {},
   "outputs": [
    {
     "name": "stdout",
     "output_type": "stream",
     "text": [
      "The pi 3.14 is greater than ratio 1.618\n"
     ]
    }
   ],
   "source": [
    "pi=3.14\n",
    "ratio=1.618\n",
    "\n",
    "if pi>ratio:\n",
    "    print(f'The pi {pi} is greater than ratio {ratio}')\n",
    "else:\n",
    "    print(f'The ratio {ratio} is lower than pi {pi}')"
   ]
  },
  {
   "cell_type": "code",
   "execution_count": 20,
   "id": "8153e3b1",
   "metadata": {},
   "outputs": [
    {
     "name": "stdout",
     "output_type": "stream",
     "text": [
      "You can to to Kindergarten.\n"
     ]
    }
   ],
   "source": [
    "age=5\n",
    "\n",
    "if age>6:\n",
    "    print('You can go to Primary School')\n",
    "elif age==5:\n",
    "    print('You can to to Kindergarten.')\n",
    "    \n",
    "else:\n",
    "    print('You are a Baby')"
   ]
  },
  {
   "cell_type": "code",
   "execution_count": 23,
   "id": "744eb698",
   "metadata": {},
   "outputs": [
    {
     "name": "stdout",
     "output_type": "stream",
     "text": [
      "Enter your age:\n",
      "18\n",
      "You can vote Because your are now 18 years\n"
     ]
    }
   ],
   "source": [
    "# Write a program to check the age of people is eligible for voting or not.?\n",
    "\n",
    "age=int(input('Enter your age:\\n'))\n",
    "\n",
    "if age>18:\n",
    "    print('You can vote')\n",
    "elif age==18:\n",
    "    print('You can vote Because your are now 18 years')\n",
    "else:\n",
    "    print('You cannot Vote')"
   ]
  },
  {
   "cell_type": "code",
   "execution_count": null,
   "id": "db29609f",
   "metadata": {},
   "outputs": [],
   "source": []
  }
 ],
 "metadata": {
  "kernelspec": {
   "display_name": "Python 3 (ipykernel)",
   "language": "python",
   "name": "python3"
  },
  "language_info": {
   "codemirror_mode": {
    "name": "ipython",
    "version": 3
   },
   "file_extension": ".py",
   "mimetype": "text/x-python",
   "name": "python",
   "nbconvert_exporter": "python",
   "pygments_lexer": "ipython3",
   "version": "3.9.13"
  }
 },
 "nbformat": 4,
 "nbformat_minor": 5
}
