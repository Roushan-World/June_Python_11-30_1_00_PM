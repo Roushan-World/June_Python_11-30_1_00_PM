{
 "cells": [
  {
   "cell_type": "markdown",
   "id": "0643b39c",
   "metadata": {},
   "source": [
    "# 7. Conditions in Python\n",
    "\n",
    "# Comparison Operators\n",
    "\n",
    "__Comparison operators compare some value or operand and based on condition, produce a Boolean. Python has six comparison operators as below:__\n",
    "\n",
    " * __1. Less than(<)__\n",
    " * __2. Less than or equal to(<=)__\n",
    " * __3. Greater than(>)__\n",
    " * __4. Greater than(>=)__\n",
    " * __5. Equal to(==)__\n",
    " * __6. Not equal to(!=)__"
   ]
  },
  {
   "cell_type": "code",
   "execution_count": 12,
   "id": "f340b123",
   "metadata": {},
   "outputs": [
    {
     "name": "stdout",
     "output_type": "stream",
     "text": [
      "True\n",
      "False\n",
      "True\n",
      "False\n",
      "True\n",
      "True\n",
      "True\n",
      "False\n",
      "True\n",
      "True\n",
      "False\n"
     ]
    }
   ],
   "source": [
    "# Take a variable\n",
    "\n",
    "ratio= 1.618\n",
    "\n",
    "print(ratio<2)\n",
    "print(ratio>2)\n",
    "print(ratio<=2)\n",
    "print(ratio>=2)\n",
    "print(ratio>1)\n",
    "print(ratio>=1)\n",
    "print(ratio>=1.618)\n",
    "\n",
    "print(ratio==2)\n",
    "print(ratio==1.618)\n",
    "\n",
    "\n",
    "print(ratio!=2)\n",
    "print(ratio!=1.618)"
   ]
  },
  {
   "cell_type": "markdown",
   "id": "4511fc43",
   "metadata": {},
   "source": [
    "# Branching (if,elif,else)\n",
    "\n",
    " * __Decision making is required when we want to execute a code only if a certain condition is satisfied.__\n",
    " * __The if/elif/else statement can be combined with an if statement.__\n",
    " * __An else statement can be combinded with an if statement.__\n",
    " * __An else statement contains the block of code that executes if the conditional expression in the if statement resolves to 0 or False value.__\n",
    " * __The else statement is an optional statement and there could be at most only one else statement following if.__\n",
    " * __The elif statement allows you to check multiple expression for True and execute a block of code as soon as one the conditions evaluates to True.__\n",
    " * __Similar to the else, the elif statement is optional.__\n",
    " * __However, unlike else, for which there can be at most one statement, there can be an arbitrary number of elif statement following an if.__"
   ]
  },
  {
   "cell_type": "code",
   "execution_count": 18,
   "id": "3cf2584b",
   "metadata": {},
   "outputs": [
    {
     "name": "stdout",
     "output_type": "stream",
     "text": [
      "The pi 3.14 is greater than ratio 1.618\n"
     ]
    }
   ],
   "source": [
    "pi=3.14\n",
    "ratio=1.618\n",
    "\n",
    "if pi>ratio:\n",
    "    print(f'The pi {pi} is greater than ratio {ratio}')\n",
    "else:\n",
    "    print(f'The ratio {ratio} is lower than pi {pi}')"
   ]
  },
  {
   "cell_type": "code",
   "execution_count": 20,
   "id": "8153e3b1",
   "metadata": {},
   "outputs": [
    {
     "name": "stdout",
     "output_type": "stream",
     "text": [
      "You can to to Kindergarten.\n"
     ]
    }
   ],
   "source": [
    "age=5\n",
    "\n",
    "if age>6:\n",
    "    print('You can go to Primary School')\n",
    "elif age==5:\n",
    "    print('You can to to Kindergarten.')\n",
    "    \n",
    "else:\n",
    "    print('You are a Baby')"
   ]
  },
  {
   "cell_type": "code",
   "execution_count": 23,
   "id": "744eb698",
   "metadata": {},
   "outputs": [
    {
     "name": "stdout",
     "output_type": "stream",
     "text": [
      "Enter your age:\n",
      "18\n",
      "You can vote Because your are now 18 years\n"
     ]
    }
   ],
   "source": [
    "# Write a program to check the age of people is eligible for voting or not.?\n",
    "\n",
    "age=int(input('Enter your age:\\n'))\n",
    "\n",
    "if age>18:\n",
    "    print('You can vote')\n",
    "elif age==18:\n",
    "    print('You can vote Because your are now 18 years')\n",
    "else:\n",
    "    print('You cannot Vote')"
   ]
  },
  {
   "cell_type": "code",
   "execution_count": 3,
   "id": "db29609f",
   "metadata": {},
   "outputs": [
    {
     "name": "stdout",
     "output_type": "stream",
     "text": [
      "Enter any number from 1 to 12:\n",
      "13\n",
      "Invalid Syntax\n"
     ]
    }
   ],
   "source": [
    "# Write a python program to display 1 for january and December = 12?\n",
    "\n",
    "month=int(input('Enter any number from 1 to 12:\\n'))\n",
    "\n",
    "if month==1:\n",
    "    print('Month Name is: JANUARY')\n",
    "    \n",
    "elif month==2:\n",
    "    print('Month Name is: FEBRUARY')\n",
    "elif month==3:\n",
    "    print('Month Name is: MARCH')\n",
    "elif month==4:\n",
    "    print('Month Name is: APRIL')\n",
    "elif month==5:\n",
    "    print('Month Name is: MAY')\n",
    "elif month==6:\n",
    "    print('Month Name is: JUNE')\n",
    "elif month==7:\n",
    "    print('Month Name is: JULY')\n",
    "elif month==8:\n",
    "    print('Month Name is: AUGUST')\n",
    "elif month==9:\n",
    "    print('Month Name is: SEPTEMBER')\n",
    "elif month==10:\n",
    "    print('Month Name is: OCTOBER')\n",
    "elif month==11:\n",
    "    print('Month Name is: NOVEMBER')\n",
    "elif month==12:\n",
    "    print('Month Name is: DECEMBER')\n",
    "else:\n",
    "    print('Invalid Syntax')"
   ]
  },
  {
   "cell_type": "code",
   "execution_count": 4,
   "id": "b85ccce8",
   "metadata": {},
   "outputs": [],
   "source": [
    "# Write a program to display weekday just 1= Sunday and 7= Saturday. "
   ]
  },
  {
   "cell_type": "code",
   "execution_count": 5,
   "id": "f25c355a",
   "metadata": {},
   "outputs": [
    {
     "name": "stdout",
     "output_type": "stream",
     "text": [
      "Enter any number:21656961\n",
      "Odd number\n"
     ]
    }
   ],
   "source": [
    "# Write a program to display even number from the user input number.\n",
    "\n",
    "number=int(input('Enter any number:'))\n",
    "\n",
    "if number%2==0:\n",
    "    print('Even number')\n",
    "    \n",
    "else:\n",
    "    print('Odd number')"
   ]
  },
  {
   "cell_type": "code",
   "execution_count": 6,
   "id": "80e578c1",
   "metadata": {},
   "outputs": [],
   "source": [
    "# Write a program to display divisiblity of 7 from the user input number."
   ]
  },
  {
   "cell_type": "code",
   "execution_count": 10,
   "id": "557f85a4",
   "metadata": {},
   "outputs": [
    {
     "name": "stdout",
     "output_type": "stream",
     "text": [
      "enter any per 39\n",
      "fail\n"
     ]
    }
   ],
   "source": [
    "# Write a program to accept percentage and display the Category according to the following criteria:\n",
    "\n",
    "# Percentage--------------------> Category\n",
    "# <40---------------------------> \"Failed\"\n",
    "# >=40 and <55------------------> \"Fair\"\n",
    "# >=55 and <65 -----------------> \"Good\"\n",
    "# >65---------------------------> \"Excellent\"\n",
    "\n",
    "\n",
    "per=int(input (\"enter any per \"))\n",
    "if per<=40:\n",
    "    print (\"fail\")\n",
    "    \n",
    "elif 40<=per<=55:\n",
    "    print(\"fair\")\n",
    "    \n",
    "elif 55<per<=65:\n",
    "    print(\"good\")\n",
    "    \n",
    "elif 65<per<=100:\n",
    "    print(\"excellent\")\n",
    "    \n",
    "else:\n",
    "    print (\"invalid\")"
   ]
  },
  {
   "cell_type": "code",
   "execution_count": 11,
   "id": "db4e0cc9",
   "metadata": {},
   "outputs": [
    {
     "name": "stdout",
     "output_type": "stream",
     "text": [
      "Enter the First age:\n",
      "35\n",
      "Enter the Second age:\n",
      "34\n",
      "Enter the Third age:\n",
      "58\n",
      "Enter the Fouth age:\n",
      "28\n",
      "58 is oldest from 35,34 and 28\n"
     ]
    }
   ],
   "source": [
    "# Accept the age of 4 people and display the oldest one\n",
    "\n",
    "age1=int(input('Enter the First age:\\n'))\n",
    "age2=int(input('Enter the Second age:\\n'))\n",
    "age3=int(input('Enter the Third age:\\n'))\n",
    "age4=int(input('Enter the Fouth age:\\n'))\n",
    "\n",
    "if age1>age2 and age1>age3 and age1>age4:\n",
    "    print(f'{age1} is oldest from {age2},{age3} and {age4}')\n",
    "    \n",
    "elif age2>age1 and age2>age3 and age2>age4:\n",
    "    print(f'{age2} is oldest from {age1},{age3} and {age4}')\n",
    "elif age3>age1 and age3>age2 and age3>age4:\n",
    "    print(f'{age3} is oldest from {age1},{age2} and {age4}')\n",
    "elif age4>age1 and age4>age2 and age4>age3:\n",
    "    print(f'{age4} is oldest from {age1},{age2} and {age3}')\n",
    "else:\n",
    "    print('Invalid Syntax')"
   ]
  },
  {
   "cell_type": "code",
   "execution_count": 14,
   "id": "05d36f56",
   "metadata": {},
   "outputs": [
    {
     "name": "stdout",
     "output_type": "stream",
     "text": [
      "enter age 45\n",
      "enter age 46\n",
      "enter age 42\n",
      "enter age 13\n",
      "13 is smaller than 45,46 and 42\n"
     ]
    }
   ],
   "source": [
    "# Accept the age of 4 people and display the youngest one\n",
    "age1=int(input(\"enter age \"))\n",
    "age2=int(input(\"enter age \"))\n",
    "age3=int(input(\"enter age \"))\n",
    "age4=int(input(\"enter age \"))\n",
    "\n",
    "if age1<age2 and age1<age3 and age1<age4:\n",
    "    print (f'{age1} is smaller than {age2},{age3} and {age4}')\n",
    "\n",
    "elif age2<age1 and age2<age3 and age2<age4:\n",
    "    print (f'{age2} is smaller than {age1},{age3} and {age4}')\n",
    "    \n",
    "elif age3<age1 and age3<age2 and age3<age4:\n",
    "    print (f'{age3} is smaller than {age1},{age2} and {age4}')\n",
    "    \n",
    "else:\n",
    "    print (f'{age4} is smaller than {age1},{age2} and {age3}')"
   ]
  },
  {
   "cell_type": "code",
   "execution_count": 18,
   "id": "0f1dcf9c",
   "metadata": {},
   "outputs": [
    {
     "name": "stdout",
     "output_type": "stream",
     "text": [
      "enter the city lUCKNOW\n",
      "bara\n"
     ]
    }
   ],
   "source": [
    "# Accept any city from the user and display monumnet of that city.\n",
    "# City--------------------> Monument\n",
    "# Delhi-------------------> Red Fort\n",
    "# Agra -------------------> Tajmahal\n",
    "# Jaipur------------------> Jal Mahal\n",
    "# Pune--------------------> Shaniwar wada\n",
    "# Mumbai -----------------> India Gate\n",
    "# Gaya -------------------> BodhGaya\n",
    "# Lucknow ----------------> Bara Immambara\n",
    "\n",
    "city=(input(\"enter the city \"))\n",
    "\n",
    "if city.lower()==\"delhi\":\n",
    "    print ('Red fort')\n",
    "\n",
    "elif city.lower()==\"agra\":\n",
    "    print ('Taj mahal')\n",
    "    \n",
    "elif city.lower()==\"jaipur\":\n",
    "    print ('Jal mahal')\n",
    "    \n",
    "elif city.lower()==\"pune\":\n",
    "    print ('shanivar wada')\n",
    "    \n",
    "elif city.lower()==\"munbai\":\n",
    "    print ('India Gate')\n",
    "    \n",
    "elif city.lower()==\"gaya\":\n",
    "    print ('bodhgaya')\n",
    "    \n",
    "elif city.lower()==\"lucknow\":\n",
    "    print ('Bara Immambara')\n",
    "    \n",
    "else:\n",
    "    print (\"city is no in the regster sry \" )"
   ]
  },
  {
   "cell_type": "code",
   "execution_count": 20,
   "id": "8ae7b2b8",
   "metadata": {},
   "outputs": [
    {
     "name": "stdout",
     "output_type": "stream",
     "text": [
      "enter no45\n",
      "positive\n"
     ]
    }
   ],
   "source": [
    "# Wrte a program to check wheter a number is (accepted from user) is positive or negative.\n",
    "\n",
    "num=int(input(\"enter no\"))\n",
    "if num>=0:\n",
    "    print (\"positive\")\n",
    "else:\n",
    "    print (\"negative\")"
   ]
  },
  {
   "cell_type": "code",
   "execution_count": 22,
   "id": "a8d89dcf",
   "metadata": {},
   "outputs": [
    {
     "name": "stdout",
     "output_type": "stream",
     "text": [
      "enter no 15\n",
      "The number 15 is div by 3 but not by 2\n"
     ]
    }
   ],
   "source": [
    "# Write a program to check wheter a number is divisible by 2 and 3 both.\n",
    "\n",
    "num=int(input(\"enter no \"))\n",
    "\n",
    "if num%2==0 and num%3!=0:\n",
    "    print (f'The number {num} is div by 2 but not by 3')\n",
    "    \n",
    "elif num%2!=0 and num%3==0:\n",
    "    print (f'The number {num} is div by 3 but not by 2')\n",
    "    \n",
    "elif num%6==0:\n",
    "    print (f'The number {num} is div by both 2 and 3')\n",
    "    \n",
    "else :\n",
    "    print (f'the number {num} is not div by both 2 and 3')\n",
    "    "
   ]
  },
  {
   "cell_type": "code",
   "execution_count": null,
   "id": "1fc1272f",
   "metadata": {},
   "outputs": [],
   "source": []
  }
 ],
 "metadata": {
  "kernelspec": {
   "display_name": "Python 3 (ipykernel)",
   "language": "python",
   "name": "python3"
  },
  "language_info": {
   "codemirror_mode": {
    "name": "ipython",
    "version": 3
   },
   "file_extension": ".py",
   "mimetype": "text/x-python",
   "name": "python",
   "nbconvert_exporter": "python",
   "pygments_lexer": "ipython3",
   "version": "3.9.13"
  }
 },
 "nbformat": 4,
 "nbformat_minor": 5
}
