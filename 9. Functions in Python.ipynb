{
 "cells": [
  {
   "cell_type": "markdown",
   "id": "d6631eb8",
   "metadata": {},
   "source": [
    "# 9. Functions in Python\n",
    "\n",
    "\n",
    " * __In Python, a function is a group of related statements that performs a specific task.__\n",
    " * __Functions help break our program into smaller and modular chunks. * As our program grows larger and larger, functions make it more organized and manageable.__\n",
    " * __Furthermore, it avoids repetition and makes the code reusable.__\n",
    " * __There are two types of function:__\n",
    " * __Pre-defined functions.__\n",
    " * __User-defined function.__\n",
    " * __In Python a function id defined using the def keyword followed by the function name and parentheses ().__\n",
    " * __Keyword def that marks the start of the function header.__\n",
    " * __A function name to uniquely identify the function.__\n",
    " * __Function naming follows the same rule of writing identifiers in Python.__\n",
    " * __Parameters (arguments) through which we pass values to a function. They are optional.__\n",
    " * __A colon(:) to mark the end of the function header.__\n",
    " * __Optional documentation string (docstring) to describe what the function does.__\n",
    " * __One or more valid python statements that make up the function body.__\n",
    " * __Statements must have the same identation level (usually 4 spaces).__\n",
    " * __An optional return statements to return a value from the function.__"
   ]
  },
  {
   "cell_type": "code",
   "execution_count": 2,
   "id": "0e9c0596",
   "metadata": {},
   "outputs": [
    {
     "name": "stdout",
     "output_type": "stream",
     "text": [
      "If you make the above operations with 10, the result will be 2,18,80,1.25\n"
     ]
    },
    {
     "data": {
      "text/plain": [
       "(2, 18, 80, 1.25)"
      ]
     },
     "execution_count": 2,
     "metadata": {},
     "output_type": "execute_result"
    }
   ],
   "source": [
    "# take a function sample\n",
    "def process(x):   #arguments\n",
    "    y1=x-8\n",
    "    y2=x+8\n",
    "    y3=x*8\n",
    "    y4=x/8\n",
    "    print(f'If you make the above operations with {x}, the result will be {y1},{y2},{y3},{y4}')\n",
    "    return y1,y2,y3,y4\n",
    "\n",
    "process(10)   # parameters"
   ]
  },
  {
   "cell_type": "code",
   "execution_count": 3,
   "id": "3fb38acd",
   "metadata": {},
   "outputs": [
    {
     "name": "stdout",
     "output_type": "stream",
     "text": [
      "If you make the above operations with 20, the result will be 12,28,160,2.5\n"
     ]
    },
    {
     "data": {
      "text/plain": [
       "(12, 28, 160, 2.5)"
      ]
     },
     "execution_count": 3,
     "metadata": {},
     "output_type": "execute_result"
    }
   ],
   "source": [
    "process(20)"
   ]
  },
  {
   "cell_type": "code",
   "execution_count": 4,
   "id": "36940000",
   "metadata": {},
   "outputs": [
    {
     "name": "stdout",
     "output_type": "stream",
     "text": [
      "If you make the above operations with 50, the result will be 42,58,400,6.25\n"
     ]
    },
    {
     "data": {
      "text/plain": [
       "(42, 58, 400, 6.25)"
      ]
     },
     "execution_count": 4,
     "metadata": {},
     "output_type": "execute_result"
    }
   ],
   "source": [
    "process(50)"
   ]
  },
  {
   "cell_type": "code",
   "execution_count": 5,
   "id": "6acaadcf",
   "metadata": {},
   "outputs": [
    {
     "name": "stdout",
     "output_type": "stream",
     "text": [
      "If you make the above operations with 100, the result will be 92,108,800,12.5\n"
     ]
    },
    {
     "data": {
      "text/plain": [
       "(92, 108, 800, 12.5)"
      ]
     },
     "execution_count": 5,
     "metadata": {},
     "output_type": "execute_result"
    }
   ],
   "source": [
    "process(100)"
   ]
  },
  {
   "cell_type": "markdown",
   "id": "63a3e57b",
   "metadata": {},
   "source": [
    "# Function with multiple parameters"
   ]
  },
  {
   "cell_type": "code",
   "execution_count": 8,
   "id": "d104f1d6",
   "metadata": {},
   "outputs": [
    {
     "name": "stdout",
     "output_type": "stream",
     "text": [
      "135\n"
     ]
    }
   ],
   "source": [
    "def multi(x,y):\n",
    "    z = 2*x+5*y+45\n",
    "    return z\n",
    "output=multi(20,10)\n",
    "print(output)"
   ]
  },
  {
   "cell_type": "code",
   "execution_count": 9,
   "id": "a25beb69",
   "metadata": {},
   "outputs": [
    {
     "name": "stdout",
     "output_type": "stream",
     "text": [
      "945\n"
     ]
    }
   ],
   "source": [
    "print(multi(200,100))"
   ]
  },
  {
   "cell_type": "markdown",
   "id": "cee9a44b",
   "metadata": {},
   "source": [
    "# Variables\n",
    "\n",
    " * __The input to a function is called a formal parameter.__\n",
    " * __A variable that is declared inside a function is called a local variable.__\n",
    " * __The parameter only exists within the function(i.e. the point where the function starts and stops).__\n",
    " * __A variable that is delared outside a function definition is a global variable, and its value is accessible and modifiable thought the program.__"
   ]
  },
  {
   "cell_type": "code",
   "execution_count": 3,
   "id": "9be7ce10",
   "metadata": {},
   "outputs": [
    {
     "name": "stdout",
     "output_type": "stream",
     "text": [
      "If you make the above operation with 10, the result will be 258.08052\n"
     ]
    },
    {
     "data": {
      "text/plain": [
       "258.08052"
      ]
     },
     "execution_count": 3,
     "metadata": {},
     "output_type": "execute_result"
    }
   ],
   "source": [
    "# define a function\n",
    "\n",
    "d=0   # d is global variabe because it is outside the function\n",
    "\n",
    "def function(x):\n",
    "    y=3.14      #y and z are local variabe because it is inside the function\n",
    "    z=3+25*x+1.618*y\n",
    "    print(f'If you make the above operation with {x}, the result will be {z}')\n",
    "    return z\n",
    "function(10)\n"
   ]
  },
  {
   "cell_type": "code",
   "execution_count": 5,
   "id": "052e8484",
   "metadata": {},
   "outputs": [
    {
     "name": "stdout",
     "output_type": "stream",
     "text": [
      "If you make the above operation with -50, the result will be -1241.91948\n"
     ]
    },
    {
     "data": {
      "text/plain": [
       "-1241.91948"
      ]
     },
     "execution_count": 5,
     "metadata": {},
     "output_type": "execute_result"
    }
   ],
   "source": [
    "function(-50)"
   ]
  },
  {
   "cell_type": "markdown",
   "id": "7f353a4f",
   "metadata": {},
   "source": [
    "# Without return statement, the function returns None. "
   ]
  },
  {
   "cell_type": "code",
   "execution_count": 7,
   "id": "1fbed8da",
   "metadata": {},
   "outputs": [
    {
     "name": "stdout",
     "output_type": "stream",
     "text": [
      "Hello World\n",
      "Hello Python\n"
     ]
    }
   ],
   "source": [
    "def msg1():\n",
    "    print('Hello World')\n",
    "def msg2():\n",
    "    print('Hello Python')\n",
    "    return None\n",
    "\n",
    "msg1()\n",
    "msg2()"
   ]
  },
  {
   "cell_type": "code",
   "execution_count": 8,
   "id": "642e58a6",
   "metadata": {},
   "outputs": [
    {
     "name": "stdout",
     "output_type": "stream",
     "text": [
      "Hello World\n",
      "None\n"
     ]
    }
   ],
   "source": [
    "print(msg1())"
   ]
  },
  {
   "cell_type": "code",
   "execution_count": 9,
   "id": "7d5005b2",
   "metadata": {},
   "outputs": [
    {
     "name": "stdout",
     "output_type": "stream",
     "text": [
      "Hello Python\n",
      "None\n"
     ]
    }
   ],
   "source": [
    "print(msg2())"
   ]
  },
  {
   "cell_type": "markdown",
   "id": "bc4a705b",
   "metadata": {},
   "source": [
    "# Concatenation in functions"
   ]
  },
  {
   "cell_type": "code",
   "execution_count": 10,
   "id": "54ea30f0",
   "metadata": {},
   "outputs": [
    {
     "data": {
      "text/plain": [
       "'Akhilesh Gawade'"
      ]
     },
     "execution_count": 10,
     "metadata": {},
     "output_type": "execute_result"
    }
   ],
   "source": [
    "def string(x,y):\n",
    "    return x+y\n",
    "string('Akhilesh',' Gawade')"
   ]
  },
  {
   "cell_type": "code",
   "execution_count": 11,
   "id": "a16b8d5d",
   "metadata": {},
   "outputs": [
    {
     "data": {
      "text/plain": [
       "'Amitabh Bacchan'"
      ]
     },
     "execution_count": 11,
     "metadata": {},
     "output_type": "execute_result"
    }
   ],
   "source": [
    "string('Amitabh',' Bacchan')"
   ]
  },
  {
   "cell_type": "code",
   "execution_count": 12,
   "id": "ad97ac44",
   "metadata": {},
   "outputs": [
    {
     "data": {
      "text/plain": [
       "90"
      ]
     },
     "execution_count": 12,
     "metadata": {},
     "output_type": "execute_result"
    }
   ],
   "source": [
    "string(40,50)"
   ]
  },
  {
   "cell_type": "markdown",
   "id": "a6a39d56",
   "metadata": {},
   "source": [
    "# Global Variable\n",
    "\n",
    " * __Variable that are created outside of a function(as in all the example above) are known as global variable.__\n",
    " * __Global variables can be used by everyone, both inside of function and outside.__"
   ]
  },
  {
   "cell_type": "code",
   "execution_count": 21,
   "id": "741c5fcc",
   "metadata": {},
   "outputs": [
    {
     "name": "stdout",
     "output_type": "stream",
     "text": [
      "Python is programming language.\n"
     ]
    },
    {
     "ename": "NameError",
     "evalue": "name 'global_var' is not defined",
     "output_type": "error",
     "traceback": [
      "\u001b[1;31m---------------------------------------------------------------------------\u001b[0m",
      "\u001b[1;31mNameError\u001b[0m                                 Traceback (most recent call last)",
      "\u001b[1;32m~\\AppData\\Local\\Temp\\ipykernel_6372\\2906188616.py\u001b[0m in \u001b[0;36m<module>\u001b[1;34m\u001b[0m\n\u001b[0;32m      6\u001b[0m     \u001b[1;31m# print(f'{global_var} is also programming language')\u001b[0m\u001b[1;33m\u001b[0m\u001b[1;33m\u001b[0m\u001b[0m\n\u001b[0;32m      7\u001b[0m \u001b[0mlang\u001b[0m\u001b[1;33m(\u001b[0m\u001b[0mlanguage\u001b[0m\u001b[1;33m)\u001b[0m\u001b[1;33m\u001b[0m\u001b[1;33m\u001b[0m\u001b[0m\n\u001b[1;32m----> 8\u001b[1;33m \u001b[0mlang\u001b[0m\u001b[1;33m(\u001b[0m\u001b[0mglobal_var\u001b[0m\u001b[1;33m)\u001b[0m\u001b[1;33m\u001b[0m\u001b[1;33m\u001b[0m\u001b[0m\n\u001b[0m",
      "\u001b[1;31mNameError\u001b[0m: name 'global_var' is not defined"
     ]
    }
   ],
   "source": [
    "language='Python'   #global variable\n",
    "\n",
    "def lang(language):\n",
    "    global_var=language\n",
    "    print(f'{language} is programming language.')\n",
    "    # print(f'{global_var} is also programming language')\n",
    "lang(language)\n",
    "lang(global_var)   # it is not callable because it is local it works only inside the function."
   ]
  },
  {
   "cell_type": "markdown",
   "id": "7b326dfe",
   "metadata": {},
   "source": [
    "# Variables in functions\n",
    "\n",
    " * __The scope of variable is the part of the program to which that variable is accessible.__\n",
    " * __Variables declared outside all the function definitions can be accessed from anywhere in the program.__\n",
    " * __Consequently, such variables are said to have global scope and are known as global variable.__"
   ]
  },
  {
   "cell_type": "code",
   "execution_count": null,
   "id": "f8cc3351",
   "metadata": {},
   "outputs": [],
   "source": []
  }
 ],
 "metadata": {
  "kernelspec": {
   "display_name": "Python 3 (ipykernel)",
   "language": "python",
   "name": "python3"
  },
  "language_info": {
   "codemirror_mode": {
    "name": "ipython",
    "version": 3
   },
   "file_extension": ".py",
   "mimetype": "text/x-python",
   "name": "python",
   "nbconvert_exporter": "python",
   "pygments_lexer": "ipython3",
   "version": "3.9.13"
  }
 },
 "nbformat": 4,
 "nbformat_minor": 5
}
