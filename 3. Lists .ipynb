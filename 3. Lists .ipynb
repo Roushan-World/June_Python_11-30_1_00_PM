{
 "cells": [
  {
   "cell_type": "markdown",
   "id": "cff8cf46",
   "metadata": {},
   "source": [
    "# 3. Lists \n",
    "\n",
    "\n",
    "  __* Lists are ordered__\n",
    " \n",
    "  __* Lists can contain any arbitrary objects.__\n",
    " \n",
    "  __* Lists elements can be accessed by index.__\n",
    " \n",
    "  __* Lists can be nested to arbitrary depth.__\n",
    " \n",
    "  __* Lists are mutable.__\n",
    " \n",
    "  __* Lists are dynamic.__\n",
    " "
   ]
  },
  {
   "cell_type": "code",
   "execution_count": 1,
   "id": "7ab62e61",
   "metadata": {},
   "outputs": [
    {
     "data": {
      "text/plain": [
       "['Python',\n",
       " 25,\n",
       " 2023,\n",
       " 3.147,\n",
       " 1.618,\n",
       " True,\n",
       " False,\n",
       " ('Akhilesh', 3.147, 789),\n",
       " [True, False, 1.618]]"
      ]
     },
     "execution_count": 1,
     "metadata": {},
     "output_type": "execute_result"
    }
   ],
   "source": [
    "# Creating a list.\n",
    "\n",
    "\n",
    "nlis=['Python',25,2023,3.147,1.618,True,False,('Akhilesh',3.147,789),[True,False,1.618]]\n",
    "nlis"
   ]
  },
  {
   "cell_type": "code",
   "execution_count": 2,
   "id": "8fb51458",
   "metadata": {},
   "outputs": [
    {
     "data": {
      "text/plain": [
       "list"
      ]
     },
     "execution_count": 2,
     "metadata": {},
     "output_type": "execute_result"
    }
   ],
   "source": [
    "type(nlis)"
   ]
  },
  {
   "cell_type": "code",
   "execution_count": 5,
   "id": "75597a69",
   "metadata": {},
   "outputs": [
    {
     "name": "stdout",
     "output_type": "stream",
     "text": [
      "Positive and negative indexing of the first element:\n",
      "-Positive index: Python \n",
      "-Negative index: Python\n",
      "Positive and negative indexing of the first element:\n",
      "-Positive index: 25 \n",
      "-Negative index: 25\n",
      "Positive and negative indexing of the first element:\n",
      "-Positive index: 2023 \n",
      "-Negative index: 2023\n",
      "Positive and negative indexing of the first element:\n",
      "-Positive index: 3.147 \n",
      "-Negative index: 3.147\n",
      "Positive and negative indexing of the first element:\n",
      "-Positive index: 1.618 \n",
      "-Negative index: 1.618\n",
      "Positive and negative indexing of the first element:\n",
      "-Positive index: True \n",
      "-Negative index: True\n",
      "Positive and negative indexing of the first element:\n",
      "-Positive index: False \n",
      "-Negative index: False\n",
      "Positive and negative indexing of the first element:\n",
      "-Positive index: ('Akhilesh', 3.147, 789) \n",
      "-Negative index: ('Akhilesh', 3.147, 789)\n",
      "Positive and negative indexing of the first element:\n",
      "-Positive index: [True, False, 1.618] \n",
      "-Negative index: [True, False, 1.618]\n"
     ]
    }
   ],
   "source": [
    "print('Positive and negative indexing of the first element:\\n-Positive index:',nlis[0],'\\n-Negative index:',nlis[-9])\n",
    "print('Positive and negative indexing of the first element:\\n-Positive index:',nlis[1],'\\n-Negative index:',nlis[-8])\n",
    "print('Positive and negative indexing of the first element:\\n-Positive index:',nlis[2],'\\n-Negative index:',nlis[-7])\n",
    "print('Positive and negative indexing of the first element:\\n-Positive index:',nlis[3],'\\n-Negative index:',nlis[-6])\n",
    "print('Positive and negative indexing of the first element:\\n-Positive index:',nlis[4],'\\n-Negative index:',nlis[-5])\n",
    "print('Positive and negative indexing of the first element:\\n-Positive index:',nlis[5],'\\n-Negative index:',nlis[-4])\n",
    "print('Positive and negative indexing of the first element:\\n-Positive index:',nlis[6],'\\n-Negative index:',nlis[-3])\n",
    "print('Positive and negative indexing of the first element:\\n-Positive index:',nlis[7],'\\n-Negative index:',nlis[-2])\n",
    "print('Positive and negative indexing of the first element:\\n-Positive index:',nlis[8],'\\n-Negative index:',nlis[-1])"
   ]
  },
  {
   "cell_type": "markdown",
   "id": "186f0100",
   "metadata": {},
   "source": [
    "# What can content a list?\n",
    "\n",
    "  __* String__\n",
    "  \n",
    "  __* Floats__\n",
    "  \n",
    "  __* Integer__\n",
    "  \n",
    "  __* Nested List__\n",
    "  \n",
    "  __* Nested Tuple__\n",
    "  \n",
    "  __* Other data structures__"
   ]
  },
  {
   "cell_type": "markdown",
   "id": "d2799714",
   "metadata": {},
   "source": [
    "# List Operations"
   ]
  },
  {
   "cell_type": "code",
   "execution_count": 6,
   "id": "ee852228",
   "metadata": {},
   "outputs": [
    {
     "data": {
      "text/plain": [
       "['Python',\n",
       " 25,\n",
       " 2023,\n",
       " 3.147,\n",
       " 1.618,\n",
       " True,\n",
       " False,\n",
       " ('Akhilesh', 3.147, 789),\n",
       " [True, False, 1.618]]"
      ]
     },
     "execution_count": 6,
     "metadata": {},
     "output_type": "execute_result"
    }
   ],
   "source": [
    "nlis\n",
    "\n"
   ]
  },
  {
   "cell_type": "code",
   "execution_count": 7,
   "id": "4471c4e0",
   "metadata": {},
   "outputs": [
    {
     "data": {
      "text/plain": [
       "9"
      ]
     },
     "execution_count": 7,
     "metadata": {},
     "output_type": "execute_result"
    }
   ],
   "source": [
    "# Length of the list\n",
    "\n",
    "len(nlis)"
   ]
  },
  {
   "cell_type": "code",
   "execution_count": 14,
   "id": "b4987d92",
   "metadata": {},
   "outputs": [
    {
     "name": "stdout",
     "output_type": "stream",
     "text": [
      "['Python']\n",
      "[25]\n"
     ]
    }
   ],
   "source": [
    "# Slicing of the list\n",
    "\n",
    "print(nlis[0:1])\n",
    "print(nlis[1:2])\n"
   ]
  },
  {
   "cell_type": "code",
   "execution_count": 21,
   "id": "c310be37",
   "metadata": {},
   "outputs": [
    {
     "name": "stdout",
     "output_type": "stream",
     "text": [
      "[[True, False, 1.618]]\n",
      "[('Akhilesh', 3.147, 789)]\n"
     ]
    }
   ],
   "source": [
    "# negative indexing slicing\n",
    "print(nlis[-1:])\n",
    "print(nlis[-2:-1])"
   ]
  },
  {
   "cell_type": "code",
   "execution_count": 31,
   "id": "c4c90d5a",
   "metadata": {},
   "outputs": [
    {
     "name": "stdout",
     "output_type": "stream",
     "text": [
      "[10, 20, 30, 40]\n",
      "[10, 20, 30, 40, 50, 60, 70, 80]\n",
      "[5, 10, 20, 30, 40, 50, 60, 70, 80]\n",
      "[60, 5, 10, 20, 30, 40, 50, 60, 70, 80]\n"
     ]
    }
   ],
   "source": [
    "# append \n",
    "\n",
    "x= [10,20,30]\n",
    "x.append(40)\n",
    "print(x)\n",
    "\n",
    "#extend\n",
    "\n",
    "x.extend([50,60,70,80])\n",
    "print(x)\n",
    "\n",
    "# insert\n",
    "\n",
    "x.insert(0,5)\n",
    "print(x)\n",
    "x.insert(0,60)\n",
    "print(x)"
   ]
  },
  {
   "cell_type": "code",
   "execution_count": 32,
   "id": "78d6fe65",
   "metadata": {},
   "outputs": [
    {
     "data": {
      "text/plain": [
       "2"
      ]
     },
     "execution_count": 32,
     "metadata": {},
     "output_type": "execute_result"
    }
   ],
   "source": [
    "# count\n",
    "\n",
    "x.count(60)\n"
   ]
  },
  {
   "cell_type": "code",
   "execution_count": 33,
   "id": "a5bef7e3",
   "metadata": {},
   "outputs": [
    {
     "data": {
      "text/plain": [
       "1"
      ]
     },
     "execution_count": 33,
     "metadata": {},
     "output_type": "execute_result"
    }
   ],
   "source": [
    "x.count(10)"
   ]
  },
  {
   "cell_type": "code",
   "execution_count": 34,
   "id": "f2a90c2a",
   "metadata": {},
   "outputs": [
    {
     "data": {
      "text/plain": [
       "2"
      ]
     },
     "execution_count": 34,
     "metadata": {},
     "output_type": "execute_result"
    }
   ],
   "source": [
    "# index\n",
    "x.index(10)"
   ]
  },
  {
   "cell_type": "code",
   "execution_count": 36,
   "id": "40aabb08",
   "metadata": {},
   "outputs": [
    {
     "data": {
      "text/plain": [
       "[5, 10, 20, 30, 40, 50, 70, 80]"
      ]
     },
     "execution_count": 36,
     "metadata": {},
     "output_type": "execute_result"
    }
   ],
   "source": [
    "# remove \n",
    "x.remove(60)\n",
    "x"
   ]
  },
  {
   "cell_type": "code",
   "execution_count": 37,
   "id": "c617f741",
   "metadata": {},
   "outputs": [
    {
     "data": {
      "text/plain": [
       "[5, 10, 20, 30, 40, 50, 70]"
      ]
     },
     "execution_count": 37,
     "metadata": {},
     "output_type": "execute_result"
    }
   ],
   "source": [
    "# pop\n",
    "x.pop()\n",
    "x"
   ]
  },
  {
   "cell_type": "code",
   "execution_count": 42,
   "id": "9f9164de",
   "metadata": {},
   "outputs": [
    {
     "data": {
      "text/plain": [
       "[70, 50, 40, 30, 20, 10, 5]"
      ]
     },
     "execution_count": 42,
     "metadata": {},
     "output_type": "execute_result"
    }
   ],
   "source": [
    "# reverse\n",
    "\n",
    "x.reverse()\n",
    "x"
   ]
  },
  {
   "cell_type": "code",
   "execution_count": 45,
   "id": "7626e815",
   "metadata": {},
   "outputs": [
    {
     "data": {
      "text/plain": [
       "[5, 10, 20, 30, 40, 50, 70]"
      ]
     },
     "execution_count": 45,
     "metadata": {},
     "output_type": "execute_result"
    }
   ],
   "source": [
    "# sort\n",
    "x.sort()\n",
    "x"
   ]
  },
  {
   "cell_type": "markdown",
   "id": "84058eb4",
   "metadata": {},
   "source": [
    "# Copy the list"
   ]
  },
  {
   "cell_type": "code",
   "execution_count": 46,
   "id": "56b489c2",
   "metadata": {},
   "outputs": [
    {
     "data": {
      "text/plain": [
       "['Python',\n",
       " 25,\n",
       " 2023,\n",
       " 3.147,\n",
       " 1.618,\n",
       " True,\n",
       " False,\n",
       " ('Akhilesh', 3.147, 789),\n",
       " [True, False, 1.618]]"
      ]
     },
     "execution_count": 46,
     "metadata": {},
     "output_type": "execute_result"
    }
   ],
   "source": [
    "nlis"
   ]
  },
  {
   "cell_type": "code",
   "execution_count": 51,
   "id": "b989f111",
   "metadata": {},
   "outputs": [
    {
     "name": "stdout",
     "output_type": "stream",
     "text": [
      "[10, 20, 30, 40, 50, 60]\n",
      "[10, 20, 30, 40, 50, 60]\n",
      "['Hello Python', 20, 30, 40, 50, 60]\n",
      "['Hello Python', 20, 30, 40, 50, 60]\n"
     ]
    }
   ],
   "source": [
    "# Deep copy\n",
    "nlis1=[10,20,30,40,50,60]\n",
    "copy_nlis1=nlis1\n",
    "print(nlis1)\n",
    "print(copy_nlis1)\n",
    "nlis1[0]='Hello Python'\n",
    "print(nlis1)\n",
    "print(copy_nlis1)"
   ]
  },
  {
   "cell_type": "code",
   "execution_count": 58,
   "id": "4b7e9181",
   "metadata": {},
   "outputs": [
    {
     "name": "stdout",
     "output_type": "stream",
     "text": [
      "Original [10, 20, 30, 40, 50]\n",
      "copyed [10, 20, 30, 40, 50]\n",
      "['Akhilesh', 10, 20, 30, 40, 50]\n",
      "[10, 20, 30, 40, 50]\n"
     ]
    }
   ],
   "source": [
    "# Swallow copy\n",
    "\n",
    "nlis2=[10,20,30,40,50]\n",
    "copy_nlis2=nlis2.copy()\n",
    "print('Original',nlis2)\n",
    "print('copyed',copy_nlis2)\n",
    "\n",
    "nlis2.insert(0,'Akhilesh')\n",
    "print(nlis2)\n",
    "print(copy_nlis2)"
   ]
  },
  {
   "cell_type": "code",
   "execution_count": null,
   "id": "f982f9e0",
   "metadata": {},
   "outputs": [],
   "source": []
  }
 ],
 "metadata": {
  "kernelspec": {
   "display_name": "Python 3 (ipykernel)",
   "language": "python",
   "name": "python3"
  },
  "language_info": {
   "codemirror_mode": {
    "name": "ipython",
    "version": 3
   },
   "file_extension": ".py",
   "mimetype": "text/x-python",
   "name": "python",
   "nbconvert_exporter": "python",
   "pygments_lexer": "ipython3",
   "version": "3.9.13"
  }
 },
 "nbformat": 4,
 "nbformat_minor": 5
}
