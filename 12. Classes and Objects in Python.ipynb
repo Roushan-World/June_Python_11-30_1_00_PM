{
 "cells": [
  {
   "cell_type": "markdown",
   "id": "ab098df1",
   "metadata": {},
   "source": [
    "# 12. Classes and Objects in Python\n",
    "\n",
    "\n",
    " * __Python is an object-oriented programming language.__\n",
    " * __Unlike procedure-oriented programming, where the main emphasis is on functions, object-oriented programming stresses on objects.__\n",
    " * __An object is simply a collection of data (variables) and methods (functions) that act on those data.__\n",
    " * __Similarly, a class is a blueprint for that object.__\n",
    " * __Like function definitions begin with the def keyword in Python, class definitions begin with a class keyword.__\n",
    " * __The first string inside the class is called docstring and has a brief description of the class.__\n",
    " * __Although not mandatory, this is highly recommended.__"
   ]
  },
  {
   "cell_type": "code",
   "execution_count": 5,
   "id": "afc8b29d",
   "metadata": {},
   "outputs": [
    {
     "name": "stdout",
     "output_type": "stream",
     "text": [
      "3.14\n",
      "Akhilesh\n",
      "18\n"
     ]
    }
   ],
   "source": [
    "class Data:\n",
    "    num = 3.14\n",
    "    name= \"Akhilesh\"\n",
    "    age= 18\n",
    "    \n",
    "    \n",
    "var= Data()\n",
    "print(var.num)\n",
    "print(var.name)\n",
    "print(var.age)"
   ]
  },
  {
   "cell_type": "code",
   "execution_count": 8,
   "id": "a723ed33",
   "metadata": {},
   "outputs": [
    {
     "name": "stdout",
     "output_type": "stream",
     "text": [
      "Akhilesh\n",
      "17\n",
      "male\n"
     ]
    }
   ],
   "source": [
    "class details:\n",
    "    name='Akhilesh'\n",
    "    age=17\n",
    "    gender='male'\n",
    "    \n",
    "x=details()\n",
    "print(x.name)\n",
    "print(x.age)\n",
    "print(x.gender)"
   ]
  },
  {
   "cell_type": "code",
   "execution_count": 12,
   "id": "b6570e9b",
   "metadata": {},
   "outputs": [
    {
     "name": "stdout",
     "output_type": "stream",
     "text": [
      "Akhilesh\n",
      "17\n",
      "pune\n",
      "akhilesh@gmail.com\n"
     ]
    }
   ],
   "source": [
    "class information:\n",
    "    def __init__(self,name,age,address,gmail):\n",
    "        self.name=name\n",
    "        self.age=age\n",
    "        self.address=address\n",
    "        self.gmail=gmail\n",
    "value=information('Akhilesh',17,\"pune\",'akhilesh@gmail.com')\n",
    "print(value.name)\n",
    "print(value.age)\n",
    "print(value.address)\n",
    "print(value.gmail)"
   ]
  },
  {
   "cell_type": "code",
   "execution_count": 22,
   "id": "3ed87837",
   "metadata": {},
   "outputs": [
    {
     "name": "stdout",
     "output_type": "stream",
     "text": [
      "Surendra\n",
      "24\n",
      "Ahmedabad\n",
      "xyz@gmail.com\n"
     ]
    }
   ],
   "source": [
    "y=information('Surendra',24,'Ahmedabad','xyz@gmail.com')\n",
    "print(y.name)\n",
    "print(y.age)\n",
    "print(y.address)\n",
    "print(y.gmail)"
   ]
  },
  {
   "cell_type": "code",
   "execution_count": 20,
   "id": "827cf557",
   "metadata": {},
   "outputs": [
    {
     "name": "stdout",
     "output_type": "stream",
     "text": [
      "My name is Akhilesh\n",
      "My age is 17 years old.\n",
      "My city is that pune.\n",
      "You can mail me on akhilesh@gmail.com\n"
     ]
    }
   ],
   "source": [
    "class information:\n",
    "    def __init__(self,name,age,address,gmail):\n",
    "        self.name=name\n",
    "        self.age=age\n",
    "        self.address=address\n",
    "        self.gmail=gmail\n",
    "        \n",
    "    def msg_details(self):\n",
    "        print(f'My name is {self.name}')\n",
    "        print(f'My age is {self.age} years old.')\n",
    "        print(f'My city is that {self.address}.')\n",
    "        print(f'You can mail me on {self.gmail}')\n",
    "        \n",
    "value=information('Akhilesh',17,\"pune\",'akhilesh@gmail.com')\n",
    "value.msg_details()"
   ]
  },
  {
   "cell_type": "code",
   "execution_count": 23,
   "id": "f115ae57",
   "metadata": {},
   "outputs": [
    {
     "name": "stdout",
     "output_type": "stream",
     "text": [
      "My name is Surendra\n",
      "My age is 24 years old.\n",
      "My city is that Ahmedabad.\n",
      "You can mail me on xyz@gmail.com\n"
     ]
    }
   ],
   "source": [
    "y=information('Surendra',24,'Ahmedabad','xyz@gmail.com')\n",
    "y.msg_details()"
   ]
  },
  {
   "cell_type": "code",
   "execution_count": 24,
   "id": "f8f5bc2d",
   "metadata": {},
   "outputs": [
    {
     "name": "stdout",
     "output_type": "stream",
     "text": [
      "My name is Xyz\n",
      "My age is 74 years old.\n",
      "My city is that Chandan nagar.\n",
      "You can mail me on yz@gmail.com\n"
     ]
    }
   ],
   "source": [
    "z=information('Xyz',74,'Chandan nagar','yz@gmail.com')\n",
    "z.msg_details()"
   ]
  },
  {
   "cell_type": "markdown",
   "id": "a188ab0f",
   "metadata": {},
   "source": [
    "#  Self parameter\n",
    "\n",
    " * __The self parameter is a reference to the current instance of the class, and is used to access variables that belongs to the class.__\n",
    " \n",
    " * __It does not have to be named self, you can call it whatever you like, but it has to be the first parameter of any function in the class.__"
   ]
  },
  {
   "cell_type": "code",
   "execution_count": 4,
   "id": "f216d443",
   "metadata": {},
   "outputs": [
    {
     "name": "stdout",
     "output_type": "stream",
     "text": [
      "10\n",
      "5\n",
      "blue\n"
     ]
    },
    {
     "data": {
      "image/png": "[encoded data removed]",
      "text/plain": [
       "<Figure size 640x480 with 1 Axes>"
      ]
     },
     "metadata": {},
     "output_type": "display_data"
    }
   ],
   "source": [
    "# import library\n",
    "\n",
    "import matplotlib.pyplot as plt\n",
    "\n",
    "%matplotlib inline\n",
    "\n",
    "# Creating object to draw a rectangle.\n",
    "\n",
    "class Rectangle(object):\n",
    "    \n",
    "    # constructor\n",
    "    def __init__(self,widht,height,color):\n",
    "        self.width=widht\n",
    "        self.height=height\n",
    "        self.color=color\n",
    "        \n",
    "    def drawRectangle(self):\n",
    "        plt.gca().add_patch(plt.Rectangle((0,0),self.width,self.height,fc=self.color))\n",
    "        plt.axis('Scaled')\n",
    "        plt.show\n",
    "        \n",
    "one_Rectangle=Rectangle(10,5,'blue')\n",
    "\n",
    "print(one_Rectangle.width)\n",
    "print(one_Rectangle.height)\n",
    "print(one_Rectangle.color)\n",
    "one_Rectangle.drawRectangle()"
   ]
  },
  {
   "cell_type": "code",
   "execution_count": 5,
   "id": "a0115366",
   "metadata": {},
   "outputs": [
    {
     "data": {
      "image/png": "[encoded data removed]",
      "text/plain": [
       "<Figure size 640x480 with 1 Axes>"
      ]
     },
     "metadata": {},
     "output_type": "display_data"
    }
   ],
   "source": [
    "x=Rectangle(20,10,'yellow')\n",
    "x.drawRectangle()"
   ]
  },
  {
   "cell_type": "code",
   "execution_count": 6,
   "id": "2a30d779",
   "metadata": {},
   "outputs": [
    {
     "data": {
      "image/png": "[encoded data removed]",
      "text/plain": [
       "<Figure size 640x480 with 1 Axes>"
      ]
     },
     "metadata": {},
     "output_type": "display_data"
    }
   ],
   "source": [
    "t=Rectangle(10,10,'red')\n",
    "t.drawRectangle()"
   ]
  },
  {
   "cell_type": "code",
   "execution_count": 3,
   "id": "afa15478",
   "metadata": {},
   "outputs": [
    {
     "name": "stdout",
     "output_type": "stream",
     "text": [
      "10\n",
      "Green\n"
     ]
    },
    {
     "data": {
      "image/png": "[encoded data removed]",
      "text/plain": [
       "<Figure size 640x480 with 1 Axes>"
      ]
     },
     "metadata": {},
     "output_type": "display_data"
    }
   ],
   "source": [
    "# import library\n",
    "\n",
    "import matplotlib.pyplot as plt\n",
    "\n",
    "%matplotlib inline\n",
    "\n",
    "# Creating object to draw a rectangle.\n",
    "\n",
    "class Circle(object):\n",
    "    \n",
    "    # constructor\n",
    "    def __init__(self,radius,color):\n",
    "        self.radius=radius\n",
    "        self.color=color\n",
    "        \n",
    "    def increase_radius(self,r):\n",
    "        self.radius=self.radius+r\n",
    "        return self.radius\n",
    "        \n",
    "    def drawCircle(self):\n",
    "        plt.gca().add_patch(plt.Circle((0,0),self.radius,fc=self.color))\n",
    "        plt.axis('Scaled')\n",
    "        plt.show\n",
    "        \n",
    "one_Circle=Circle(10,'Green')\n",
    "\n",
    "print(one_Circle.radius)\n",
    "print(one_Circle.color)\n",
    "one_Circle.drawCircle()"
   ]
  },
  {
   "cell_type": "code",
   "execution_count": 4,
   "id": "93d90eb8",
   "metadata": {},
   "outputs": [
    {
     "data": {
      "image/png": "[encoded data removed]",
      "text/plain": [
       "<Figure size 640x480 with 1 Axes>"
      ]
     },
     "metadata": {},
     "output_type": "display_data"
    }
   ],
   "source": [
    "x=Circle(5,'red')\n",
    "x.drawCircle()"
   ]
  },
  {
   "cell_type": "markdown",
   "id": "a041a600",
   "metadata": {},
   "source": [
    "# Inheritance\n",
    "\n",
    "\n",
    " * __Simple(single) Inheritance: Parent class and Child class.__\n",
    " \n",
    " * __Multi Level Inheritance: Parent Class/Child Class---Child class__\n",
    " \n",
    " * __Multiple Inheritance: Parent class and parent class ---Child class.__\n",
    " \n",
    " * __Hierarchical Inheritance: Parent class---Child Class---Child class.__"
   ]
  },
  {
   "cell_type": "markdown",
   "id": "78b734c6",
   "metadata": {},
   "source": [
    "# Single Inheritance: When child class is derived from only one parent class This is called single inheritance.__"
   ]
  },
  {
   "cell_type": "code",
   "execution_count": 7,
   "id": "637dfcdd",
   "metadata": {},
   "outputs": [
    {
     "name": "stdout",
     "output_type": "stream",
     "text": [
      "Amazon is an Online Commerce Store\n",
      "Amazon is an Online Store\n"
     ]
    }
   ],
   "source": [
    "# Single Inheritance\n",
    "\n",
    "\n",
    "class Brands:   #parent class\n",
    "    brand_name_1='Amazon'\n",
    "    brand_name_2='Flipkart'\n",
    "    brand_name_3='Olx'\n",
    "    \n",
    "class Products(Brands):\n",
    "    prod_1='Online Commerce Store'\n",
    "    prod_2='Online Store'\n",
    "    prod_3='Online Buy and Sell Store'\n",
    "    \n",
    "    \n",
    "obj_1=Products() # Object Creating\n",
    "\n",
    "print(obj_1.brand_name_1 +' is an '+obj_1.prod_1)\n",
    "print(obj_1.brand_name_1+' is an '+ obj_1.prod_2)"
   ]
  },
  {
   "cell_type": "code",
   "execution_count": null,
   "id": "63bac74f",
   "metadata": {},
   "outputs": [],
   "source": []
  }
 ],
 "metadata": {
  "kernelspec": {
   "display_name": "Python 3 (ipykernel)",
   "language": "python",
   "name": "python3"
  },
  "language_info": {
   "codemirror_mode": {
    "name": "ipython",
    "version": 3
   },
   "file_extension": ".py",
   "mimetype": "text/x-python",
   "name": "python",
   "nbconvert_exporter": "python",
   "pygments_lexer": "ipython3",
   "version": "3.9.13"
  }
 },
 "nbformat": 4,
 "nbformat_minor": 5
}
