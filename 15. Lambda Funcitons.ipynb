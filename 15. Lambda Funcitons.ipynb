{
 "cells": [
  {
   "cell_type": "markdown",
   "id": "27cde19c",
   "metadata": {},
   "source": [
    "# 15. Lambda functions in Python\n",
    "\n",
    " * __A lambda function is small anonymous functions.__\n",
    " * __A lambda function can take any number of arguments, but can only have one expression.__\n",
    " * __The expression is evaluated and returned.__\n",
    " * __Lambda function can be used wherever function objects are required.__\n",
    " * __Lambda Expression(or lambda functions) are essentially blocks of code that can be assigned to variables, passed as an arguemnts, or returned from a function call, in languages that supports high-order functions.__\n",
    " * __They have been part of programming languages for quire some time.__\n",
    " * __The main role of lambda function is better described in the scenarios when we employ them anonymously inside another functions.__\n",
    " * __n Python, the lambda function can be utilized as an arguemts to the high order functions as an arugements.__"
   ]
  },
  {
   "cell_type": "code",
   "execution_count": 1,
   "id": "1c9e85d4",
   "metadata": {},
   "outputs": [
    {
     "name": "stdout",
     "output_type": "stream",
     "text": [
      "16\n"
     ]
    }
   ],
   "source": [
    "# Define a functiion using 'def' keyword\n",
    "\n",
    "def f(x):\n",
    "    return x+6\n",
    "print(f(10))"
   ]
  },
  {
   "cell_type": "code",
   "execution_count": 2,
   "id": "a0973f8a",
   "metadata": {},
   "outputs": [
    {
     "data": {
      "text/plain": [
       "16"
      ]
     },
     "execution_count": 2,
     "metadata": {},
     "output_type": "execute_result"
    }
   ],
   "source": [
    "(lambda x:x+6)(10)"
   ]
  },
  {
   "cell_type": "code",
   "execution_count": 3,
   "id": "1df85db4",
   "metadata": {},
   "outputs": [],
   "source": [
    "x,y=10,6"
   ]
  },
  {
   "cell_type": "code",
   "execution_count": 4,
   "id": "d33f77d8",
   "metadata": {},
   "outputs": [
    {
     "data": {
      "text/plain": [
       "10"
      ]
     },
     "execution_count": 4,
     "metadata": {},
     "output_type": "execute_result"
    }
   ],
   "source": [
    "x"
   ]
  },
  {
   "cell_type": "code",
   "execution_count": 5,
   "id": "6784b830",
   "metadata": {},
   "outputs": [
    {
     "data": {
      "text/plain": [
       "6"
      ]
     },
     "execution_count": 5,
     "metadata": {},
     "output_type": "execute_result"
    }
   ],
   "source": [
    "y"
   ]
  },
  {
   "cell_type": "code",
   "execution_count": 10,
   "id": "73db6389",
   "metadata": {},
   "outputs": [
    {
     "data": {
      "text/plain": [
       "100"
      ]
     },
     "execution_count": 10,
     "metadata": {},
     "output_type": "execute_result"
    }
   ],
   "source": [
    "10**2"
   ]
  },
  {
   "cell_type": "code",
   "execution_count": 9,
   "id": "0b25af30",
   "metadata": {},
   "outputs": [
    {
     "name": "stdout",
     "output_type": "stream",
     "text": [
      "The exponenet of these 10 and 2 100\n"
     ]
    }
   ],
   "source": [
    "def expo(x,y):\n",
    "    return x**y\n",
    "print('The exponenet of these {} and {}'.format(10,2),expo(10,2))"
   ]
  },
  {
   "cell_type": "code",
   "execution_count": 11,
   "id": "0099582e",
   "metadata": {},
   "outputs": [
    {
     "name": "stdout",
     "output_type": "stream",
     "text": [
      "The exponenet of these 10 and 6 is : 100\n"
     ]
    }
   ],
   "source": [
    "print(f'The exponenet of these {x} and {y} is : {(lambda x,y:x**y)(10,2)}')"
   ]
  },
  {
   "cell_type": "code",
   "execution_count": 14,
   "id": "78d3f22d",
   "metadata": {},
   "outputs": [
    {
     "name": "stdout",
     "output_type": "stream",
     "text": [
      "Enter your age:19\n",
      "You Can Vote\n"
     ]
    }
   ],
   "source": [
    "# Write a program to person is voting or not using lambda function.\n",
    "\n",
    "age=int(input('Enter your age:'))\n",
    "\n",
    "(lambda age:print('You Can Vote') if age>=18 else print('You Can not vote.'))(age)"
   ]
  },
  {
   "cell_type": "code",
   "execution_count": 15,
   "id": "b4a8a0cb",
   "metadata": {},
   "outputs": [
    {
     "name": "stdout",
     "output_type": "stream",
     "text": [
      "Python is a programming language.\n"
     ]
    }
   ],
   "source": [
    "text='Python is a programming language.'\n",
    "\n",
    "(lambda text:print(text))(text)"
   ]
  },
  {
   "cell_type": "code",
   "execution_count": 20,
   "id": "6fb1bdfe",
   "metadata": {},
   "outputs": [
    {
     "name": "stdout",
     "output_type": "stream",
     "text": [
      "Enter First Number:12\n",
      "Enter Second Number: (to be Operated On):12\n",
      "[24, 0, 144, 1.0, 8916100448256]\n"
     ]
    }
   ],
   "source": [
    "# Write a program to append in the list with some calculations perform using lambda function\n",
    "# addition, substraction, multiplication, division, and Exponenet.\n",
    "\n",
    "x=int(input('Enter First Number:'))\n",
    "y=int(input('Enter Second Number: (to be Operated On):'))\n",
    "\n",
    "list1=[]\n",
    "\n",
    "(lambda x,y:list1.append(x+y))(x,y)\n",
    "(lambda x,y:list1.append(x-y))(x,y)\n",
    "(lambda x,y:list1.append(x*y))(x,y)\n",
    "(lambda x,y:list1.append(x/y))(x,y)\n",
    "(lambda x,y:list1.append(x**y))(x,y)\n",
    "print(list1)"
   ]
  },
  {
   "cell_type": "code",
   "execution_count": null,
   "id": "6b3ad1f7",
   "metadata": {},
   "outputs": [],
   "source": []
  }
 ],
 "metadata": {
  "kernelspec": {
   "display_name": "Python 3 (ipykernel)",
   "language": "python",
   "name": "python3"
  },
  "language_info": {
   "codemirror_mode": {
    "name": "ipython",
    "version": 3
   },
   "file_extension": ".py",
   "mimetype": "text/x-python",
   "name": "python",
   "nbconvert_exporter": "python",
   "pygments_lexer": "ipython3",
   "version": "3.9.13"
  }
 },
 "nbformat": 4,
 "nbformat_minor": 5
}
