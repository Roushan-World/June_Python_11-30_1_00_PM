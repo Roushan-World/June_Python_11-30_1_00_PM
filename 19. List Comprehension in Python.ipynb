{
 "cells": [
  {
   "cell_type": "markdown",
   "id": "9fcaf9e0",
   "metadata": {},
   "source": [
    "# 19. List Comprehension in Ptyhon\n",
    "\n",
    "\n",
    " * __List Comprehension in Python is an easy and compact syntax for creating a list from a string or another list.__\n",
    " \n",
    " * __It is a very concise way to create a new list by performing an operation on each item in the existing list.__\n",
    " \n",
    " * __List Comprehnsion is considerably faster than processing a list using the for loop.__"
   ]
  },
  {
   "cell_type": "code",
   "execution_count": 1,
   "id": "69d9f4e8",
   "metadata": {},
   "outputs": [],
   "source": [
    "import math\n",
    "\n",
    "from math import *"
   ]
  },
  {
   "cell_type": "code",
   "execution_count": 3,
   "id": "0bc6e602",
   "metadata": {},
   "outputs": [
    {
     "name": "stdout",
     "output_type": "stream",
     "text": [
      "[0, 1, 8, 27, 64, 125]\n"
     ]
    }
   ],
   "source": [
    "# using for loop\n",
    "\n",
    "cubic_nums=[]\n",
    "\n",
    "for i in range(6):\n",
    "    i**=3\n",
    "    cubic_nums.append(i)\n",
    "print(cubic_nums)"
   ]
  },
  {
   "cell_type": "code",
   "execution_count": 4,
   "id": "e51ebe72",
   "metadata": {},
   "outputs": [
    {
     "name": "stdout",
     "output_type": "stream",
     "text": [
      "[0, 1, 8, 27, 64, 125]\n"
     ]
    }
   ],
   "source": [
    "# using list comprehension\n",
    "\n",
    "cubic_nums=[i**3 for i in range(6)]\n",
    "print(cubic_nums)"
   ]
  },
  {
   "cell_type": "code",
   "execution_count": 5,
   "id": "efd533cd",
   "metadata": {},
   "outputs": [
    {
     "name": "stdout",
     "output_type": "stream",
     "text": [
      "[0.0, 1.0, 8.0, 27.0, 64.0, 125.0]\n"
     ]
    }
   ],
   "source": [
    "# Another list comprehension  # pow() -> power function\n",
    "\n",
    "list_nums=[math.pow(i,3) for i in range(6)]\n",
    "\n",
    "print(list_nums)"
   ]
  },
  {
   "cell_type": "code",
   "execution_count": 6,
   "id": "65952bb5",
   "metadata": {},
   "outputs": [
    {
     "name": "stdout",
     "output_type": "stream",
     "text": [
      "[0, 2, 4, 6, 8, 10, 12, 14, 16, 18, 20]\n"
     ]
    }
   ],
   "source": [
    "# print even number using for loop 0,20.\n",
    "\n",
    "even_numbers=[]\n",
    "\n",
    "for i in range(21):\n",
    "    if i%2==0:\n",
    "        even_numbers.append(i)\n",
    "        \n",
    "print(even_numbers)\n",
    "        "
   ]
  },
  {
   "cell_type": "code",
   "execution_count": 7,
   "id": "38d0ea95",
   "metadata": {},
   "outputs": [
    {
     "name": "stdout",
     "output_type": "stream",
     "text": [
      "[0, 2, 4, 6, 8, 10, 12, 14, 16, 18, 20]\n"
     ]
    }
   ],
   "source": [
    "# using list comprehensions\n",
    "\n",
    "even_numbers=[i for i in range(21) if i%2==0]\n",
    "print(even_numbers)"
   ]
  },
  {
   "cell_type": "code",
   "execution_count": 1,
   "id": "cb31e2b2",
   "metadata": {},
   "outputs": [
    {
     "name": "stdout",
     "output_type": "stream",
     "text": [
      "['Python', 'Javascript']\n"
     ]
    }
   ],
   "source": [
    "# using for loop language=['Python','Java','Javascript','C','C++','PHP']\n",
    "\n",
    "language=['Python','Java','Javascript','C','C++','PHP']\n",
    "\n",
    "lang_list=[]\n",
    "\n",
    "for i in language:\n",
    "    if 't' in i:\n",
    "        lang_list.append(i)\n",
    "print(lang_list)\n",
    "\n"
   ]
  },
  {
   "cell_type": "code",
   "execution_count": 2,
   "id": "ac740ff2",
   "metadata": {},
   "outputs": [
    {
     "name": "stdout",
     "output_type": "stream",
     "text": [
      "['Python', 'Javascript']\n"
     ]
    }
   ],
   "source": [
    "# using list comprehension\n",
    "\n",
    "lang_list=[i for i in language if 't' in i]\n",
    "print(lang_list)"
   ]
  },
  {
   "cell_type": "code",
   "execution_count": 3,
   "id": "d779f150",
   "metadata": {},
   "outputs": [
    {
     "name": "stdout",
     "output_type": "stream",
     "text": [
      "['Python', 'Java', 'Javascript', 'C++', 'PHP']\n"
     ]
    }
   ],
   "source": [
    "n=['Python','Java','Javascript','C','C++','PHP']\n",
    "\n",
    "l=[]\n",
    "\n",
    "for i in n:\n",
    "    if 'C' not in i or 'C++' in i:\n",
    "        l.append(i)\n",
    "print(l)"
   ]
  },
  {
   "cell_type": "code",
   "execution_count": 4,
   "id": "3d4fb491",
   "metadata": {},
   "outputs": [
    {
     "name": "stdout",
     "output_type": "stream",
     "text": [
      "['Python', 'Java', 'Javascript', 'C++', 'PHP']\n"
     ]
    }
   ],
   "source": [
    "# using list comprehension\n",
    "\n",
    "\n",
    "lang_list=[i for i in language if i!='C']\n",
    "print(lang_list)"
   ]
  },
  {
   "cell_type": "code",
   "execution_count": 5,
   "id": "31464b81",
   "metadata": {},
   "outputs": [
    {
     "name": "stdout",
     "output_type": "stream",
     "text": [
      "[0.577, 1.618, 3.147]\n"
     ]
    }
   ],
   "source": [
    "# special_nums=[0.577,1.618,3.147,6,28,37,1729] print the data below 5\n",
    "\n",
    "special_nums=[0.577,1.618,3.147,6,28,37,1729]\n",
    "\n",
    "new_list=[]\n",
    "\n",
    "for i in special_nums:\n",
    "    if i<5:\n",
    "        new_list.append(i)\n",
    "print(new_list)"
   ]
  },
  {
   "cell_type": "code",
   "execution_count": 6,
   "id": "a56c34f8",
   "metadata": {},
   "outputs": [
    {
     "name": "stdout",
     "output_type": "stream",
     "text": [
      "[0.577, 1.618, 3.147]\n"
     ]
    }
   ],
   "source": [
    "new_list=[i for i in special_nums if i<5]\n",
    "print(new_list)"
   ]
  },
  {
   "cell_type": "code",
   "execution_count": null,
   "id": "3f1f813a",
   "metadata": {},
   "outputs": [],
   "source": []
  }
 ],
 "metadata": {
  "kernelspec": {
   "display_name": "Python 3 (ipykernel)",
   "language": "python",
   "name": "python3"
  },
  "language_info": {
   "codemirror_mode": {
    "name": "ipython",
    "version": 3
   },
   "file_extension": ".py",
   "mimetype": "text/x-python",
   "name": "python",
   "nbconvert_exporter": "python",
   "pygments_lexer": "ipython3",
   "version": "3.9.13"
  }
 },
 "nbformat": 4,
 "nbformat_minor": 5
}
