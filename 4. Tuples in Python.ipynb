{
 "cells": [
  {
   "cell_type": "markdown",
   "id": "b0d0888c",
   "metadata": {},
   "source": [
    "# 4. Tuples in Python\n",
    "\n",
    "\n",
    "__Tuples are immutable list and cannot be changed in any way when once it is created.__\n",
    "\n",
    " __* Tuples are defined in the same way as list.__\n",
    " __* They are enclosed within parenthesis and not within square braces.__\n",
    " __* Tuples are ordered, indexed collections of data.__\n",
    " __* Similar to string indices, the first value in the tuple will have the index[0], the second value [1].__\n",
    " __* Negative indices are counted from the end of the tuple, just like list.__\n",
    " __* Tuple also has the same structures whereas commas seperated the values.__\n",
    " __* Tuples can store duplicate values.__\n",
    " __* Tuples allow you to store several data items including string, integer, float, boolean in one variables.__"
   ]
  },
  {
   "cell_type": "code",
   "execution_count": 11,
   "id": "aa8a7127",
   "metadata": {},
   "outputs": [
    {
     "data": {
      "text/plain": [
       "('Hello',\n",
       " 'Python',\n",
       " 3.14,\n",
       " 1.618,\n",
       " True,\n",
       " False,\n",
       " 32,\n",
       " [1, 2, 3],\n",
       " {1, 2, 3},\n",
       " {'a': 32, 'b': 8},\n",
       " (0, 1))"
      ]
     },
     "execution_count": 11,
     "metadata": {},
     "output_type": "execute_result"
    }
   ],
   "source": [
    "# Take a tuple\n",
    "\n",
    "\n",
    "tuple_1=('Hello','Python',3.14,1.618,True,False,32,[1,2,3],{1,2,3},{'a':32,'b':8},(0,1))\n",
    "\n",
    "tuple_1"
   ]
  },
  {
   "cell_type": "code",
   "execution_count": 3,
   "id": "ea2c5cdd",
   "metadata": {},
   "outputs": [
    {
     "name": "stdout",
     "output_type": "stream",
     "text": [
      "<class 'tuple'>\n",
      "11\n"
     ]
    }
   ],
   "source": [
    "print(type(tuple_1))\n",
    "print(len(tuple_1))\n",
    "\n"
   ]
  },
  {
   "cell_type": "code",
   "execution_count": 7,
   "id": "72eb63cb",
   "metadata": {},
   "outputs": [
    {
     "name": "stdout",
     "output_type": "stream",
     "text": [
      "Hello\n",
      "Python\n",
      "3.14\n",
      "1.618\n"
     ]
    }
   ],
   "source": [
    "# printing the each value in a tuple using both positive and negativ indexing.\n",
    "\n",
    "print(tuple_1[0])\n",
    "print(tuple_1[1])\n",
    "print(tuple_1[2])\n",
    "print(tuple_1[3])"
   ]
  },
  {
   "cell_type": "code",
   "execution_count": 10,
   "id": "ddd0a0b4",
   "metadata": {},
   "outputs": [
    {
     "name": "stdout",
     "output_type": "stream",
     "text": [
      "Hello\n",
      "Python\n",
      "3.14\n"
     ]
    }
   ],
   "source": [
    "print(tuple_1[-11])\n",
    "print(tuple_1[-10])\n",
    "print(tuple_1[-9])"
   ]
  },
  {
   "cell_type": "code",
   "execution_count": 18,
   "id": "153a29fb",
   "metadata": {},
   "outputs": [
    {
     "name": "stdout",
     "output_type": "stream",
     "text": [
      "Hello\n",
      "<class 'str'>\n",
      "Python\n",
      "<class 'str'>\n",
      "3.14\n"
     ]
    }
   ],
   "source": [
    "print(tuple_1[0])\n",
    "print(type(tuple_1[0]))\n",
    "print(tuple_1[1])\n",
    "print(type(tuple_1[1]))\n",
    "print(tuple_1[2])\n"
   ]
  },
  {
   "cell_type": "markdown",
   "id": "c11ffe03",
   "metadata": {},
   "source": [
    "# Concatenation in tuples"
   ]
  },
  {
   "cell_type": "code",
   "execution_count": 22,
   "id": "244aa2f3",
   "metadata": {},
   "outputs": [
    {
     "name": "stdout",
     "output_type": "stream",
     "text": [
      "Akhilesh\n",
      " Gawade\n"
     ]
    }
   ],
   "source": [
    "first_name='Akhilesh'\n",
    "last_name=' Gawade'\n",
    "print(first_name)\n",
    "print(last_name)"
   ]
  },
  {
   "cell_type": "code",
   "execution_count": 23,
   "id": "d912aaa3",
   "metadata": {},
   "outputs": [
    {
     "name": "stdout",
     "output_type": "stream",
     "text": [
      "Akhilesh Gawade\n"
     ]
    }
   ],
   "source": [
    "print(first_name+last_name)"
   ]
  },
  {
   "cell_type": "code",
   "execution_count": null,
   "id": "7f9d7674",
   "metadata": {},
   "outputs": [],
   "source": []
  },
  {
   "cell_type": "code",
   "execution_count": 28,
   "id": "3c610471",
   "metadata": {},
   "outputs": [
    {
     "name": "stdout",
     "output_type": "stream",
     "text": [
      "(1, 2, 3, 4, 5, 6, 7, 8, 9)\n",
      "True\n",
      "False\n"
     ]
    }
   ],
   "source": [
    "tuple_2=(1,2,3,4,5,6,7,8,9)\n",
    "\n",
    "print(tuple_2)\n",
    "print(2 in tuple_2)\n",
    "print(10 in tuple_2)"
   ]
  },
  {
   "cell_type": "markdown",
   "id": "8398c5bd",
   "metadata": {},
   "source": [
    "# slicing\n",
    "\n",
    "__* To obtain a new tuple from the current tuple, the slicing method is used.__\n",
    " "
   ]
  },
  {
   "cell_type": "code",
   "execution_count": 29,
   "id": "a90b2448",
   "metadata": {},
   "outputs": [
    {
     "data": {
      "text/plain": [
       "('Hello',\n",
       " 'Python',\n",
       " 3.14,\n",
       " 1.618,\n",
       " True,\n",
       " False,\n",
       " 32,\n",
       " [1, 2, 3],\n",
       " {1, 2, 3},\n",
       " {'a': 32, 'b': 8},\n",
       " (0, 1))"
      ]
     },
     "execution_count": 29,
     "metadata": {},
     "output_type": "execute_result"
    }
   ],
   "source": [
    "tuple_1"
   ]
  },
  {
   "cell_type": "code",
   "execution_count": 33,
   "id": "7f5f2b74",
   "metadata": {},
   "outputs": [
    {
     "data": {
      "text/plain": [
       "('Hello',)"
      ]
     },
     "execution_count": 33,
     "metadata": {},
     "output_type": "execute_result"
    }
   ],
   "source": [
    "tuple_1[0:1]"
   ]
  },
  {
   "cell_type": "code",
   "execution_count": 34,
   "id": "5dd36a01",
   "metadata": {},
   "outputs": [
    {
     "data": {
      "text/plain": [
       "(True,)"
      ]
     },
     "execution_count": 34,
     "metadata": {},
     "output_type": "execute_result"
    }
   ],
   "source": [
    "tuple_1[4:5]"
   ]
  },
  {
   "cell_type": "code",
   "execution_count": 35,
   "id": "b4e0a60c",
   "metadata": {},
   "outputs": [
    {
     "data": {
      "text/plain": [
       "(1, 2, 3, 4, 5, 6, 7, 8, 9)"
      ]
     },
     "execution_count": 35,
     "metadata": {},
     "output_type": "execute_result"
    }
   ],
   "source": [
    "tuple_2"
   ]
  },
  {
   "cell_type": "code",
   "execution_count": 37,
   "id": "9af710ce",
   "metadata": {},
   "outputs": [
    {
     "name": "stdout",
     "output_type": "stream",
     "text": [
      "[0, 5, 7, 9, 10, 14, 15, 34, 82]\n"
     ]
    }
   ],
   "source": [
    "tuple_3=(0,10,14,15,9,82,34,7,5)\n",
    "x=sorted(tuple_3)\n",
    "print(x)"
   ]
  },
  {
   "cell_type": "code",
   "execution_count": null,
   "id": "c049258e",
   "metadata": {},
   "outputs": [],
   "source": []
  }
 ],
 "metadata": {
  "kernelspec": {
   "display_name": "Python 3 (ipykernel)",
   "language": "python",
   "name": "python3"
  },
  "language_info": {
   "codemirror_mode": {
    "name": "ipython",
    "version": 3
   },
   "file_extension": ".py",
   "mimetype": "text/x-python",
   "name": "python",
   "nbconvert_exporter": "python",
   "pygments_lexer": "ipython3",
   "version": "3.9.13"
  }
 },
 "nbformat": 4,
 "nbformat_minor": 5
}
