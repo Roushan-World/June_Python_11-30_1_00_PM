{
 "cells": [
  {
   "cell_type": "code",
   "execution_count": 1,
   "id": "98be60b7",
   "metadata": {},
   "outputs": [
    {
     "data": {
      "text/plain": [
       "'Hello World'"
      ]
     },
     "execution_count": 1,
     "metadata": {},
     "output_type": "execute_result"
    }
   ],
   "source": [
    "# Employe double quotation for describing a string.\n",
    "\n",
    "\"Hello World\""
   ]
  },
  {
   "cell_type": "code",
   "execution_count": 2,
   "id": "12920afe",
   "metadata": {},
   "outputs": [
    {
     "data": {
      "text/plain": [
       "'Hello World'"
      ]
     },
     "execution_count": 2,
     "metadata": {},
     "output_type": "execute_result"
    }
   ],
   "source": [
    "'Hello World'"
   ]
  },
  {
   "cell_type": "code",
   "execution_count": 3,
   "id": "57330ffd",
   "metadata": {},
   "outputs": [
    {
     "data": {
      "text/plain": [
       "'3 4 5 6 7 8 9'"
      ]
     },
     "execution_count": 3,
     "metadata": {},
     "output_type": "execute_result"
    }
   ],
   "source": [
    "'3 4 5 6 7 8 9'"
   ]
  },
  {
   "cell_type": "code",
   "execution_count": 4,
   "id": "71a8bea5",
   "metadata": {},
   "outputs": [
    {
     "data": {
      "text/plain": [
       "'! @ # $ % ^ &'"
      ]
     },
     "execution_count": 4,
     "metadata": {},
     "output_type": "execute_result"
    }
   ],
   "source": [
    "'! @ # $ % ^ &'"
   ]
  },
  {
   "cell_type": "code",
   "execution_count": 6,
   "id": "d4a96f3e",
   "metadata": {},
   "outputs": [
    {
     "name": "stdout",
     "output_type": "stream",
     "text": [
      "Hello World\n"
     ]
    }
   ],
   "source": [
    "# Assigninig a string to a variable 'message'\n",
    "\n",
    "message='Hello World'\n",
    "print(message)\n"
   ]
  },
  {
   "cell_type": "markdown",
   "id": "a0db7b59",
   "metadata": {},
   "source": [
    "# Indexing of a string\n",
    "\n",
    "\n"
   ]
  },
  {
   "cell_type": "code",
   "execution_count": 7,
   "id": "46fba584",
   "metadata": {},
   "outputs": [
    {
     "name": "stdout",
     "output_type": "stream",
     "text": [
      "Hello World\n"
     ]
    }
   ],
   "source": [
    "# printing the first element in a string.\n",
    "\n",
    "message='Hello World'\n",
    "print(message)"
   ]
  },
  {
   "cell_type": "code",
   "execution_count": 21,
   "id": "ba1d36ea",
   "metadata": {},
   "outputs": [
    {
     "name": "stdout",
     "output_type": "stream",
     "text": [
      "H\n",
      "e\n",
      "l\n",
      "l\n",
      "o\n",
      " \n",
      "W\n",
      "o\n",
      "r\n",
      "l\n",
      "d\n"
     ]
    }
   ],
   "source": [
    "# positive indexing.\n",
    "print(message[0])\n",
    "print(message[1])\n",
    "print(message[2])\n",
    "print(message[3])\n",
    "print(message[4])\n",
    "print(message[5])\n",
    "print(message[6])\n",
    "print(message[7])\n",
    "print(message[8])\n",
    "print(message[9])\n",
    "print(message[10])\n",
    "#print(message[11])"
   ]
  },
  {
   "cell_type": "code",
   "execution_count": 23,
   "id": "788f4496",
   "metadata": {},
   "outputs": [
    {
     "name": "stdout",
     "output_type": "stream",
     "text": [
      "d\n",
      "l\n",
      "r\n",
      "o\n",
      "W\n",
      " \n",
      "o\n",
      "l\n",
      "l\n",
      "e\n",
      "H\n"
     ]
    }
   ],
   "source": [
    "# Negative indexing.\n",
    "\n",
    "\n",
    "print(message[-1])\n",
    "print(message[-2])\n",
    "print(message[-3])\n",
    "print(message[-4])\n",
    "print(message[-5])\n",
    "print(message[-6])\n",
    "print(message[-7])\n",
    "print(message[-8])\n",
    "print(message[-9])\n",
    "print(message[-10])\n",
    "print(message[-11])\n",
    "#print(message[-2])"
   ]
  },
  {
   "cell_type": "code",
   "execution_count": 24,
   "id": "8ed8aedd",
   "metadata": {},
   "outputs": [
    {
     "data": {
      "text/plain": [
       "11"
      ]
     },
     "execution_count": 24,
     "metadata": {},
     "output_type": "execute_result"
    }
   ],
   "source": [
    "# lenght of a string including spaces.\n",
    "\n",
    "len(message)"
   ]
  },
  {
   "cell_type": "code",
   "execution_count": 25,
   "id": "c196e5ee",
   "metadata": {},
   "outputs": [
    {
     "data": {
      "text/plain": [
       "'Hello World'"
      ]
     },
     "execution_count": 25,
     "metadata": {},
     "output_type": "execute_result"
    }
   ],
   "source": [
    "x= 'Hello World'\n",
    "x"
   ]
  },
  {
   "cell_type": "markdown",
   "id": "f342e723",
   "metadata": {},
   "source": [
    "# Slicing of a string."
   ]
  },
  {
   "cell_type": "code",
   "execution_count": 34,
   "id": "ed28a755",
   "metadata": {},
   "outputs": [
    {
     "data": {
      "text/plain": [
       "'Hello'"
      ]
     },
     "execution_count": 34,
     "metadata": {},
     "output_type": "execute_result"
    }
   ],
   "source": [
    "# Slicing on the variable 'x' with only index 0 to index 5\n",
    "\n",
    "x[0:5]"
   ]
  },
  {
   "cell_type": "code",
   "execution_count": 37,
   "id": "fbd4d261",
   "metadata": {},
   "outputs": [
    {
     "data": {
      "text/plain": [
       "'World'"
      ]
     },
     "execution_count": 37,
     "metadata": {},
     "output_type": "execute_result"
    }
   ],
   "source": [
    "x[6:12]"
   ]
  },
  {
   "cell_type": "markdown",
   "id": "80aeea71",
   "metadata": {},
   "source": [
    "# Striding in a string."
   ]
  },
  {
   "cell_type": "code",
   "execution_count": 38,
   "id": "ea038170",
   "metadata": {},
   "outputs": [
    {
     "data": {
      "text/plain": [
       "'Hello World'"
      ]
     },
     "execution_count": 38,
     "metadata": {},
     "output_type": "execute_result"
    }
   ],
   "source": [
    "x"
   ]
  },
  {
   "cell_type": "code",
   "execution_count": 41,
   "id": "43c65acd",
   "metadata": {},
   "outputs": [
    {
     "data": {
      "text/plain": [
       "'HloWrd'"
      ]
     },
     "execution_count": 41,
     "metadata": {},
     "output_type": "execute_result"
    }
   ],
   "source": [
    "# To select every second element in a variable 'x'\n",
    "\n",
    "x[0::2]"
   ]
  },
  {
   "cell_type": "code",
   "execution_count": 42,
   "id": "123ac4b1",
   "metadata": {},
   "outputs": [
    {
     "data": {
      "text/plain": [
       "'Hello World'"
      ]
     },
     "execution_count": 42,
     "metadata": {},
     "output_type": "execute_result"
    }
   ],
   "source": [
    "x[0:]"
   ]
  },
  {
   "cell_type": "code",
   "execution_count": 43,
   "id": "fe60ec0c",
   "metadata": {},
   "outputs": [
    {
     "data": {
      "text/plain": [
       "'Hello World'"
      ]
     },
     "execution_count": 43,
     "metadata": {},
     "output_type": "execute_result"
    }
   ],
   "source": [
    "x[:]"
   ]
  },
  {
   "cell_type": "markdown",
   "id": "aba40254",
   "metadata": {},
   "source": [
    "# Concatenate of strings."
   ]
  },
  {
   "cell_type": "code",
   "execution_count": 47,
   "id": "bd277722",
   "metadata": {},
   "outputs": [
    {
     "data": {
      "text/plain": [
       "'Akhilesh Gawade'"
      ]
     },
     "execution_count": 47,
     "metadata": {},
     "output_type": "execute_result"
    }
   ],
   "source": [
    "first_name='Akhilesh'\n",
    "last_name=' Gawade'\n",
    "\n",
    "full_name=first_name+last_name\n",
    "full_name\n"
   ]
  },
  {
   "cell_type": "markdown",
   "id": "62a562bf",
   "metadata": {},
   "source": [
    "# Escape Sequence"
   ]
  },
  {
   "cell_type": "code",
   "execution_count": 53,
   "id": "969fc6c0",
   "metadata": {},
   "outputs": [
    {
     "name": "stdout",
     "output_type": "stream",
     "text": [
      "\\\\\n"
     ]
    }
   ],
   "source": [
    "# New line escape sequence\n",
    "\n",
    "print('\\\\\\\\')"
   ]
  },
  {
   "cell_type": "code",
   "execution_count": 55,
   "id": "1bb30a4b",
   "metadata": {},
   "outputs": [
    {
     "name": "stdout",
     "output_type": "stream",
     "text": [
      "Hello World\n",
      "How many people are living on the earth?\n"
     ]
    }
   ],
   "source": [
    "print('Hello World\\nHow many people are living on the earth?') #\\n-> newline"
   ]
  },
  {
   "cell_type": "code",
   "execution_count": 57,
   "id": "2de8f72a",
   "metadata": {},
   "outputs": [
    {
     "name": "stdout",
     "output_type": "stream",
     "text": [
      "Hello World\tHow many people are living on the earth?\n"
     ]
    }
   ],
   "source": [
    "print('Hello World\\tHow many people are living on the earth?') #\\t-> tab"
   ]
  },
  {
   "cell_type": "markdown",
   "id": "a1168e43",
   "metadata": {},
   "source": [
    "# String operations"
   ]
  },
  {
   "cell_type": "code",
   "execution_count": 64,
   "id": "5609fd06",
   "metadata": {},
   "outputs": [
    {
     "name": "stdout",
     "output_type": "stream",
     "text": [
      "Hello world\n",
      "hello world\n",
      "HELLO WORLD\n",
      "4\n",
      "6\n"
     ]
    }
   ],
   "source": [
    "x='hello World'\n",
    "print(x.capitalize())\n",
    "print(x.lower())\n",
    "print(x.upper())\n",
    "print(x.index('o'))\n",
    "print(x.find('World'))"
   ]
  },
  {
   "cell_type": "code",
   "execution_count": 66,
   "id": "110b9f63",
   "metadata": {},
   "outputs": [
    {
     "name": "stdout",
     "output_type": "stream",
     "text": [
      "28/06/2023\n",
      "28-06-2023\n"
     ]
    }
   ],
   "source": [
    "y='28/06/2023'\n",
    "print(y)\n",
    "print(y.replace('/','-'))"
   ]
  },
  {
   "cell_type": "code",
   "execution_count": 67,
   "id": "461bba89",
   "metadata": {},
   "outputs": [
    {
     "name": "stdout",
     "output_type": "stream",
     "text": [
      "['28', '06', '2023']\n"
     ]
    }
   ],
   "source": [
    "print(y.split('/'))"
   ]
  },
  {
   "cell_type": "code",
   "execution_count": 68,
   "id": "02e5a008",
   "metadata": {},
   "outputs": [
    {
     "data": {
      "text/plain": [
       "True"
      ]
     },
     "execution_count": 68,
     "metadata": {},
     "output_type": "execute_result"
    }
   ],
   "source": [
    "x='abc123'\n",
    "x.isalnum()"
   ]
  },
  {
   "cell_type": "code",
   "execution_count": 73,
   "id": "ef4efd35",
   "metadata": {},
   "outputs": [
    {
     "name": "stdout",
     "output_type": "stream",
     "text": [
      "True\n",
      "False\n",
      "True\n"
     ]
    }
   ],
   "source": [
    "x='123'\n",
    "print(x.isalnum())\n",
    "print(x.isalpha())\n",
    "print(x.isnumeric())\n"
   ]
  },
  {
   "cell_type": "code",
   "execution_count": null,
   "id": "bbe63df0",
   "metadata": {},
   "outputs": [],
   "source": []
  }
 ],
 "metadata": {
  "kernelspec": {
   "display_name": "Python 3 (ipykernel)",
   "language": "python",
   "name": "python3"
  },
  "language_info": {
   "codemirror_mode": {
    "name": "ipython",
    "version": 3
   },
   "file_extension": ".py",
   "mimetype": "text/x-python",
   "name": "python",
   "nbconvert_exporter": "python",
   "pygments_lexer": "ipython3",
   "version": "3.9.13"
  }
 },
 "nbformat": 4,
 "nbformat_minor": 5
}
