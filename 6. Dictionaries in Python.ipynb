{
 "cells": [
  {
   "cell_type": "markdown",
   "id": "8d89bfa6",
   "metadata": {},
   "source": [
    "# 6. Dictionaries in Python\n",
    "\n",
    " * __Dictionaries are used to store data values in key:value pairs.__\n",
    " * __A dictionary is a collection which is ordered, changeable or mutable and do not allow duplicates.__\n",
    " * __Dictionary items are ordered, changeable, and does not allow duplicates.__\n",
    " * __Dictionary items are presented in key: value pair, and can be referred to by using the key name.__\n",
    " * __Dictionaries are changeable, meaninig that we can change, add or remove items after the dictionary has been created.__\n",
    " * __Dictionaries cannot have two items with the same key.__\n",
    " * __A dictionary can nested and can contain another dicitonary.__\n",
    " \n",
    " \n",
    "             'keys'-------------'values'\n",
    "             'name'-------------'Bob'\n",
    "             'age'-------------- 25\n",
    "             'job'-------------- 'Engineer'\n",
    "             'city'------------- 'Pune'\n",
    "             'email'------------ 'bob@gmail.com'"
   ]
  },
  {
   "cell_type": "code",
   "execution_count": 3,
   "id": "0a0fb02b",
   "metadata": {},
   "outputs": [
    {
     "data": {
      "text/plain": [
       "{'key_1': 3.14,\n",
       " 'key_2': 1.618,\n",
       " 'key_3': True,\n",
       " 'key_4': False,\n",
       " 'key_5': [3.14, 1.618],\n",
       " 'key6': 'Python',\n",
       " 10: 'Hello World'}"
      ]
     },
     "execution_count": 3,
     "metadata": {},
     "output_type": "execute_result"
    }
   ],
   "source": [
    "sample_dict={'key_1':3.14,'key_2':1.618,'key_3':True,\n",
    "            'key_4':False,'key_5':[3.14,1.618],'key6':'Python',10:'Hello World'}\n",
    "sample_dict"
   ]
  },
  {
   "cell_type": "code",
   "execution_count": 7,
   "id": "3eaf34d8",
   "metadata": {},
   "outputs": [
    {
     "data": {
      "text/plain": [
       "dict"
      ]
     },
     "execution_count": 7,
     "metadata": {},
     "output_type": "execute_result"
    }
   ],
   "source": [
    "type(sample_dict)"
   ]
  },
  {
   "cell_type": "markdown",
   "id": "9c8bf6e1",
   "metadata": {},
   "source": [
    "__Note__: __As you see that the whole dictionary is enclosed in curly braces, each key is spearated from its value by a column \":\" , and commas are used to separate the items in the dicitonary.__"
   ]
  },
  {
   "cell_type": "code",
   "execution_count": 11,
   "id": "d6600bd8",
   "metadata": {},
   "outputs": [
    {
     "name": "stdout",
     "output_type": "stream",
     "text": [
      "3.14\n",
      "1.618\n",
      "True\n",
      "False\n",
      "[3.14, 1.618]\n",
      "Hello World\n"
     ]
    }
   ],
   "source": [
    "# Accessing to the value by using the key:\n",
    "\n",
    "print(sample_dict['key_1'])\n",
    "print(sample_dict['key_2'])\n",
    "print(sample_dict['key_3'])\n",
    "print(sample_dict['key_4'])\n",
    "print(sample_dict['key_5'])\n",
    "print(sample_dict[10])\n",
    "\n",
    "\n"
   ]
  },
  {
   "cell_type": "code",
   "execution_count": 12,
   "id": "ba916b27",
   "metadata": {},
   "outputs": [
    {
     "data": {
      "text/plain": [
       "dict_keys(['key_1', 'key_2', 'key_3', 'key_4', 'key_5', 'key6', 10])"
      ]
     },
     "execution_count": 12,
     "metadata": {},
     "output_type": "execute_result"
    }
   ],
   "source": [
    "# What are the keys in the dictionary?\n",
    "sample_dict.keys()"
   ]
  },
  {
   "cell_type": "code",
   "execution_count": 13,
   "id": "f1f5de53",
   "metadata": {},
   "outputs": [
    {
     "data": {
      "text/plain": [
       "dict_values([3.14, 1.618, True, False, [3.14, 1.618], 'Python', 'Hello World'])"
      ]
     },
     "execution_count": 13,
     "metadata": {},
     "output_type": "execute_result"
    }
   ],
   "source": [
    "# What the the values in the dicitonary?\n",
    "sample_dict.values()"
   ]
  },
  {
   "cell_type": "code",
   "execution_count": 14,
   "id": "bfcb69a6",
   "metadata": {},
   "outputs": [
    {
     "data": {
      "text/plain": [
       "{'name': 'Akhilesh',\n",
       " 'age': 16,\n",
       " 'contact': 12345678910,\n",
       " 'Email': 'akhilesh@123gmail.com',\n",
       " 'address': 'Pune'}"
      ]
     },
     "execution_count": 14,
     "metadata": {},
     "output_type": "execute_result"
    }
   ],
   "source": [
    "person_details={'name':'Akhilesh','age':16,'contact':12345678910,\n",
    "               'Email':'akhilesh@123gmail.com','address':'Pune'}\n",
    "person_details"
   ]
  },
  {
   "cell_type": "code",
   "execution_count": 15,
   "id": "965200a0",
   "metadata": {},
   "outputs": [
    {
     "data": {
      "text/plain": [
       "dict"
      ]
     },
     "execution_count": 15,
     "metadata": {},
     "output_type": "execute_result"
    }
   ],
   "source": [
    "type(person_details)"
   ]
  },
  {
   "cell_type": "markdown",
   "id": "4959f55a",
   "metadata": {},
   "source": [
    "# Addition of a new key:value pair in the dictionary"
   ]
  },
  {
   "cell_type": "code",
   "execution_count": 17,
   "id": "c096a2e8",
   "metadata": {},
   "outputs": [
    {
     "data": {
      "text/plain": [
       "{'name': 'Akhilesh',\n",
       " 'age': 16,\n",
       " 'contact': 12345678910,\n",
       " 'Email': 'akhilesh@123gmail.com',\n",
       " 'address': 'Pune',\n",
       " 'Hobby': 'Cricket,Carron,Ludo,Chess,Racing,Photography,Watching English Movie'}"
      ]
     },
     "execution_count": 17,
     "metadata": {},
     "output_type": "execute_result"
    }
   ],
   "source": [
    "person_details['Hobby']='Cricket,Carron,Ludo,Chess,Racing,Photography,Watching English Movie'\n",
    "person_details"
   ]
  },
  {
   "cell_type": "code",
   "execution_count": 18,
   "id": "26782284",
   "metadata": {},
   "outputs": [
    {
     "data": {
      "text/plain": [
       "dict_keys(['name', 'age', 'contact', 'Email', 'address', 'Hobby'])"
      ]
     },
     "execution_count": 18,
     "metadata": {},
     "output_type": "execute_result"
    }
   ],
   "source": [
    "person_details.keys()"
   ]
  },
  {
   "cell_type": "code",
   "execution_count": 19,
   "id": "666676a5",
   "metadata": {},
   "outputs": [
    {
     "data": {
      "text/plain": [
       "dict_values(['Akhilesh', 16, 12345678910, 'akhilesh@123gmail.com', 'Pune', 'Cricket,Carron,Ludo,Chess,Racing,Photography,Watching English Movie'])"
      ]
     },
     "execution_count": 19,
     "metadata": {},
     "output_type": "execute_result"
    }
   ],
   "source": [
    "person_details.values()"
   ]
  },
  {
   "cell_type": "markdown",
   "id": "761f6387",
   "metadata": {},
   "source": [
    "# Deleting an items using del() function in the dictionary by key."
   ]
  },
  {
   "cell_type": "code",
   "execution_count": 20,
   "id": "dc65ac74",
   "metadata": {},
   "outputs": [
    {
     "data": {
      "text/plain": [
       "{'name': 'Akhilesh',\n",
       " 'age': 16,\n",
       " 'Email': 'akhilesh@123gmail.com',\n",
       " 'address': 'Pune',\n",
       " 'Hobby': 'Cricket,Carron,Ludo,Chess,Racing,Photography,Watching English Movie'}"
      ]
     },
     "execution_count": 20,
     "metadata": {},
     "output_type": "execute_result"
    }
   ],
   "source": [
    "del(person_details['contact'])\n",
    "person_details"
   ]
  },
  {
   "cell_type": "markdown",
   "id": "e22297be",
   "metadata": {},
   "source": [
    "# Deleting the whole dictionary using del() funciton by key. "
   ]
  },
  {
   "cell_type": "code",
   "execution_count": 21,
   "id": "6ed0aa53",
   "metadata": {},
   "outputs": [],
   "source": [
    "del(person_details)"
   ]
  },
  {
   "cell_type": "code",
   "execution_count": 22,
   "id": "4291bbb4",
   "metadata": {},
   "outputs": [
    {
     "ename": "NameError",
     "evalue": "name 'person_details' is not defined",
     "output_type": "error",
     "traceback": [
      "\u001b[1;31m---------------------------------------------------------------------------\u001b[0m",
      "\u001b[1;31mNameError\u001b[0m                                 Traceback (most recent call last)",
      "\u001b[1;32m~\\AppData\\Local\\Temp\\ipykernel_5084\\1553017181.py\u001b[0m in \u001b[0;36m<module>\u001b[1;34m\u001b[0m\n\u001b[1;32m----> 1\u001b[1;33m \u001b[0mperson_details\u001b[0m\u001b[1;33m\u001b[0m\u001b[1;33m\u001b[0m\u001b[0m\n\u001b[0m",
      "\u001b[1;31mNameError\u001b[0m: name 'person_details' is not defined"
     ]
    }
   ],
   "source": [
    "person_details"
   ]
  },
  {
   "cell_type": "code",
   "execution_count": 23,
   "id": "7bc4124f",
   "metadata": {},
   "outputs": [
    {
     "data": {
      "text/plain": [
       "{'name': 'Akhilesh',\n",
       " 'age': 16,\n",
       " 'contact': 12345678910,\n",
       " 'Email': 'akhilesh@123gmail.com',\n",
       " 'address': 'Pune'}"
      ]
     },
     "execution_count": 23,
     "metadata": {},
     "output_type": "execute_result"
    }
   ],
   "source": [
    "person_details={'name':'Akhilesh','age':16,'contact':12345678910,\n",
    "               'Email':'akhilesh@123gmail.com','address':'Pune'}\n",
    "person_details"
   ]
  },
  {
   "cell_type": "code",
   "execution_count": 24,
   "id": "dbd56ed8",
   "metadata": {},
   "outputs": [
    {
     "data": {
      "text/plain": [
       "{'name': 'Akhilesh',\n",
       " 'age': 16,\n",
       " 'contact': 12345678910,\n",
       " 'Email': 'akhilesh@123gmail.com',\n",
       " 'address': 'Pune',\n",
       " 'Hobby': 'Cricket,Carron,Ludo,Chess,Racing,Photography,Watching English Movie'}"
      ]
     },
     "execution_count": 24,
     "metadata": {},
     "output_type": "execute_result"
    }
   ],
   "source": [
    "person_details['Hobby']='Cricket,Carron,Ludo,Chess,Racing,Photography,Watching English Movie'\n",
    "person_details"
   ]
  },
  {
   "cell_type": "markdown",
   "id": "feb1cdbe",
   "metadata": {},
   "source": [
    "# Verification using in or not in"
   ]
  },
  {
   "cell_type": "code",
   "execution_count": 27,
   "id": "e8ab50cf",
   "metadata": {},
   "outputs": [
    {
     "name": "stdout",
     "output_type": "stream",
     "text": [
      "True\n",
      "True\n",
      "False\n"
     ]
    }
   ],
   "source": [
    "print('name' in person_details)\n",
    "print('Hobby' in person_details)\n",
    "print('Game' in person_details)"
   ]
  },
  {
   "cell_type": "markdown",
   "id": "525b3606",
   "metadata": {},
   "source": [
    "# dict() function\n",
    "\n",
    " __This function is used to create dictionary.__"
   ]
  },
  {
   "cell_type": "code",
   "execution_count": 28,
   "id": "8345bd1c",
   "metadata": {},
   "outputs": [
    {
     "data": {
      "text/plain": [
       "{'family': 'music',\n",
       " 'type': 'pop',\n",
       " 'year': '2024',\n",
       " 'name': 'Happy New Year 2024'}"
      ]
     },
     "execution_count": 28,
     "metadata": {},
     "output_type": "execute_result"
    }
   ],
   "source": [
    "dict_sample=dict(family='music',type='pop',year='2024',name='Happy New Year 2024')\n",
    "\n",
    "dict_sample"
   ]
  },
  {
   "cell_type": "code",
   "execution_count": 29,
   "id": "72acf177",
   "metadata": {},
   "outputs": [
    {
     "data": {
      "text/plain": [
       "dict_keys(['family', 'type', 'year', 'name'])"
      ]
     },
     "execution_count": 29,
     "metadata": {},
     "output_type": "execute_result"
    }
   ],
   "source": [
    "dict_sample.keys()"
   ]
  },
  {
   "cell_type": "code",
   "execution_count": 30,
   "id": "5a349c05",
   "metadata": {},
   "outputs": [
    {
     "data": {
      "text/plain": [
       "dict_values(['music', 'pop', '2024', 'Happy New Year 2024'])"
      ]
     },
     "execution_count": 30,
     "metadata": {},
     "output_type": "execute_result"
    }
   ],
   "source": [
    "dict_sample.values()"
   ]
  },
  {
   "cell_type": "code",
   "execution_count": null,
   "id": "fa901604",
   "metadata": {},
   "outputs": [],
   "source": []
  }
 ],
 "metadata": {
  "kernelspec": {
   "display_name": "Python 3 (ipykernel)",
   "language": "python",
   "name": "python3"
  },
  "language_info": {
   "codemirror_mode": {
    "name": "ipython",
    "version": 3
   },
   "file_extension": ".py",
   "mimetype": "text/x-python",
   "name": "python",
   "nbconvert_exporter": "python",
   "pygments_lexer": "ipython3",
   "version": "3.9.13"
  }
 },
 "nbformat": 4,
 "nbformat_minor": 5
}
