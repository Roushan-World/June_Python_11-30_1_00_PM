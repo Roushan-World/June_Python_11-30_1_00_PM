{
 "cells": [
  {
   "cell_type": "markdown",
   "id": "a84ae179",
   "metadata": {},
   "source": [
    "# Sets in Python\n",
    "\n",
    "\n",
    " __* Sets is one of the 4th data types in Python used to store collections of data including List, Tuples, and Dictionary.__\n",
    " \n",
    " __* Sets are unordered, but Duplicate elements are not allowed.__\n",
    " \n",
    " __* Sets element are unique but you can remove and add new items.__\n",
    " \n",
    " __* A set itself may be modified, but the element contained in the set must be an immutable type.__\n",
    " \n",
    " __* Sets are used to store multiple items in a single variable.__\n",
    " \n",
    " __* You can denote a set with pair of curly brackets.{}__"
   ]
  },
  {
   "cell_type": "code",
   "execution_count": null,
   "id": "c74cdd44",
   "metadata": {},
   "outputs": [],
   "source": []
  }
 ],
 "metadata": {
  "kernelspec": {
   "display_name": "Python 3 (ipykernel)",
   "language": "python",
   "name": "python3"
  },
  "language_info": {
   "codemirror_mode": {
    "name": "ipython",
    "version": 3
   },
   "file_extension": ".py",
   "mimetype": "text/x-python",
   "name": "python",
   "nbconvert_exporter": "python",
   "pygments_lexer": "ipython3",
   "version": "3.9.13"
  }
 },
 "nbformat": 4,
 "nbformat_minor": 5
}
