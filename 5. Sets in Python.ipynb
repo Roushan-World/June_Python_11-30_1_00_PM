{
 "cells": [
  {
   "cell_type": "markdown",
   "id": "a84ae179",
   "metadata": {},
   "source": [
    "# Sets in Python\n",
    "\n",
    "\n",
    " __* Sets is one of the 4th data types in Python used to store collections of data including List, Tuples, and Dictionary.__\n",
    " \n",
    " __* Sets are unordered, but Duplicate elements are not allowed.__\n",
    " \n",
    " __* Sets element are unique but you can remove and add new items.__\n",
    " \n",
    " __* A set itself may be modified, but the element contained in the set must be an immutable type.__\n",
    " \n",
    " __* Sets are used to store multiple items in a single variable.__\n",
    " \n",
    " __* You can denote a set with pair of curly brackets.{}__"
   ]
  },
  {
   "cell_type": "code",
   "execution_count": 4,
   "id": "c74cdd44",
   "metadata": {},
   "outputs": [
    {
     "name": "stdout",
     "output_type": "stream",
     "text": [
      "<class 'dict'>\n"
     ]
    }
   ],
   "source": [
    "# The empty set of curly braces denotes the empty dictionary, not empty set.\n",
    "\n",
    "x={}\n",
    "print(type(x))"
   ]
  },
  {
   "cell_type": "code",
   "execution_count": 2,
   "id": "31614ab5",
   "metadata": {},
   "outputs": [
    {
     "name": "stdout",
     "output_type": "stream",
     "text": [
      "<class 'set'>\n"
     ]
    }
   ],
   "source": [
    "y=set()\n",
    "print(type(y))"
   ]
  },
  {
   "cell_type": "code",
   "execution_count": 5,
   "id": "f082897c",
   "metadata": {},
   "outputs": [
    {
     "data": {
      "text/plain": [
       "{1.618, 2023, 3.14, False, 'Hello Python', 'Hello World', True}"
      ]
     },
     "execution_count": 5,
     "metadata": {},
     "output_type": "execute_result"
    }
   ],
   "source": [
    "set1={'Hello Python',3.14,1.618,'Hello World',3.14,1.618,True,False,2023}\n",
    "set1"
   ]
  },
  {
   "cell_type": "code",
   "execution_count": 6,
   "id": "96b1b9a3",
   "metadata": {},
   "outputs": [
    {
     "name": "stdout",
     "output_type": "stream",
     "text": [
      "<class 'set'>\n"
     ]
    }
   ],
   "source": [
    "print(type(set1))"
   ]
  },
  {
   "cell_type": "markdown",
   "id": "9451d81c",
   "metadata": {},
   "source": [
    "# Converting list to a set"
   ]
  },
  {
   "cell_type": "code",
   "execution_count": 8,
   "id": "8ba88993",
   "metadata": {},
   "outputs": [
    {
     "name": "stdout",
     "output_type": "stream",
     "text": [
      "['Hello Python', 3.14, 1.618, 'Hello World', 3.14, 1.618, True, False, 2023]\n",
      "{'Hello Python', 1.618, True, 3.14, False, 2023, 'Hello World'}\n"
     ]
    }
   ],
   "source": [
    "nlis=['Hello Python',3.14,1.618,'Hello World',3.14,1.618,True,False,2023]\n",
    "print(nlis)\n",
    "\n",
    "\n",
    "# Convert the list into set\n",
    "\n",
    "set2=set(nlis)\n",
    "print(set2)"
   ]
  },
  {
   "cell_type": "markdown",
   "id": "152b4197",
   "metadata": {},
   "source": [
    "# Set operations"
   ]
  },
  {
   "cell_type": "code",
   "execution_count": 9,
   "id": "5052929c",
   "metadata": {},
   "outputs": [
    {
     "data": {
      "text/plain": [
       "{1.618, 2023, 3.14, False, 'Hello Python', 'Hello World', True}"
      ]
     },
     "execution_count": 9,
     "metadata": {},
     "output_type": "execute_result"
    }
   ],
   "source": [
    "set3={'Hello Python',3.14,1.618,'Hello World',3.14,1.618,True,False,2023}\n",
    "set3"
   ]
  },
  {
   "cell_type": "markdown",
   "id": "a2dbfe3f",
   "metadata": {},
   "source": [
    "# add() functions\n",
    "\n",
    " __To add an element into a set, We use the function add(). If the same element is added to the set, nothing will happen because the set accepts no duplicates.__"
   ]
  },
  {
   "cell_type": "code",
   "execution_count": 10,
   "id": "42084748",
   "metadata": {},
   "outputs": [
    {
     "data": {
      "text/plain": [
       "{1.618, 2023, 3.14, False, 'Hello Python', 'Hello World', True}"
      ]
     },
     "execution_count": 10,
     "metadata": {},
     "output_type": "execute_result"
    }
   ],
   "source": [
    "set3"
   ]
  },
  {
   "cell_type": "code",
   "execution_count": 11,
   "id": "b0adac38",
   "metadata": {},
   "outputs": [
    {
     "data": {
      "text/plain": [
       "{1.618, 2023, 3.14, False, 'Hello Python', 'Hello World', 'Hi,Akhilesh', True}"
      ]
     },
     "execution_count": 11,
     "metadata": {},
     "output_type": "execute_result"
    }
   ],
   "source": [
    "set3.add('Hi,Akhilesh')\n",
    "set3"
   ]
  },
  {
   "cell_type": "code",
   "execution_count": 12,
   "id": "fd1fb924",
   "metadata": {},
   "outputs": [
    {
     "data": {
      "text/plain": [
       "{1.618, 2023, 3.14, False, 'Hello Python', 'Hello World', 'Hi,Akhilesh', True}"
      ]
     },
     "execution_count": 12,
     "metadata": {},
     "output_type": "execute_result"
    }
   ],
   "source": [
    "set3.add('Hi,Akhilesh')\n",
    "set3"
   ]
  },
  {
   "cell_type": "code",
   "execution_count": 13,
   "id": "b7bd1f34",
   "metadata": {},
   "outputs": [
    {
     "data": {
      "text/plain": [
       "{1.618,\n",
       " 2023,\n",
       " 3.14,\n",
       " False,\n",
       " 'Hello Python',\n",
       " 'Hello World',\n",
       " 'Hi,Akhilesh',\n",
       " 'Hi,Python',\n",
       " True}"
      ]
     },
     "execution_count": 13,
     "metadata": {},
     "output_type": "execute_result"
    }
   ],
   "source": [
    "set3.add('Hi,Python')\n",
    "set3"
   ]
  },
  {
   "cell_type": "code",
   "execution_count": 15,
   "id": "1cc6d55f",
   "metadata": {},
   "outputs": [
    {
     "name": "stdout",
     "output_type": "stream",
     "text": [
      "{'Hello Python', 1.618, True, 3.14, False, 'Hi,Akhilesh', 'Hi,Python', 2023, 'Hello World'}\n"
     ]
    }
   ],
   "source": [
    "print(set3)"
   ]
  },
  {
   "cell_type": "markdown",
   "id": "461c6f99",
   "metadata": {},
   "source": [
    "# update() function\n",
    "\n",
    " __To add multiple element into the set We use update() function.__\n",
    " \n",
    " \n",
    " "
   ]
  },
  {
   "cell_type": "code",
   "execution_count": 18,
   "id": "656481f4",
   "metadata": {},
   "outputs": [
    {
     "name": "stdout",
     "output_type": "stream",
     "text": [
      "{6, 7, 8, 9, 10, 60}\n",
      "{3, 4, 5, 6, 7, 8, 9, 10, 60}\n"
     ]
    }
   ],
   "source": [
    "x_set={6,7,8,9,10,60}\n",
    "print(x_set)\n",
    "\n",
    "\n",
    "x_set.update({3,4,5,6,7,8,9})\n",
    "print(x_set)"
   ]
  },
  {
   "cell_type": "markdown",
   "id": "0c9e5385",
   "metadata": {},
   "source": [
    "# remove() function\n",
    "\n",
    " __To remove an element from the set__\n",
    " \n",
    " "
   ]
  },
  {
   "cell_type": "code",
   "execution_count": 19,
   "id": "2ad326f4",
   "metadata": {},
   "outputs": [
    {
     "data": {
      "text/plain": [
       "{3, 4, 5, 6, 7, 8, 9, 10, 60}"
      ]
     },
     "execution_count": 19,
     "metadata": {},
     "output_type": "execute_result"
    }
   ],
   "source": [
    "x_set"
   ]
  },
  {
   "cell_type": "code",
   "execution_count": 20,
   "id": "aaa2c28a",
   "metadata": {},
   "outputs": [
    {
     "data": {
      "text/plain": [
       "{3, 4, 5, 6, 7, 8, 9, 10}"
      ]
     },
     "execution_count": 20,
     "metadata": {},
     "output_type": "execute_result"
    }
   ],
   "source": [
    "x_set.remove(60)\n",
    "x_set"
   ]
  },
  {
   "cell_type": "code",
   "execution_count": 21,
   "id": "21d2553f",
   "metadata": {},
   "outputs": [
    {
     "data": {
      "text/plain": [
       "{1.618,\n",
       " 2023,\n",
       " 3.14,\n",
       " False,\n",
       " 'Hello Python',\n",
       " 'Hello World',\n",
       " 'Hi,Akhilesh',\n",
       " 'Hi,Python',\n",
       " True}"
      ]
     },
     "execution_count": 21,
     "metadata": {},
     "output_type": "execute_result"
    }
   ],
   "source": [
    "set3"
   ]
  },
  {
   "cell_type": "code",
   "execution_count": 22,
   "id": "f0427abe",
   "metadata": {},
   "outputs": [
    {
     "data": {
      "text/plain": [
       "{1.618, 2023, 3.14, False, 'Hello Python', 'Hello World', 'Hi,Akhilesh', True}"
      ]
     },
     "execution_count": 22,
     "metadata": {},
     "output_type": "execute_result"
    }
   ],
   "source": [
    "set3.remove('Hi,Python')\n",
    "set3"
   ]
  },
  {
   "cell_type": "markdown",
   "id": "8b289e02",
   "metadata": {},
   "source": [
    "# Logic Operations in Sets"
   ]
  },
  {
   "cell_type": "code",
   "execution_count": 23,
   "id": "b89da41d",
   "metadata": {},
   "outputs": [
    {
     "name": "stdout",
     "output_type": "stream",
     "text": [
      "{'Hello Python', 1.618, 3.14, 'Hello World'}\n",
      "{False, 1.618, True, 3.14, 2022}\n"
     ]
    }
   ],
   "source": [
    "# Take two sets \n",
    "\n",
    "set4= set(['Hello Python',3.14,1.618,'Hello World'])\n",
    "set5={3.14,1.618,True,False,2022}\n",
    "\n",
    "print(set4)\n",
    "print(set5)"
   ]
  },
  {
   "cell_type": "code",
   "execution_count": 24,
   "id": "87dbbe02",
   "metadata": {},
   "outputs": [
    {
     "data": {
      "text/plain": [
       "({1.618, 3.14, 'Hello Python', 'Hello World'},\n",
       " {False, True, 1.618, 3.14, 2022})"
      ]
     },
     "execution_count": 24,
     "metadata": {},
     "output_type": "execute_result"
    }
   ],
   "source": [
    "set4,set5"
   ]
  },
  {
   "cell_type": "markdown",
   "id": "273a2ec3",
   "metadata": {},
   "source": [
    "# union() function\n",
    "\n",
    " __It corresponds to all the elements in both sides.__"
   ]
  },
  {
   "cell_type": "code",
   "execution_count": 32,
   "id": "1ce34d1f",
   "metadata": {},
   "outputs": [
    {
     "data": {
      "text/plain": [
       "{1.618, 2022, 3.14, False, 'Hello Python', 'Hello World', True}"
      ]
     },
     "execution_count": 32,
     "metadata": {},
     "output_type": "execute_result"
    }
   ],
   "source": [
    "set4.union(set5)"
   ]
  },
  {
   "cell_type": "markdown",
   "id": "02f930e9",
   "metadata": {},
   "source": [
    "# To find the intersect of two sets using &"
   ]
  },
  {
   "cell_type": "code",
   "execution_count": 25,
   "id": "d7aabcdb",
   "metadata": {},
   "outputs": [
    {
     "name": "stdout",
     "output_type": "stream",
     "text": [
      "{1.618, 3.14}\n"
     ]
    }
   ],
   "source": [
    "intersection=set4&set5\n",
    "print(intersection)"
   ]
  },
  {
   "cell_type": "code",
   "execution_count": 26,
   "id": "6d94f3fa",
   "metadata": {},
   "outputs": [
    {
     "data": {
      "text/plain": [
       "{1.618, 3.14}"
      ]
     },
     "execution_count": 26,
     "metadata": {},
     "output_type": "execute_result"
    }
   ],
   "source": [
    "# Other Method\n",
    "\n",
    "set4.intersection(set5)"
   ]
  },
  {
   "cell_type": "code",
   "execution_count": 28,
   "id": "fa5d911c",
   "metadata": {},
   "outputs": [
    {
     "data": {
      "text/plain": [
       "({1.618, 3.14, 'Hello Python', 'Hello World'},\n",
       " {False, True, 1.618, 3.14, 2022})"
      ]
     },
     "execution_count": 28,
     "metadata": {},
     "output_type": "execute_result"
    }
   ],
   "source": [
    "set4,set5"
   ]
  },
  {
   "cell_type": "markdown",
   "id": "61e954d3",
   "metadata": {},
   "source": [
    "# difference() function\n",
    "\n",
    " __To find the difference between two sets__"
   ]
  },
  {
   "cell_type": "code",
   "execution_count": 29,
   "id": "13dd1564",
   "metadata": {},
   "outputs": [
    {
     "name": "stdout",
     "output_type": "stream",
     "text": [
      "{'Hello Python', 'Hello World'}\n",
      "{False, True, 2022}\n"
     ]
    }
   ],
   "source": [
    "print(set4.difference(set5))\n",
    "print(set5.difference(set4))"
   ]
  },
  {
   "cell_type": "code",
   "execution_count": 31,
   "id": "58ba2fa0",
   "metadata": {},
   "outputs": [
    {
     "name": "stdout",
     "output_type": "stream",
     "text": [
      "{'Hello Python', 'Hello World'}\n",
      "{False, True, 2022}\n"
     ]
    }
   ],
   "source": [
    "# other method\n",
    "\n",
    "print(set4-set5)\n",
    "print(set5-set4)"
   ]
  },
  {
   "cell_type": "markdown",
   "id": "5bd7f3e9",
   "metadata": {},
   "source": [
    "# Set comparison"
   ]
  },
  {
   "cell_type": "code",
   "execution_count": 35,
   "id": "8eabbb48",
   "metadata": {},
   "outputs": [
    {
     "name": "stdout",
     "output_type": "stream",
     "text": [
      "False\n",
      "False\n",
      "False\n"
     ]
    }
   ],
   "source": [
    "print(set4>set5)\n",
    "print(set5>set4)\n",
    "print(set5==set4)"
   ]
  },
  {
   "cell_type": "markdown",
   "id": "4b42edd1",
   "metadata": {},
   "source": [
    "# min(),max(), sum() function"
   ]
  },
  {
   "cell_type": "code",
   "execution_count": 42,
   "id": "13e359ca",
   "metadata": {},
   "outputs": [
    {
     "name": "stdout",
     "output_type": "stream",
     "text": [
      "The minimum number of A is: 1\n",
      "The minimum number of B is: 1\n",
      "The maximum number of A is: 9\n",
      "The maximum number of B is: 9\n",
      "The sum of number A is: 54\n",
      "The sum of number B is: 45\n"
     ]
    }
   ],
   "source": [
    "a=[1,1,1,1,2,2,2,2,3,4,5,6,7,8,9]\n",
    "b={1,1,1,1,2,2,2,2,3,4,5,6,7,8,9}\n",
    "\n",
    "print('The minimum number of A is:',min(a))\n",
    "print('The minimum number of B is:',min(b))\n",
    "print('The maximum number of A is:',max(a))\n",
    "print('The maximum number of B is:',max(b))\n",
    "print('The sum of number A is:',sum(a))\n",
    "print('The sum of number B is:',sum(b))"
   ]
  },
  {
   "cell_type": "markdown",
   "id": "e56f5005",
   "metadata": {},
   "source": [
    "# Index() function\n",
    "\n",
    " __This function does not work in set since the set is unordered collections.__"
   ]
  },
  {
   "cell_type": "code",
   "execution_count": 47,
   "id": "3af4374f",
   "metadata": {},
   "outputs": [
    {
     "data": {
      "text/plain": [
       "{1, 2, 3, 4, 5, 6, 7, 8}"
      ]
     },
     "execution_count": 47,
     "metadata": {},
     "output_type": "execute_result"
    }
   ],
   "source": [
    "set7={1,2,3,4,5,6,7,8}\n",
    "set7"
   ]
  },
  {
   "cell_type": "code",
   "execution_count": 48,
   "id": "4a80858d",
   "metadata": {},
   "outputs": [
    {
     "ename": "TypeError",
     "evalue": "'set' object is not subscriptable",
     "output_type": "error",
     "traceback": [
      "\u001b[1;31m---------------------------------------------------------------------------\u001b[0m",
      "\u001b[1;31mTypeError\u001b[0m                                 Traceback (most recent call last)",
      "\u001b[1;32m~\\AppData\\Local\\Temp\\ipykernel_11988\\672617855.py\u001b[0m in \u001b[0;36m<module>\u001b[1;34m\u001b[0m\n\u001b[1;32m----> 1\u001b[1;33m \u001b[0mset7\u001b[0m\u001b[1;33m[\u001b[0m\u001b[1;36m0\u001b[0m\u001b[1;33m]\u001b[0m\u001b[1;33m\u001b[0m\u001b[1;33m\u001b[0m\u001b[0m\n\u001b[0m",
      "\u001b[1;31mTypeError\u001b[0m: 'set' object is not subscriptable"
     ]
    }
   ],
   "source": [
    "set7[0]"
   ]
  },
  {
   "cell_type": "code",
   "execution_count": 53,
   "id": "d5e57cd6",
   "metadata": {},
   "outputs": [
    {
     "name": "stdout",
     "output_type": "stream",
     "text": [
      "{1, 3, 5, 7, 9}\n",
      "{1, 3, 5, 7, 9}\n",
      "{1, 3, 5, 7, 9, 'hello world'}\n",
      "{1, 3, 5, 7, 9, 'hello world'}\n"
     ]
    }
   ],
   "source": [
    "#Deep copy\n",
    "set8={1,3,5,7,9}\n",
    "print(set8)\n",
    "set9=set8\n",
    "print(set9)\n",
    "\n",
    "set9.add('hello world')\n",
    "print(set9)\n",
    "print(set8)"
   ]
  },
  {
   "cell_type": "code",
   "execution_count": 57,
   "id": "3d2c1620",
   "metadata": {},
   "outputs": [
    {
     "name": "stdout",
     "output_type": "stream",
     "text": [
      "{1, 3, 5, 7, 9}\n",
      "{1, 3, 5, 7, 9}\n",
      "{1, 3, 5, 7, 9, 'Hello Akhilesh'}\n",
      "{1, 3, 5, 7, 9}\n"
     ]
    }
   ],
   "source": [
    "# Swallow copy\n",
    "\n",
    "set10={1,3,5,7,9}\n",
    "set11=set10.copy()\n",
    "print(set10)\n",
    "print(set11)\n",
    "\n",
    "set10.add('Hello Akhilesh')\n",
    "print(set10)\n",
    "print(set11)"
   ]
  },
  {
   "cell_type": "code",
   "execution_count": null,
   "id": "e5256fae",
   "metadata": {},
   "outputs": [],
   "source": []
  }
 ],
 "metadata": {
  "kernelspec": {
   "display_name": "Python 3 (ipykernel)",
   "language": "python",
   "name": "python3"
  },
  "language_info": {
   "codemirror_mode": {
    "name": "ipython",
    "version": 3
   },
   "file_extension": ".py",
   "mimetype": "text/x-python",
   "name": "python",
   "nbconvert_exporter": "python",
   "pygments_lexer": "ipython3",
   "version": "3.9.13"
  }
 },
 "nbformat": 4,
 "nbformat_minor": 5
}
