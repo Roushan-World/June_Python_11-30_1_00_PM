{
 "cells": [
  {
   "cell_type": "markdown",
   "id": "a355112b",
   "metadata": {},
   "source": [
    "# 8. Loops in Python\n",
    " * __A for loop is used for iteration over a sequence (that is either a list, a tuple, a dictionary, a set, or a string).__\n",
    " * __This is less like the for keyword in other programming languages, and works more like an iterator method as found in ohter object- oriented  programming languages.__\n",
    " * __With the for loop we can execute a set of statement, once for each item in a list, tuple, set etc.__\n",
    " * __The for loop does not require an indexing variable to set beforehand.__\n",
    " * __With the while loop we can execute a set of statements as long as a condition is true.__\n",
    " * __Note: Remember to increment i, or else the loop will continue forever.__\n",
    " * __The while loop requires relevant variables to ready, in this example we need to defien an indexing variable, i, which we set to 1.__\n",
    "\n",
    "\n",
    "# range() function\n",
    " * __It is helpful to think of ;the range object as an ordered list.__\n",
    " * __To loop thorough a set of code a specified number of times, we can use the range() function.__\n",
    " * __The range() function returns a sequence of numbers, starting from 0 by default, and increments by 1(by default), and ends at specified number.__"
   ]
  },
  {
   "cell_type": "code",
   "execution_count": 2,
   "id": "a1315f52",
   "metadata": {},
   "outputs": [
    {
     "name": "stdout",
     "output_type": "stream",
     "text": [
      "range(0, 10)\n",
      "range(10, 100)\n"
     ]
    }
   ],
   "source": [
    "# Take a range() function\n",
    "\n",
    "print(range(10))\n",
    "print(range(10,100))"
   ]
  },
  {
   "cell_type": "markdown",
   "id": "c9036516",
   "metadata": {},
   "source": [
    "# For loop\n",
    "\n",
    " __The for loop enables you to execute a code of multiple times.__"
   ]
  },
  {
   "cell_type": "code",
   "execution_count": 3,
   "id": "7ff0ecf3",
   "metadata": {},
   "outputs": [
    {
     "name": "stdout",
     "output_type": "stream",
     "text": [
      "2005\n",
      "2006\n",
      "2007\n",
      "2008\n",
      "2009\n",
      "2010\n",
      "2011\n"
     ]
    }
   ],
   "source": [
    "# Directly accessing to the element in the list.\n",
    "\n",
    "list_year=[2005,2006,2007,2008,2009,2010,2011]\n",
    "\n",
    "\n",
    "for i in list_year:\n",
    "    print(i)"
   ]
  },
  {
   "cell_type": "code",
   "execution_count": 5,
   "id": "9def3e68",
   "metadata": {},
   "outputs": [
    {
     "name": "stdout",
     "output_type": "stream",
     "text": [
      "10\n",
      "11\n",
      "12\n",
      "13\n",
      "14\n",
      "15\n",
      "16\n",
      "17\n",
      "18\n",
      "19\n",
      "20\n"
     ]
    }
   ],
   "source": [
    "# Another examples of for loop\n",
    "\n",
    "for i in range(10,21):\n",
    "    print(i)"
   ]
  },
  {
   "cell_type": "code",
   "execution_count": 6,
   "id": "57457991",
   "metadata": {},
   "outputs": [
    {
     "name": "stdout",
     "output_type": "stream",
     "text": [
      "0\n",
      "1\n",
      "2\n",
      "3\n",
      "4\n",
      "5\n",
      "6\n",
      "7\n",
      "8\n",
      "9\n",
      "10\n",
      "11\n",
      "12\n",
      "13\n",
      "14\n",
      "15\n",
      "16\n",
      "17\n",
      "18\n",
      "19\n",
      "20\n"
     ]
    }
   ],
   "source": [
    "for i in range(21):\n",
    "    print(i)"
   ]
  },
  {
   "cell_type": "code",
   "execution_count": 11,
   "id": "32070236",
   "metadata": {},
   "outputs": [
    {
     "name": "stdout",
     "output_type": "stream",
     "text": [
      "1\n",
      "3\n",
      "5\n",
      "7\n",
      "9\n",
      "11\n",
      "13\n",
      "15\n",
      "17\n",
      "19\n"
     ]
    }
   ],
   "source": [
    "for i in range(1,21,2):\n",
    "    print(i)"
   ]
  },
  {
   "cell_type": "code",
   "execution_count": 3,
   "id": "06933277",
   "metadata": {},
   "outputs": [
    {
     "name": "stdout",
     "output_type": "stream",
     "text": [
      "java\n",
      "python\n",
      "C\n",
      "C++\n",
      "php\n",
      "laravel\n"
     ]
    }
   ],
   "source": [
    "language=[\"java\",\"python\",\"C\",\"C++\",\"php\",\"laravel\"]\n",
    "\n",
    "for i in language:\n",
    "    print(i)"
   ]
  },
  {
   "cell_type": "code",
   "execution_count": 8,
   "id": "e9a83741",
   "metadata": {},
   "outputs": [
    {
     "name": "stdout",
     "output_type": "stream",
     "text": [
      "0 java\n",
      "1 python\n",
      "2 C\n",
      "3 C++\n",
      "4 php\n",
      "5 laravel\n"
     ]
    }
   ],
   "source": [
    "language=[\"java\",\"python\",\"C\",\"C++\",\"php\",\"laravel\"]\n",
    "\n",
    "for i in range(len(language)):\n",
    "    print(i,language[i])"
   ]
  },
  {
   "cell_type": "markdown",
   "id": "d2e163a9",
   "metadata": {},
   "source": [
    "# Brake in for loop"
   ]
  },
  {
   "cell_type": "code",
   "execution_count": 9,
   "id": "9021a227",
   "metadata": {},
   "outputs": [
    {
     "name": "stdout",
     "output_type": "stream",
     "text": [
      "-3\n",
      "-2\n",
      "-1\n",
      "0\n",
      "1\n",
      "2\n",
      "3\n",
      "4\n",
      "5\n",
      "6\n"
     ]
    }
   ],
   "source": [
    "for i in range(-3,7):\n",
    "    print(i)"
   ]
  },
  {
   "cell_type": "code",
   "execution_count": 11,
   "id": "a18bb17a",
   "metadata": {},
   "outputs": [
    {
     "name": "stdout",
     "output_type": "stream",
     "text": [
      "-3\n",
      "-2\n",
      "-1\n",
      "0\n",
      "1\n",
      "2\n"
     ]
    }
   ],
   "source": [
    "for i in range(-3,7):\n",
    "    if i==3:\n",
    "        break\n",
    "    print(i)"
   ]
  },
  {
   "cell_type": "markdown",
   "id": "0fa15c95",
   "metadata": {},
   "source": [
    "# Continue in for loop"
   ]
  },
  {
   "cell_type": "code",
   "execution_count": 12,
   "id": "7db7c01f",
   "metadata": {},
   "outputs": [
    {
     "name": "stdout",
     "output_type": "stream",
     "text": [
      "-3\n",
      "-2\n",
      "-1\n",
      "0\n",
      "1\n",
      "2\n",
      "4\n",
      "5\n",
      "6\n"
     ]
    }
   ],
   "source": [
    "for i in range(-3,7):\n",
    "    if i==3:\n",
    "        continue\n",
    "    print(i)"
   ]
  },
  {
   "cell_type": "markdown",
   "id": "bae82aa7",
   "metadata": {},
   "source": [
    "# for else statement\n"
   ]
  },
  {
   "cell_type": "code",
   "execution_count": 18,
   "id": "0e1c14ec",
   "metadata": {},
   "outputs": [
    {
     "name": "stdout",
     "output_type": "stream",
     "text": [
      "1 2 3 4 5 These are numbers from 1 to 5.\n"
     ]
    }
   ],
   "source": [
    "for i in range(1,6):\n",
    "    print(i,end=' ')\n",
    "else:\n",
    "    print('These are numbers from 1 to 5.')"
   ]
  },
  {
   "cell_type": "code",
   "execution_count": 22,
   "id": "89336cf9",
   "metadata": {},
   "outputs": [
    {
     "name": "stdout",
     "output_type": "stream",
     "text": [
      "Enter any number:\n",
      "19\n",
      "19 X 1 = 19\n",
      "19 X 2 = 38\n",
      "19 X 3 = 57\n",
      "19 X 4 = 76\n",
      "19 X 5 = 95\n",
      "19 X 6 = 114\n",
      "19 X 7 = 133\n",
      "19 X 8 = 152\n",
      "19 X 9 = 171\n",
      "19 X 10 = 190\n"
     ]
    }
   ],
   "source": [
    "num=int(input('Enter any number:\\n'))\n",
    "\n",
    "for i in range(1,11):\n",
    "    print('%d X %d = %d'%(num,i,num*i))"
   ]
  },
  {
   "cell_type": "markdown",
   "id": "bab715e0",
   "metadata": {},
   "source": [
    "# Addition and average calculation in for loop"
   ]
  },
  {
   "cell_type": "code",
   "execution_count": 3,
   "id": "bdcd4732",
   "metadata": {},
   "outputs": [
    {
     "name": "stdout",
     "output_type": "stream",
     "text": [
      "The total value of the number in the list is: 729.442\n",
      "The Average of the number in the list is: 81.04911111111112\n"
     ]
    }
   ],
   "source": [
    "# Take a list\n",
    "x=[0.577,2.718,3.147,6,100,37,80,200,300]\n",
    "\n",
    "count=0\n",
    "\n",
    "for i in x:\n",
    "    count+=i\n",
    "print(\"The total value of the number in the list is:\",count)\n",
    "print(\"The Average of the number in the list is:\",count/len(x))"
   ]
  },
  {
   "cell_type": "markdown",
   "id": "852ffef7",
   "metadata": {},
   "source": [
    "# While loop\n",
    "\n",
    " * __The while loop exists as a tool for repeated execution based on a condition. The code block will keep being executed until the given logical condition returns a False boolean value.__"
   ]
  },
  {
   "cell_type": "code",
   "execution_count": 4,
   "id": "014c3682",
   "metadata": {},
   "outputs": [
    {
     "name": "stdout",
     "output_type": "stream",
     "text": [
      "10\n",
      "11\n",
      "12\n",
      "13\n",
      "14\n"
     ]
    }
   ],
   "source": [
    "# take an example\n",
    "\n",
    "i = 10\n",
    "\n",
    "while i<15:\n",
    "    print(i)\n",
    "    i+=1"
   ]
  },
  {
   "cell_type": "code",
   "execution_count": 5,
   "id": "8ab8d3e7",
   "metadata": {},
   "outputs": [
    {
     "name": "stdout",
     "output_type": "stream",
     "text": [
      "22\n",
      "21\n",
      "20\n",
      "19\n",
      "18\n",
      "17\n"
     ]
    }
   ],
   "source": [
    "# Take an example\n",
    "\n",
    "i = 22\n",
    "while i>=17:\n",
    "    print(i)\n",
    "    i-=1"
   ]
  },
  {
   "cell_type": "code",
   "execution_count": 7,
   "id": "27318e2e",
   "metadata": {},
   "outputs": [
    {
     "name": "stdout",
     "output_type": "stream",
     "text": [
      "Enter any number\n",
      "19\n",
      "19 X 1 = 19\n",
      "19 X 2 = 38\n",
      "19 X 3 = 57\n",
      "19 X 4 = 76\n",
      "19 X 5 = 95\n",
      "19 X 6 = 114\n",
      "19 X 7 = 133\n",
      "19 X 8 = 152\n",
      "19 X 9 = 171\n",
      "19 X 10 = 190\n"
     ]
    }
   ],
   "source": [
    "# Write a table using while loop\n",
    "num1=int(input('Enter any number\\n'))\n",
    "\n",
    "i = 1\n",
    "while i<=10:\n",
    "    print('%d X %d = %d'%(num1,i,num1*i))\n",
    "    i+=1"
   ]
  },
  {
   "cell_type": "markdown",
   "id": "6cf54a2c",
   "metadata": {},
   "source": [
    "# While-else statement"
   ]
  },
  {
   "cell_type": "code",
   "execution_count": 10,
   "id": "86d04207",
   "metadata": {},
   "outputs": [
    {
     "name": "stdout",
     "output_type": "stream",
     "text": [
      "0 1 2 3 4 5 It gives us the number from 0 to 5\n"
     ]
    }
   ],
   "source": [
    "index=0\n",
    "while index<=5:\n",
    "    print(index,end=' ')\n",
    "    index+=1\n",
    "else:\n",
    "    print('It gives us the number from 0 to 5')"
   ]
  },
  {
   "cell_type": "markdown",
   "id": "f866dc01",
   "metadata": {},
   "source": [
    "# Continue in while loop"
   ]
  },
  {
   "cell_type": "code",
   "execution_count": 11,
   "id": "4b6dd802",
   "metadata": {},
   "outputs": [
    {
     "name": "stdout",
     "output_type": "stream",
     "text": [
      "0\n",
      "1\n",
      "2\n",
      "3\n",
      "4\n",
      "5\n",
      "6\n",
      "7\n",
      "8\n",
      "9\n",
      "10\n"
     ]
    }
   ],
   "source": [
    "i= 0\n",
    "while i<=10:\n",
    "    print(i)\n",
    "    i+=1\n",
    "    if i==5:\n",
    "        continue"
   ]
  },
  {
   "cell_type": "markdown",
   "id": "4c786fbc",
   "metadata": {},
   "source": [
    "# break in while loop"
   ]
  },
  {
   "cell_type": "code",
   "execution_count": 12,
   "id": "4d88e9df",
   "metadata": {},
   "outputs": [
    {
     "name": "stdout",
     "output_type": "stream",
     "text": [
      "0\n",
      "1\n",
      "2\n",
      "3\n",
      "4\n"
     ]
    }
   ],
   "source": [
    "i= 0\n",
    "while i<=10:\n",
    "    print(i)\n",
    "    i+=1\n",
    "    if i==5:\n",
    "        break"
   ]
  },
  {
   "cell_type": "code",
   "execution_count": 15,
   "id": "89c34f2e",
   "metadata": {},
   "outputs": [
    {
     "name": "stdout",
     "output_type": "stream",
     "text": [
      "2\n",
      "4\n",
      "6\n",
      "8\n",
      "10\n",
      "12\n",
      "14\n",
      "16\n",
      "18\n",
      "20\n",
      "22\n",
      "24\n",
      "26\n",
      "28\n",
      "30\n",
      "32\n",
      "34\n",
      "36\n",
      "38\n",
      "40\n",
      "42\n",
      "44\n",
      "46\n",
      "48\n",
      "50\n"
     ]
    }
   ],
   "source": [
    "# Write a program to print all even number from 0-50 with for loop.\n",
    "\n",
    "for i in range(2,51,2):\n",
    "    print(i)"
   ]
  },
  {
   "cell_type": "code",
   "execution_count": 20,
   "id": "3f8f6e6c",
   "metadata": {},
   "outputs": [
    {
     "name": "stdout",
     "output_type": "stream",
     "text": [
      "The total sum of the number from 1-10: 55\n"
     ]
    }
   ],
   "source": [
    "# Write a program to calculte sum of all number from 1 to 10\n",
    "\n",
    "sum=0\n",
    "for i in range(1,11):\n",
    "    sum=sum+i\n",
    "print(\"The total sum of the number from 1-10:\",sum)"
   ]
  },
  {
   "cell_type": "code",
   "execution_count": 22,
   "id": "17492c35",
   "metadata": {},
   "outputs": [
    {
     "name": "stdout",
     "output_type": "stream",
     "text": [
      "1 :is an odd number\n",
      "2 :is an even number\n",
      "3 :is an odd number\n",
      "54 :is an even number\n",
      "50 :is an even number\n",
      "2002 :is an even number\n",
      "168 :is an even number\n",
      "597 :is an odd number\n",
      "256 :is an even number\n",
      "300 :is an even number\n",
      "167 :is an odd number\n"
     ]
    }
   ],
   "source": [
    "# Write a program to find the even or odd number fromm the series.\n",
    "# num=[1,2,3,54,50,2002,168,597,256,300,167]\n",
    "num=[1,2,3,54,50,2002,168,597,256,300,167]\n",
    "\n",
    "for i in num:\n",
    "    if i%2==0:\n",
    "        print(i,':is an even number')\n",
    "    else:\n",
    "        print(i,':is an odd number')"
   ]
  },
  {
   "cell_type": "code",
   "execution_count": null,
   "id": "4aba2d15",
   "metadata": {},
   "outputs": [],
   "source": []
  }
 ],
 "metadata": {
  "kernelspec": {
   "display_name": "Python 3 (ipykernel)",
   "language": "python",
   "name": "python3"
  },
  "language_info": {
   "codemirror_mode": {
    "name": "ipython",
    "version": 3
   },
   "file_extension": ".py",
   "mimetype": "text/x-python",
   "name": "python",
   "nbconvert_exporter": "python",
   "pygments_lexer": "ipython3",
   "version": "3.9.13"
  }
 },
 "nbformat": 4,
 "nbformat_minor": 5
}
