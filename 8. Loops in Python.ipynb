{
 "cells": [
  {
   "cell_type": "markdown",
   "id": "a355112b",
   "metadata": {},
   "source": [
    "# 8. Loops in Python\n",
    " * __A for loop is used for iteration over a sequence (that is either a list, a tuple, a dictionary, a set, or a string).__\n",
    " * __This is less like the for keyword in other programming languages, and works more like an iterator method as found in ohter object- oriented  programming languages.__\n",
    " * __With the for loop we can execute a set of statement, once for each item in a list, tuple, set etc.__\n",
    " * __The for loop does not require an indexing variable to set beforehand.__\n",
    " * __With the while loop we can execute a set of statements as long as a condition is true.__\n",
    " * __Note: Remember to increment i, or else the loop will continue forever.__\n",
    " * __The while loop requires relevant variables to ready, in this example we need to defien an indexing variable, i, which we set to 1.__\n",
    "\n",
    "\n",
    "# range() function\n",
    " * __It is helpful to think of ;the range object as an ordered list.__\n",
    " * __To loop thorough a set of code a specified number of times, we can use the range() function.__\n",
    " * __The range() function returns a sequence of numbers, starting from 0 by default, and increments by 1(by default), and ends at specified number.__"
   ]
  },
  {
   "cell_type": "code",
   "execution_count": 2,
   "id": "a1315f52",
   "metadata": {},
   "outputs": [
    {
     "name": "stdout",
     "output_type": "stream",
     "text": [
      "range(0, 10)\n",
      "range(10, 100)\n"
     ]
    }
   ],
   "source": [
    "# Take a range() function\n",
    "\n",
    "print(range(10))\n",
    "print(range(10,100))"
   ]
  },
  {
   "cell_type": "markdown",
   "id": "c9036516",
   "metadata": {},
   "source": [
    "# For loop\n",
    "\n",
    " __The for loop enables you to execute a code of multiple times.__"
   ]
  },
  {
   "cell_type": "code",
   "execution_count": 3,
   "id": "7ff0ecf3",
   "metadata": {},
   "outputs": [
    {
     "name": "stdout",
     "output_type": "stream",
     "text": [
      "2005\n",
      "2006\n",
      "2007\n",
      "2008\n",
      "2009\n",
      "2010\n",
      "2011\n"
     ]
    }
   ],
   "source": [
    "# Directly accessing to the element in the list.\n",
    "\n",
    "list_year=[2005,2006,2007,2008,2009,2010,2011]\n",
    "\n",
    "\n",
    "for i in list_year:\n",
    "    print(i)"
   ]
  },
  {
   "cell_type": "code",
   "execution_count": 5,
   "id": "9def3e68",
   "metadata": {},
   "outputs": [
    {
     "name": "stdout",
     "output_type": "stream",
     "text": [
      "10\n",
      "11\n",
      "12\n",
      "13\n",
      "14\n",
      "15\n",
      "16\n",
      "17\n",
      "18\n",
      "19\n",
      "20\n"
     ]
    }
   ],
   "source": [
    "# Another examples of for loop\n",
    "\n",
    "for i in range(10,21):\n",
    "    print(i)"
   ]
  },
  {
   "cell_type": "code",
   "execution_count": 6,
   "id": "57457991",
   "metadata": {},
   "outputs": [
    {
     "name": "stdout",
     "output_type": "stream",
     "text": [
      "0\n",
      "1\n",
      "2\n",
      "3\n",
      "4\n",
      "5\n",
      "6\n",
      "7\n",
      "8\n",
      "9\n",
      "10\n",
      "11\n",
      "12\n",
      "13\n",
      "14\n",
      "15\n",
      "16\n",
      "17\n",
      "18\n",
      "19\n",
      "20\n"
     ]
    }
   ],
   "source": [
    "for i in range(21):\n",
    "    print(i)"
   ]
  },
  {
   "cell_type": "code",
   "execution_count": 11,
   "id": "32070236",
   "metadata": {},
   "outputs": [
    {
     "name": "stdout",
     "output_type": "stream",
     "text": [
      "1\n",
      "3\n",
      "5\n",
      "7\n",
      "9\n",
      "11\n",
      "13\n",
      "15\n",
      "17\n",
      "19\n"
     ]
    }
   ],
   "source": [
    "for i in range(1,21,2):\n",
    "    print(i)"
   ]
  },
  {
   "cell_type": "code",
   "execution_count": 3,
   "id": "06933277",
   "metadata": {},
   "outputs": [
    {
     "name": "stdout",
     "output_type": "stream",
     "text": [
      "java\n",
      "python\n",
      "C\n",
      "C++\n",
      "php\n",
      "laravel\n"
     ]
    }
   ],
   "source": [
    "language=[\"java\",\"python\",\"C\",\"C++\",\"php\",\"laravel\"]\n",
    "\n",
    "for i in language:\n",
    "    print(i)"
   ]
  },
  {
   "cell_type": "code",
   "execution_count": 8,
   "id": "e9a83741",
   "metadata": {},
   "outputs": [
    {
     "name": "stdout",
     "output_type": "stream",
     "text": [
      "0 java\n",
      "1 python\n",
      "2 C\n",
      "3 C++\n",
      "4 php\n",
      "5 laravel\n"
     ]
    }
   ],
   "source": [
    "language=[\"java\",\"python\",\"C\",\"C++\",\"php\",\"laravel\"]\n",
    "\n",
    "for i in range(len(language)):\n",
    "    print(i,language[i])"
   ]
  },
  {
   "cell_type": "markdown",
   "id": "d2e163a9",
   "metadata": {},
   "source": [
    "# Brake in for loop"
   ]
  },
  {
   "cell_type": "code",
   "execution_count": 9,
   "id": "9021a227",
   "metadata": {},
   "outputs": [
    {
     "name": "stdout",
     "output_type": "stream",
     "text": [
      "-3\n",
      "-2\n",
      "-1\n",
      "0\n",
      "1\n",
      "2\n",
      "3\n",
      "4\n",
      "5\n",
      "6\n"
     ]
    }
   ],
   "source": [
    "for i in range(-3,7):\n",
    "    print(i)"
   ]
  },
  {
   "cell_type": "code",
   "execution_count": 11,
   "id": "a18bb17a",
   "metadata": {},
   "outputs": [
    {
     "name": "stdout",
     "output_type": "stream",
     "text": [
      "-3\n",
      "-2\n",
      "-1\n",
      "0\n",
      "1\n",
      "2\n"
     ]
    }
   ],
   "source": [
    "for i in range(-3,7):\n",
    "    if i==3:\n",
    "        break\n",
    "    print(i)"
   ]
  },
  {
   "cell_type": "markdown",
   "id": "0fa15c95",
   "metadata": {},
   "source": [
    "# Continue in for loop"
   ]
  },
  {
   "cell_type": "code",
   "execution_count": 12,
   "id": "7db7c01f",
   "metadata": {},
   "outputs": [
    {
     "name": "stdout",
     "output_type": "stream",
     "text": [
      "-3\n",
      "-2\n",
      "-1\n",
      "0\n",
      "1\n",
      "2\n",
      "4\n",
      "5\n",
      "6\n"
     ]
    }
   ],
   "source": [
    "for i in range(-3,7):\n",
    "    if i==3:\n",
    "        continue\n",
    "    print(i)"
   ]
  },
  {
   "cell_type": "markdown",
   "id": "bae82aa7",
   "metadata": {},
   "source": [
    "# for else statement\n"
   ]
  },
  {
   "cell_type": "code",
   "execution_count": 18,
   "id": "0e1c14ec",
   "metadata": {},
   "outputs": [
    {
     "name": "stdout",
     "output_type": "stream",
     "text": [
      "1 2 3 4 5 These are numbers from 1 to 5.\n"
     ]
    }
   ],
   "source": [
    "for i in range(1,6):\n",
    "    print(i,end=' ')\n",
    "else:\n",
    "    print('These are numbers from 1 to 5.')"
   ]
  },
  {
   "cell_type": "code",
   "execution_count": 22,
   "id": "89336cf9",
   "metadata": {},
   "outputs": [
    {
     "name": "stdout",
     "output_type": "stream",
     "text": [
      "Enter any number:\n",
      "19\n",
      "19 X 1 = 19\n",
      "19 X 2 = 38\n",
      "19 X 3 = 57\n",
      "19 X 4 = 76\n",
      "19 X 5 = 95\n",
      "19 X 6 = 114\n",
      "19 X 7 = 133\n",
      "19 X 8 = 152\n",
      "19 X 9 = 171\n",
      "19 X 10 = 190\n"
     ]
    }
   ],
   "source": [
    "num=int(input('Enter any number:\\n'))\n",
    "\n",
    "for i in range(1,11):\n",
    "    print('%d X %d = %d'%(num,i,num*i))"
   ]
  },
  {
   "cell_type": "code",
   "execution_count": null,
   "id": "41a3f17b",
   "metadata": {},
   "outputs": [],
   "source": []
  }
 ],
 "metadata": {
  "kernelspec": {
   "display_name": "Python 3 (ipykernel)",
   "language": "python",
   "name": "python3"
  },
  "language_info": {
   "codemirror_mode": {
    "name": "ipython",
    "version": 3
   },
   "file_extension": ".py",
   "mimetype": "text/x-python",
   "name": "python",
   "nbconvert_exporter": "python",
   "pygments_lexer": "ipython3",
   "version": "3.9.13"
  }
 },
 "nbformat": 4,
 "nbformat_minor": 5
}
