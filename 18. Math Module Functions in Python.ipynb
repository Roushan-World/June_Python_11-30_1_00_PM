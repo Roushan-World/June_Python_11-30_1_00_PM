{
 "cells": [
  {
   "cell_type": "markdown",
   "id": "8dd7461d",
   "metadata": {},
   "source": [
    "# 18. Math Module Functions in Python\n",
    "\n",
    " * __Python math module is defined as the most famous mathematical functions, which indcludes trigonometric functions, representation functions, logarithmic functions etc.__\n",
    " \n",
    " * __Furthermore, it also defines two mathematical constants, i.e: Pie and Euler's number, etc__\n",
    " \n",
    " * __Pie(n): It is a well-known mathematical constant and defined as the ratio of circumstance to the diameter of circle. Its value is 3.141592653589793.__\n",
    " \n",
    " * __Euler's number(e): It is defined as the base of the natural logarithmic, and its value is 2.718281828459045__\n",
    " \n",
    " * __The math module has a set of methods and constants.__"
   ]
  },
  {
   "cell_type": "code",
   "execution_count": 4,
   "id": "93502049",
   "metadata": {},
   "outputs": [],
   "source": [
    "# import math module and functions.\n",
    "\n",
    "import math\n",
    "\n",
    "from math import *"
   ]
  },
  {
   "cell_type": "code",
   "execution_count": 5,
   "id": "e25a1ea5",
   "metadata": {},
   "outputs": [
    {
     "name": "stdout",
     "output_type": "stream",
     "text": [
      "Help on built-in module math:\n",
      "\n",
      "NAME\n",
      "    math\n",
      "\n",
      "DESCRIPTION\n",
      "    This module provides access to the mathematical functions\n",
      "    defined by the C standard.\n",
      "\n",
      "FUNCTIONS\n",
      "    acos(x, /)\n",
      "        Return the arc cosine (measured in radians) of x.\n",
      "        \n",
      "        The result is between 0 and pi.\n",
      "    \n",
      "    acosh(x, /)\n",
      "        Return the inverse hyperbolic cosine of x.\n",
      "    \n",
      "    asin(x, /)\n",
      "        Return the arc sine (measured in radians) of x.\n",
      "        \n",
      "        The result is between -pi/2 and pi/2.\n",
      "    \n",
      "    asinh(x, /)\n",
      "        Return the inverse hyperbolic sine of x.\n",
      "    \n",
      "    atan(x, /)\n",
      "        Return the arc tangent (measured in radians) of x.\n",
      "        \n",
      "        The result is between -pi/2 and pi/2.\n",
      "    \n",
      "    atan2(y, x, /)\n",
      "        Return the arc tangent (measured in radians) of y/x.\n",
      "        \n",
      "        Unlike atan(y/x), the signs of both x and y are considered.\n",
      "    \n",
      "    atanh(x, /)\n",
      "        Return the inverse hyperbolic tangent of x.\n",
      "    \n",
      "    ceil(x, /)\n",
      "        Return the ceiling of x as an Integral.\n",
      "        \n",
      "        This is the smallest integer >= x.\n",
      "    \n",
      "    comb(n, k, /)\n",
      "        Number of ways to choose k items from n items without repetition and without order.\n",
      "        \n",
      "        Evaluates to n! / (k! * (n - k)!) when k <= n and evaluates\n",
      "        to zero when k > n.\n",
      "        \n",
      "        Also called the binomial coefficient because it is equivalent\n",
      "        to the coefficient of k-th term in polynomial expansion of the\n",
      "        expression (1 + x)**n.\n",
      "        \n",
      "        Raises TypeError if either of the arguments are not integers.\n",
      "        Raises ValueError if either of the arguments are negative.\n",
      "    \n",
      "    copysign(x, y, /)\n",
      "        Return a float with the magnitude (absolute value) of x but the sign of y.\n",
      "        \n",
      "        On platforms that support signed zeros, copysign(1.0, -0.0)\n",
      "        returns -1.0.\n",
      "    \n",
      "    cos(x, /)\n",
      "        Return the cosine of x (measured in radians).\n",
      "    \n",
      "    cosh(x, /)\n",
      "        Return the hyperbolic cosine of x.\n",
      "    \n",
      "    degrees(x, /)\n",
      "        Convert angle x from radians to degrees.\n",
      "    \n",
      "    dist(p, q, /)\n",
      "        Return the Euclidean distance between two points p and q.\n",
      "        \n",
      "        The points should be specified as sequences (or iterables) of\n",
      "        coordinates.  Both inputs must have the same dimension.\n",
      "        \n",
      "        Roughly equivalent to:\n",
      "            sqrt(sum((px - qx) ** 2.0 for px, qx in zip(p, q)))\n",
      "    \n",
      "    erf(x, /)\n",
      "        Error function at x.\n",
      "    \n",
      "    erfc(x, /)\n",
      "        Complementary error function at x.\n",
      "    \n",
      "    exp(x, /)\n",
      "        Return e raised to the power of x.\n",
      "    \n",
      "    expm1(x, /)\n",
      "        Return exp(x)-1.\n",
      "        \n",
      "        This function avoids the loss of precision involved in the direct evaluation of exp(x)-1 for small x.\n",
      "    \n",
      "    fabs(x, /)\n",
      "        Return the absolute value of the float x.\n",
      "    \n",
      "    factorial(x, /)\n",
      "        Find x!.\n",
      "        \n",
      "        Raise a ValueError if x is negative or non-integral.\n",
      "    \n",
      "    floor(x, /)\n",
      "        Return the floor of x as an Integral.\n",
      "        \n",
      "        This is the largest integer <= x.\n",
      "    \n",
      "    fmod(x, y, /)\n",
      "        Return fmod(x, y), according to platform C.\n",
      "        \n",
      "        x % y may differ.\n",
      "    \n",
      "    frexp(x, /)\n",
      "        Return the mantissa and exponent of x, as pair (m, e).\n",
      "        \n",
      "        m is a float and e is an int, such that x = m * 2.**e.\n",
      "        If x is 0, m and e are both 0.  Else 0.5 <= abs(m) < 1.0.\n",
      "    \n",
      "    fsum(seq, /)\n",
      "        Return an accurate floating point sum of values in the iterable seq.\n",
      "        \n",
      "        Assumes IEEE-754 floating point arithmetic.\n",
      "    \n",
      "    gamma(x, /)\n",
      "        Gamma function at x.\n",
      "    \n",
      "    gcd(*integers)\n",
      "        Greatest Common Divisor.\n",
      "    \n",
      "    hypot(...)\n",
      "        hypot(*coordinates) -> value\n",
      "        \n",
      "        Multidimensional Euclidean distance from the origin to a point.\n",
      "        \n",
      "        Roughly equivalent to:\n",
      "            sqrt(sum(x**2 for x in coordinates))\n",
      "        \n",
      "        For a two dimensional point (x, y), gives the hypotenuse\n",
      "        using the Pythagorean theorem:  sqrt(x*x + y*y).\n",
      "        \n",
      "        For example, the hypotenuse of a 3/4/5 right triangle is:\n",
      "        \n",
      "            >>> hypot(3.0, 4.0)\n",
      "            5.0\n",
      "    \n",
      "    isclose(a, b, *, rel_tol=1e-09, abs_tol=0.0)\n",
      "        Determine whether two floating point numbers are close in value.\n",
      "        \n",
      "          rel_tol\n",
      "            maximum difference for being considered \"close\", relative to the\n",
      "            magnitude of the input values\n",
      "          abs_tol\n",
      "            maximum difference for being considered \"close\", regardless of the\n",
      "            magnitude of the input values\n",
      "        \n",
      "        Return True if a is close in value to b, and False otherwise.\n",
      "        \n",
      "        For the values to be considered close, the difference between them\n",
      "        must be smaller than at least one of the tolerances.\n",
      "        \n",
      "        -inf, inf and NaN behave similarly to the IEEE 754 Standard.  That\n",
      "        is, NaN is not close to anything, even itself.  inf and -inf are\n",
      "        only close to themselves.\n",
      "    \n",
      "    isfinite(x, /)\n",
      "        Return True if x is neither an infinity nor a NaN, and False otherwise.\n",
      "    \n",
      "    isinf(x, /)\n",
      "        Return True if x is a positive or negative infinity, and False otherwise.\n",
      "    \n",
      "    isnan(x, /)\n",
      "        Return True if x is a NaN (not a number), and False otherwise.\n",
      "    \n",
      "    isqrt(n, /)\n",
      "        Return the integer part of the square root of the input.\n",
      "    \n",
      "    lcm(*integers)\n",
      "        Least Common Multiple.\n",
      "    \n",
      "    ldexp(x, i, /)\n",
      "        Return x * (2**i).\n",
      "        \n",
      "        This is essentially the inverse of frexp().\n",
      "    \n",
      "    lgamma(x, /)\n",
      "        Natural logarithm of absolute value of Gamma function at x.\n",
      "    \n",
      "    log(...)\n",
      "        log(x, [base=math.e])\n",
      "        Return the logarithm of x to the given base.\n",
      "        \n",
      "        If the base not specified, returns the natural logarithm (base e) of x.\n",
      "    \n",
      "    log10(x, /)\n",
      "        Return the base 10 logarithm of x.\n",
      "    \n",
      "    log1p(x, /)\n",
      "        Return the natural logarithm of 1+x (base e).\n",
      "        \n",
      "        The result is computed in a way which is accurate for x near zero.\n",
      "    \n",
      "    log2(x, /)\n",
      "        Return the base 2 logarithm of x.\n",
      "    \n",
      "    modf(x, /)\n",
      "        Return the fractional and integer parts of x.\n",
      "        \n",
      "        Both results carry the sign of x and are floats.\n",
      "    \n",
      "    nextafter(x, y, /)\n",
      "        Return the next floating-point value after x towards y.\n",
      "    \n",
      "    perm(n, k=None, /)\n",
      "        Number of ways to choose k items from n items without repetition and with order.\n",
      "        \n",
      "        Evaluates to n! / (n - k)! when k <= n and evaluates\n",
      "        to zero when k > n.\n",
      "        \n",
      "        If k is not specified or is None, then k defaults to n\n",
      "        and the function returns n!.\n",
      "        \n",
      "        Raises TypeError if either of the arguments are not integers.\n",
      "        Raises ValueError if either of the arguments are negative.\n",
      "    \n",
      "    pow(x, y, /)\n",
      "        Return x**y (x to the power of y).\n",
      "    \n",
      "    prod(iterable, /, *, start=1)\n",
      "        Calculate the product of all the elements in the input iterable.\n",
      "        \n",
      "        The default start value for the product is 1.\n",
      "        \n",
      "        When the iterable is empty, return the start value.  This function is\n",
      "        intended specifically for use with numeric values and may reject\n",
      "        non-numeric types.\n",
      "    \n",
      "    radians(x, /)\n",
      "        Convert angle x from degrees to radians.\n",
      "    \n",
      "    remainder(x, y, /)\n",
      "        Difference between x and the closest integer multiple of y.\n",
      "        \n",
      "        Return x - n*y where n*y is the closest integer multiple of y.\n",
      "        In the case where x is exactly halfway between two multiples of\n",
      "        y, the nearest even value of n is used. The result is always exact.\n",
      "    \n",
      "    sin(x, /)\n",
      "        Return the sine of x (measured in radians).\n",
      "    \n",
      "    sinh(x, /)\n",
      "        Return the hyperbolic sine of x.\n",
      "    \n",
      "    sqrt(x, /)\n",
      "        Return the square root of x.\n",
      "    \n",
      "    tan(x, /)\n",
      "        Return the tangent of x (measured in radians).\n",
      "    \n",
      "    tanh(x, /)\n",
      "        Return the hyperbolic tangent of x.\n",
      "    \n",
      "    trunc(x, /)\n",
      "        Truncates the Real x to the nearest Integral toward 0.\n",
      "        \n",
      "        Uses the __trunc__ magic method.\n",
      "    \n",
      "    ulp(x, /)\n",
      "        Return the value of the least significant bit of the float x.\n",
      "\n",
      "DATA\n",
      "    e = 2.718281828459045\n",
      "    inf = inf\n",
      "    nan = nan\n",
      "    pi = 3.141592653589793\n",
      "    tau = 6.283185307179586\n",
      "\n",
      "FILE\n",
      "    (built-in)\n",
      "\n",
      "\n"
     ]
    }
   ],
   "source": [
    "help(math)"
   ]
  },
  {
   "cell_type": "markdown",
   "id": "40b2a583",
   "metadata": {},
   "source": [
    "# ceil() function\n",
    "\n",
    "\n",
    " * __Rounds a number up to the nearest integer.__\n",
    " \n",
    " * __Returns the smalles integer greater than or equal to variables.__"
   ]
  },
  {
   "cell_type": "code",
   "execution_count": 7,
   "id": "20112938",
   "metadata": {},
   "outputs": [
    {
     "name": "stdout",
     "output_type": "stream",
     "text": [
      "3.141592653589793\n",
      "The nearest integer greater than pi number is: 4\n"
     ]
    }
   ],
   "source": [
    "pi_number=math.pi\n",
    "print(pi_number)\n",
    "\n",
    "\n",
    "print(f'The nearest integer greater than pi number is: {math.ceil(pi_number)}')"
   ]
  },
  {
   "cell_type": "code",
   "execution_count": 8,
   "id": "f3d81c18",
   "metadata": {},
   "outputs": [
    {
     "name": "stdout",
     "output_type": "stream",
     "text": [
      "790\n"
     ]
    }
   ],
   "source": [
    "x=789.23\n",
    "\n",
    "print(math.ceil(x))"
   ]
  },
  {
   "cell_type": "markdown",
   "id": "47c5cab1",
   "metadata": {},
   "source": [
    "# copysign() function\n",
    "\n",
    " * __Returns a float consisting of the value of the first parameter and the sign of the second parameter.__"
   ]
  },
  {
   "cell_type": "code",
   "execution_count": 10,
   "id": "09b6597e",
   "metadata": {},
   "outputs": [
    {
     "name": "stdout",
     "output_type": "stream",
     "text": [
      "The copysign of these two numbers -3.14 and 456: 3.14\n",
      "The copysign of these two numbers 52 and -200: -52.0\n"
     ]
    }
   ],
   "source": [
    "print(f'The copysign of these two numbers -3.14 and 456: {math.copysign(-3.14,456)}')\n",
    "\n",
    "print(f'The copysign of these two numbers 52 and -200: {math.copysign(52,-200)}')"
   ]
  },
  {
   "cell_type": "markdown",
   "id": "71f42aea",
   "metadata": {},
   "source": [
    "# dist() function\n",
    "\n",
    " * __Return the Eucledian distance between two points p and q.__\n",
    " * __The point should be specified as sequences (or iterables) of coordinates.__\n",
    " * __Both inputs must have the same dimensions.__"
   ]
  },
  {
   "cell_type": "code",
   "execution_count": 12,
   "id": "c5e5ddfb",
   "metadata": {},
   "outputs": [
    {
     "name": "stdout",
     "output_type": "stream",
     "text": [
      "30.0\n",
      "2.605559632785248\n"
     ]
    }
   ],
   "source": [
    "print(math.dist([30],[60]))\n",
    "print(math.dist([0.577,3.147],[3.147,2.718]))"
   ]
  },
  {
   "cell_type": "markdown",
   "id": "eed1fb15",
   "metadata": {},
   "source": [
    "# exp() \n",
    "\n",
    "* __This math.exp() method returns E raised to the power of x(Ex)__\n",
    "\n",
    "* __E is the base of the natural system of logarithms(approximately 2.718282) and x is the number passed to it.__\n",
    "\n"
   ]
  },
  {
   "cell_type": "code",
   "execution_count": 14,
   "id": "5d2542c8",
   "metadata": {},
   "outputs": [
    {
     "name": "stdout",
     "output_type": "stream",
     "text": [
      "[23.140692632779267, 1.0, 403.4287934927351]\n"
     ]
    }
   ],
   "source": [
    "nlis=[]\n",
    "\n",
    "nlis.append(math.exp(math.pi))\n",
    "\n",
    "nlis.append(math.exp(0))\n",
    "\n",
    "nlis.append(math.exp(6))\n",
    "\n",
    "print(nlis)"
   ]
  },
  {
   "cell_type": "markdown",
   "id": "8e3454ea",
   "metadata": {},
   "source": [
    "# Factorial() functions\n",
    "\n",
    "\n",
    " * __It Returns the factorial of a number__"
   ]
  },
  {
   "cell_type": "code",
   "execution_count": 16,
   "id": "a44d1e6c",
   "metadata": {},
   "outputs": [
    {
     "name": "stdout",
     "output_type": "stream",
     "text": [
      "The factorial of the number 4 is: 24\n",
      "The factorial of the number 5 is: 120\n"
     ]
    }
   ],
   "source": [
    "# 2=1x2\n",
    "\n",
    "print(f'The factorial of the number 4 is: {math.factorial(4)}')\n",
    "\n",
    "print(f'The factorial of the number 5 is: {math.factorial(5)}')"
   ]
  },
  {
   "cell_type": "markdown",
   "id": "1217c22e",
   "metadata": {},
   "source": [
    "# floor() function:\n",
    "\n",
    " * __Rounds a number down to the nearest integer.__"
   ]
  },
  {
   "cell_type": "code",
   "execution_count": 19,
   "id": "067ced11",
   "metadata": {},
   "outputs": [
    {
     "name": "stdout",
     "output_type": "stream",
     "text": [
      "3\n",
      "6\n",
      "100\n"
     ]
    }
   ],
   "source": [
    "print(math.floor(math.pi))\n",
    "print(math.floor(6.99))\n",
    "print(math.floor(100.99))"
   ]
  },
  {
   "cell_type": "markdown",
   "id": "5bd5ee12",
   "metadata": {},
   "source": [
    "# fmod() function\n",
    "\n",
    "* __It Returns the remainder of x/y__"
   ]
  },
  {
   "cell_type": "code",
   "execution_count": 2,
   "id": "6a92809b",
   "metadata": {},
   "outputs": [
    {
     "name": "stdout",
     "output_type": "stream",
     "text": [
      "1.0\n",
      "5.0\n"
     ]
    }
   ],
   "source": [
    "import math\n",
    "\n",
    "from math import *\n",
    "\n",
    "print(math.fmod(36,5))\n",
    "print(math.fmod(35,6))"
   ]
  },
  {
   "cell_type": "markdown",
   "id": "3f582b69",
   "metadata": {},
   "source": [
    "# isqrt() functions\n",
    "\n",
    " * __Rounds a square root number downwards to the nearest integer.__\n",
    " \n",
    " * __The returned square root value is the floor value of the square root of a non-negative integer number.__\n",
    " \n",
    " * __It gives a ValueError and TypeError when a negative integer integer number and a float number are used respectively.__"
   ]
  },
  {
   "cell_type": "code",
   "execution_count": 5,
   "id": "7321a702",
   "metadata": {},
   "outputs": [
    {
     "name": "stdout",
     "output_type": "stream",
     "text": [
      "2\n",
      "12\n",
      "13\n",
      "12\n"
     ]
    }
   ],
   "source": [
    "print(math.isqrt(4))\n",
    "print(math.isqrt(144))\n",
    "print(math.isqrt(169))\n",
    "print(math.isqrt(145))"
   ]
  },
  {
   "cell_type": "markdown",
   "id": "d8f30120",
   "metadata": {},
   "source": [
    "# lcm() function\n",
    "\n",
    " * __Least common multiple__\n",
    " \n",
    " "
   ]
  },
  {
   "cell_type": "code",
   "execution_count": 10,
   "id": "3302324a",
   "metadata": {},
   "outputs": [
    {
     "name": "stdout",
     "output_type": "stream",
     "text": [
      "[60, 600, 21840, 21420]\n"
     ]
    }
   ],
   "source": [
    "nlis=[]\n",
    "\n",
    "nlis.append(math.lcm(3,5,4))\n",
    "nlis.append(math.lcm(20,10,30,40,50))\n",
    "nlis.append(math.lcm(10,12,13,14,15,16))\n",
    "nlis.append(math.lcm(10,12,14,17,18))\n",
    "\n",
    "print(nlis)"
   ]
  },
  {
   "cell_type": "markdown",
   "id": "7ae0fe1c",
   "metadata": {},
   "source": [
    "# prod() function\n",
    "\n",
    "* __Returns the product of all the elements in an iterable.__"
   ]
  },
  {
   "cell_type": "code",
   "execution_count": 11,
   "id": "c02ccfdd",
   "metadata": {},
   "outputs": [
    {
     "name": "stdout",
     "output_type": "stream",
     "text": [
      "870912000000000\n"
     ]
    }
   ],
   "source": [
    "nums=[2,3,4,5,6,10,20,40,50,60,70,15,48]\n",
    "print(math.prod(nums))"
   ]
  },
  {
   "cell_type": "code",
   "execution_count": null,
   "id": "b89d7c0b",
   "metadata": {},
   "outputs": [],
   "source": []
  }
 ],
 "metadata": {
  "kernelspec": {
   "display_name": "Python 3 (ipykernel)",
   "language": "python",
   "name": "python3"
  },
  "language_info": {
   "codemirror_mode": {
    "name": "ipython",
    "version": 3
   },
   "file_extension": ".py",
   "mimetype": "text/x-python",
   "name": "python",
   "nbconvert_exporter": "python",
   "pygments_lexer": "ipython3",
   "version": "3.9.13"
  }
 },
 "nbformat": 4,
 "nbformat_minor": 5
}
