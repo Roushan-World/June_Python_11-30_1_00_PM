{
 "cells": [
  {
   "cell_type": "markdown",
   "id": "e0f13bd0",
   "metadata": {},
   "source": [
    "# 13. Reading Files in Python\n",
    "\n",
    " * __To Read a text files in Python follow these steps:__\n",
    " * __First, Open a text file for reading by using the open() function.__\n",
    " * __Second, read text from the text file using the file read(), readline(), or readlines() method of the file object.__\n",
    " * __Third, close the file using the file close() method. This frees up resources and ensures consistency across different python version.__\n",
    " \n",
    " * __Method__-------------------> __Description__\n",
    " * __Writeable()__--------------> __Returns weather the files can be written to or not.__\n",
    " * __readable()__---------------> __Returns whether the files stream can be read or not.__\n",
    " * __read()__-------------------> __Returns the file content.__\n",
    " * __readline()__---------------> __Returns one line from the file.__\n",
    " * __readlines()__--------------> __Returns a list of lines from the file.__\n",
    " * __write()__------------------> __Writes the specified string to the file.__\n",
    " * __writelines()__-------------> __Writes a list of strings to the file.__\n",
    " * __close()__------------------> __Closed the file file.__\n",
    " * __flush()__------------------> __Flushed the internal buffer.__\n",
    " * __seek()__-------------------> __change the file position.__\n",
    " * __tell()__-------------------> __Returnst the current file.__\n",
    " * __truncate()__---------------> __Resize the file to specified.__"
   ]
  },
  {
   "cell_type": "code",
   "execution_count": 1,
   "id": "b064e65c",
   "metadata": {},
   "outputs": [
    {
     "data": {
      "text/plain": [
       "'Chandra Shekhar Azad\\n was born on 23 July 1906 in Jujhautiya Brahmins family of Pandit SitaramTiwar i and Jagrani Devi in the bhabara (of jhabua District)|madhy Pradesh. He spent his childhood inthe village Bhabhra when his father was serving in the erstwhile estate of Alirajpur \\nHe got\\n the natural training of a hardy and rough life along with the Bhils who inhabited the wildregion. From his Bhil friends, early in life, be learnt wrestling and swimming. He also became moreskilled with the bow and arrow. He learnt to throw the Bhala or Javelin, to shoot straight, to ride anduse the sword, in all of which he became proficient.\\nFrom\\n his childhood, he remained a devotee of\\nHanuman\\n throughout his life, and had a very strongPehelwan(wrestler)-like body.\\nHe was even called\\n Bhimsen or Bhim Dada later. After the early education in Jhabua, he was sentto theSanskrit Pathashala at Varanasi, where a near relative of the family, probably maternal unclewas then living. He returned home after a few months and he was admitted in the local school at Alirajpur. Again his father sent him to Benares for the boy exhibited a strange waywardness.\\nThis time\\n he remained there and studied properly. On the whole, he was an average student.Political Initiation From the very outset, he had a deep aversion for study which was of no real but tosimply churn out quill drivers or babus for the use of the British Raj in India. His stay at Benareshowever had a salutary effect upon his life, for he came in contact with many young men and ideas.\\nThe atmosphere\\n was such that he got the opportunity of studying many things, especially the unhappy events which were then happeningin the country. Bit by bit, his mind was being drawn to the political situation of the country. Young Chandra Shekhar was f ascinated by anddrawn to the great national upsurge of the non-violent, non-cooperation movement of 1920-21 under the leadership of Mahatma Gandhi.I\\nt is during\\n this time, when the\\nJallianwala Baag massacre\\n by British Army took place in Amritsar where hunderds (at least 2000) unarmed,peaceful and unwarned civilians were fired upon. This event had a profound effect on Indian national movement and inspired several youngIndians, like Azad, into political movement for liberation. The young mind of Chandrashekhar was wax to receive and marble to retain.\\nFrom Chandrashekhar Tewari to Chandrashekhar â€˜Azadâ€™\\nTo protest the massacre and demanding the liberation, various popular activities sprouted up throughout the country. While participating in oneof these movements, Chandra Shekhar was arrested when he was just 16 years of age.He was brought to court. The Magistrate asked him, â€œWhat is your name?\\ngoing to become very famous. He gave his name as â€˜\\nAzadâ€™,\\n his fatherâ€™s name asâ€˜Swatantraâ€™ and his place of dwelling as â€˜prison cellâ€™. Astonished was the Magistrate atthese straight and bold answers. Azad was sentenced to fifteen canes. He wasbeaten very severely. At every beat, his body turned blue and red and blood oozed outfreely. Azad was highly honored by the citizens and profusely garlanded when hecame out from jail. His photos appeared in the Press with streamlined captions.\\nFromhere on, he would be known far and wide as â€˜Azadâ€™, forever.\\n After this incident, Shri Provesh, the chief organiser of the Revolutionary Party in India,sought him and persuaded him to join it. Azad proved to be a restless worker. He issuedsecretly and silently, many leaflets and bulletins to drive away the misconceptionsentertained by the people of the country. He proved a master propagandist. In physicalstrength, none equaled him and he was called Bhim Dada. Other eminent members of the party working along with Azad were Shri Yogesh Chatterji, Shri Sachin Sanyal andShri Rabindranath Kar. Men in the party learned all the arts of modern warfare. The mainproblem was finance. Finances! From where could the money be had? This was themajor issue before the party. To ask openly was impossible and to obtain it secretly was amuch more difficult task.'"
      ]
     },
     "execution_count": 1,
     "metadata": {},
     "output_type": "execute_result"
    }
   ],
   "source": [
    "# Read the file with file handling.\n",
    "\n",
    "file_name='Chandra_Shekhar_Azad.txt'\n",
    "file=open(file_name,'r')\n",
    "content=file.read()\n",
    "content"
   ]
  },
  {
   "cell_type": "code",
   "execution_count": 5,
   "id": "7c1f15e2",
   "metadata": {},
   "outputs": [
    {
     "name": "stdout",
     "output_type": "stream",
     "text": [
      "Chandra_Shekhar_Azad.txt\n",
      "r\n",
      "Chandra Shekhar Azad\n",
      " was born on 23 July 1906 in Jujhautiya Brahmins family of Pandit SitaramTiwar i and Jagrani Devi in the bhabara (of jhabua District)|madhy Pradesh. He spent his childhood inthe village Bhabhra when his father was serving in the erstwhile estate of Alirajpur \n",
      "He got\n",
      " the natural training of a hardy and rough life along with the Bhils who inhabited the wildregion. From his Bhil friends, early in life, be learnt wrestling and swimming. He also became moreskilled with the bow and arrow. He learnt to throw the Bhala or Javelin, to shoot straight, to ride anduse the sword, in all of which he became proficient.\n",
      "From\n",
      " his childhood, he remained a devotee of\n",
      "Hanuman\n",
      " throughout his life, and had a very strongPehelwan(wrestler)-like body.\n",
      "He was even called\n",
      " Bhimsen or Bhim Dada later. After the early education in Jhabua, he was sentto theSanskrit Pathashala at Varanasi, where a near relative of the family, probably maternal unclewas then living. He returned home after a few months and he was admitted in the local school at Alirajpur. Again his father sent him to Benares for the boy exhibited a strange waywardness.\n",
      "This time\n",
      " he remained there and studied properly. On the whole, he was an average student.Political Initiation From the very outset, he had a deep aversion for study which was of no real but tosimply churn out quill drivers or babus for the use of the British Raj in India. His stay at Benareshowever had a salutary effect upon his life, for he came in contact with many young men and ideas.\n",
      "The atmosphere\n",
      " was such that he got the opportunity of studying many things, especially the unhappy events which were then happeningin the country. Bit by bit, his mind was being drawn to the political situation of the country. Young Chandra Shekhar was f ascinated by anddrawn to the great national upsurge of the non-violent, non-cooperation movement of 1920-21 under the leadership of Mahatma Gandhi.I\n",
      "t is during\n",
      " this time, when the\n",
      "Jallianwala Baag massacre\n",
      " by British Army took place in Amritsar where hunderds (at least 2000) unarmed,peaceful and unwarned civilians were fired upon. This event had a profound effect on Indian national movement and inspired several youngIndians, like Azad, into political movement for liberation. The young mind of Chandrashekhar was wax to receive and marble to retain.\n",
      "From Chandrashekhar Tewari to Chandrashekhar â€˜Azadâ€™\n",
      "To protest the massacre and demanding the liberation, various popular activities sprouted up throughout the country. While participating in oneof these movements, Chandra Shekhar was arrested when he was just 16 years of age.He was brought to court. The Magistrate asked him, â€œWhat is your name?\n",
      "going to become very famous. He gave his name as â€˜\n",
      "Azadâ€™,\n",
      " his fatherâ€™s name asâ€˜Swatantraâ€™ and his place of dwelling as â€˜prison cellâ€™. Astonished was the Magistrate atthese straight and bold answers. Azad was sentenced to fifteen canes. He wasbeaten very severely. At every beat, his body turned blue and red and blood oozed outfreely. Azad was highly honored by the citizens and profusely garlanded when hecame out from jail. His photos appeared in the Press with streamlined captions.\n",
      "Fromhere on, he would be known far and wide as â€˜Azadâ€™, forever.\n",
      " After this incident, Shri Provesh, the chief organiser of the Revolutionary Party in India,sought him and persuaded him to join it. Azad proved to be a restless worker. He issuedsecretly and silently, many leaflets and bulletins to drive away the misconceptionsentertained by the people of the country. He proved a master propagandist. In physicalstrength, none equaled him and he was called Bhim Dada. Other eminent members of the party working along with Azad were Shri Yogesh Chatterji, Shri Sachin Sanyal andShri Rabindranath Kar. Men in the party learned all the arts of modern warfare. The mainproblem was finance. Finances! From where could the money be had? This was themajor issue before the party. To ask openly was impossible and to obtain it secretly was amuch more difficult task.\n",
      "<class 'str'>\n"
     ]
    }
   ],
   "source": [
    "# Printing the path\n",
    "\n",
    "print(file.name)\n",
    "\n",
    "# printing the mode of file\n",
    "print(file.mode)\n",
    "\n",
    "# printing the file with new line\n",
    "print(content)\n",
    "\n",
    "# printing the type of file.\n",
    "\n",
    "print(type(content))"
   ]
  },
  {
   "cell_type": "markdown",
   "id": "abd55eb5",
   "metadata": {},
   "source": [
    "# File open using for loop"
   ]
  },
  {
   "cell_type": "code",
   "execution_count": 2,
   "id": "d85574c0",
   "metadata": {},
   "outputs": [
    {
     "name": "stdout",
     "output_type": "stream",
     "text": [
      "Line number 1 : Chandra Shekhar Azad\n",
      "\n",
      "Line number 2 :  was born on 23 July 1906 in Jujhautiya Brahmins family of Pandit SitaramTiwar i and Jagrani Devi in the bhabara (of jhabua District)|madhy Pradesh. He spent his childhood inthe village Bhabhra when his father was serving in the erstwhile estate of Alirajpur \n",
      "\n",
      "Line number 3 : He got\n",
      "\n",
      "Line number 4 :  the natural training of a hardy and rough life along with the Bhils who inhabited the wildregion. From his Bhil friends, early in life, be learnt wrestling and swimming. He also became moreskilled with the bow and arrow. He learnt to throw the Bhala or Javelin, to shoot straight, to ride anduse the sword, in all of which he became proficient.\n",
      "\n",
      "Line number 5 : From\n",
      "\n",
      "Line number 6 :  his childhood, he remained a devotee of\n",
      "\n",
      "Line number 7 : Hanuman\n",
      "\n",
      "Line number 8 :  throughout his life, and had a very strongPehelwan(wrestler)-like body.\n",
      "\n",
      "Line number 9 : He was even called\n",
      "\n",
      "Line number 10 :  Bhimsen or Bhim Dada later. After the early education in Jhabua, he was sentto theSanskrit Pathashala at Varanasi, where a near relative of the family, probably maternal unclewas then living. He returned home after a few months and he was admitted in the local school at Alirajpur. Again his father sent him to Benares for the boy exhibited a strange waywardness.\n",
      "\n",
      "Line number 11 : This time\n",
      "\n",
      "Line number 12 :  he remained there and studied properly. On the whole, he was an average student.Political Initiation From the very outset, he had a deep aversion for study which was of no real but tosimply churn out quill drivers or babus for the use of the British Raj in India. His stay at Benareshowever had a salutary effect upon his life, for he came in contact with many young men and ideas.\n",
      "\n",
      "Line number 13 : The atmosphere\n",
      "\n",
      "Line number 14 :  was such that he got the opportunity of studying many things, especially the unhappy events which were then happeningin the country. Bit by bit, his mind was being drawn to the political situation of the country. Young Chandra Shekhar was f ascinated by anddrawn to the great national upsurge of the non-violent, non-cooperation movement of 1920-21 under the leadership of Mahatma Gandhi.I\n",
      "\n",
      "Line number 15 : t is during\n",
      "\n",
      "Line number 16 :  this time, when the\n",
      "\n",
      "Line number 17 : Jallianwala Baag massacre\n",
      "\n",
      "Line number 18 :  by British Army took place in Amritsar where hunderds (at least 2000) unarmed,peaceful and unwarned civilians were fired upon. This event had a profound effect on Indian national movement and inspired several youngIndians, like Azad, into political movement for liberation. The young mind of Chandrashekhar was wax to receive and marble to retain.\n",
      "\n",
      "Line number 19 : From Chandrashekhar Tewari to Chandrashekhar â€˜Azadâ€™\n",
      "\n",
      "Line number 20 : To protest the massacre and demanding the liberation, various popular activities sprouted up throughout the country. While participating in oneof these movements, Chandra Shekhar was arrested when he was just 16 years of age.He was brought to court. The Magistrate asked him, â€œWhat is your name?\n",
      "\n",
      "Line number 21 : going to become very famous. He gave his name as â€˜\n",
      "\n",
      "Line number 22 : Azadâ€™,\n",
      "\n",
      "Line number 23 :  his fatherâ€™s name asâ€˜Swatantraâ€™ and his place of dwelling as â€˜prison cellâ€™. Astonished was the Magistrate atthese straight and bold answers. Azad was sentenced to fifteen canes. He wasbeaten very severely. At every beat, his body turned blue and red and blood oozed outfreely. Azad was highly honored by the citizens and profusely garlanded when hecame out from jail. His photos appeared in the Press with streamlined captions.\n",
      "\n",
      "Line number 24 : Fromhere on, he would be known far and wide as â€˜Azadâ€™, forever.\n",
      "\n",
      "Line number 25 :  After this incident, Shri Provesh, the chief organiser of the Revolutionary Party in India,sought him and persuaded him to join it. Azad proved to be a restless worker. He issuedsecretly and silently, many leaflets and bulletins to drive away the misconceptionsentertained by the people of the country. He proved a master propagandist. In physicalstrength, none equaled him and he was called Bhim Dada. Other eminent members of the party working along with Azad were Shri Yogesh Chatterji, Shri Sachin Sanyal andShri Rabindranath Kar. Men in the party learned all the arts of modern warfare. The mainproblem was finance. Finances! From where could the money be had? This was themajor issue before the party. To ask openly was impossible and to obtain it secretly was amuch more difficult task.\n"
     ]
    }
   ],
   "source": [
    "fname='Chandra_Shekhar_Azad.txt'\n",
    "with open(fname,'r') as f:\n",
    "    line_number=1\n",
    "    for line in f:\n",
    "        print('Line number',str(line_number),':',line)\n",
    "        line_number+=1"
   ]
  },
  {
   "cell_type": "code",
   "execution_count": 3,
   "id": "baf0d0e6",
   "metadata": {},
   "outputs": [
    {
     "name": "stdout",
     "output_type": "stream",
     "text": [
      "Chandra Shekhar Azad\n",
      " was born on 23 July 1906 in Jujhautiya Brahmins family of Pandit SitaramTiwar i and Jagrani Devi in the bhabara (of jhabua District)|madhy Pradesh. He spent his childhood inthe village Bhabhra when his father was serving in the erstwhile estate of Alirajpur \n",
      "He got\n",
      " the natural training of a hardy and rough life along with the Bhils who inhabited the wildregion. From his Bhil friends, early in life, be learnt wrestling and swimming. He also became moreskilled with the bow and arrow. He learnt to throw the Bhala or Javelin, to shoot straight, to ride anduse the sword, in all of which he became proficient.\n",
      "From\n",
      " his childhood, he remained a devotee of\n",
      "Hanuman\n",
      " throughout his life, and had a very strongPehelwan(wrestler)-like body.\n",
      "He was even called\n",
      " Bhimsen or Bhim Dada later. After the early education in Jhabua, he was sentto theSanskrit Pathashala at Varanasi, where a near relative of the family, probably maternal unclewas then living. He returned home after a few months and he was admitted in the local school at Alirajpur. Again his father sent him to Benares for the boy exhibited a strange waywardness.\n",
      "This time\n",
      " he remained there and studied properly. On the whole, he was an average student.Political Initiation From the very outset, he had a deep aversion for study which was of no real but tosimply churn out quill drivers or babus for the use of the British Raj in India. His stay at Benareshowever had a salutary effect upon his life, for he came in contact with many young men and ideas.\n",
      "The atmosphere\n",
      " was such that he got the opportunity of studying many things, especially the unhappy events which were then happeningin the country. Bit by bit, his mind was being drawn to the political situation of the country. Young Chandra Shekhar was f ascinated by anddrawn to the great national upsurge of the non-violent, non-cooperation movement of 1920-21 under the leadership of Mahatma Gandhi.I\n",
      "t is during\n",
      " this time, when the\n",
      "Jallianwala Baag massacre\n",
      " by British Army took place in Amritsar where hunderds (at least 2000) unarmed,peaceful and unwarned civilians were fired upon. This event had a profound effect on Indian national movement and inspired several youngIndians, like Azad, into political movement for liberation. The young mind of Chandrashekhar was wax to receive and marble to retain.\n",
      "From Chandrashekhar Tewari to Chandrashekhar â€˜Azadâ€™\n",
      "To protest the massacre and demanding the liberation, various popular activities sprouted up throughout the country. While participating in oneof these movements, Chandra Shekhar was arrested when he was just 16 years of age.He was brought to court. The Magistrate asked him, â€œWhat is your name?\n",
      "going to become very famous. He gave his name as â€˜\n",
      "Azadâ€™,\n",
      " his fatherâ€™s name asâ€˜Swatantraâ€™ and his place of dwelling as â€˜prison cellâ€™. Astonished was the Magistrate atthese straight and bold answers. Azad was sentenced to fifteen canes. He wasbeaten very severely. At every beat, his body turned blue and red and blood oozed outfreely. Azad was highly honored by the citizens and profusely garlanded when hecame out from jail. His photos appeared in the Press with streamlined captions.\n",
      "Fromhere on, he would be known far and wide as â€˜Azadâ€™, forever.\n",
      " After this incident, Shri Provesh, the chief organiser of the Revolutionary Party in India,sought him and persuaded him to join it. Azad proved to be a restless worker. He issuedsecretly and silently, many leaflets and bulletins to drive away the misconceptionsentertained by the people of the country. He proved a master propagandist. In physicalstrength, none equaled him and he was called Bhim Dada. Other eminent members of the party working along with Azad were Shri Yogesh Chatterji, Shri Sachin Sanyal andShri Rabindranath Kar. Men in the party learned all the arts of modern warfare. The mainproblem was finance. Finances! From where could the money be had? This was themajor issue before the party. To ask openly was impossible and to obtain it secretly was amuch more difficult task.\n"
     ]
    }
   ],
   "source": [
    "with open(fname,'r') as f:\n",
    "    print(f.read())"
   ]
  },
  {
   "cell_type": "markdown",
   "id": "2e8f1d0d",
   "metadata": {},
   "source": [
    "# readline() function\n",
    "\n",
    " * __Reads one line at a time from the file in the form of string.__"
   ]
  },
  {
   "cell_type": "code",
   "execution_count": 8,
   "id": "526a2b2f",
   "metadata": {},
   "outputs": [
    {
     "name": "stdout",
     "output_type": "stream",
     "text": [
      "Chandra Shekhar Azad\n",
      "\n",
      " was born on 23 July 1906 in Jujhautiya Brahmins family of Pandit SitaramTiwar i and Jagrani Devi in the bhabara (of jhabua District)|madhy Pradesh. He spent his childhood inthe village Bhabhra when his father was serving in the erstwhile estate of Alirajpur \n",
      "\n",
      "He got\n",
      "\n",
      " the natural training of a hardy and rough life along with the Bhils who inhabited the wildregion. From his Bhil friends, early in life, be learnt wrestling and swimming. He also became moreskilled with the bow and arrow. He learnt to throw the Bhala or Javelin, to shoot straight, to ride anduse the sword, in all of which he became proficient.\n",
      "\n",
      "From\n",
      "\n"
     ]
    }
   ],
   "source": [
    "with open(fname,'r') as f:\n",
    "    file_list=f.readlines()\n",
    "    # printing the first line\n",
    "    \n",
    "    print(file_list[0])\n",
    "    print(file_list[1])\n",
    "    print(file_list[2])\n",
    "    print(file_list[3])\n",
    "    print(file_list[4])"
   ]
  },
  {
   "cell_type": "markdown",
   "id": "63960d29",
   "metadata": {},
   "source": [
    "# readlines() function\n",
    "\n",
    " * __Reads all the lines from the file and returns a list of lines.__"
   ]
  },
  {
   "cell_type": "code",
   "execution_count": 12,
   "id": "0f2a3a1e",
   "metadata": {},
   "outputs": [
    {
     "name": "stdout",
     "output_type": "stream",
     "text": [
      "['Chandra Shekhar Azad\\n', ' was born on 23 July 1906 in Jujhautiya Brahmins family of Pandit SitaramTiwar i and Jagrani Devi in the bhabara (of jhabua District)|madhy Pradesh. He spent his childhood inthe village Bhabhra when his father was serving in the erstwhile estate of Alirajpur \\n', 'He got\\n', ' the natural training of a hardy and rough life along with the Bhils who inhabited the wildregion. From his Bhil friends, early in life, be learnt wrestling and swimming. He also became moreskilled with the bow and arrow. He learnt to throw the Bhala or Javelin, to shoot straight, to ride anduse the sword, in all of which he became proficient.\\n', 'From\\n', ' his childhood, he remained a devotee of\\n', 'Hanuman\\n', ' throughout his life, and had a very strongPehelwan(wrestler)-like body.\\n', 'He was even called\\n', ' Bhimsen or Bhim Dada later. After the early education in Jhabua, he was sentto theSanskrit Pathashala at Varanasi, where a near relative of the family, probably maternal unclewas then living. He returned home after a few months and he was admitted in the local school at Alirajpur. Again his father sent him to Benares for the boy exhibited a strange waywardness.\\n', 'This time\\n', ' he remained there and studied properly. On the whole, he was an average student.Political Initiation From the very outset, he had a deep aversion for study which was of no real but tosimply churn out quill drivers or babus for the use of the British Raj in India. His stay at Benareshowever had a salutary effect upon his life, for he came in contact with many young men and ideas.\\n', 'The atmosphere\\n', ' was such that he got the opportunity of studying many things, especially the unhappy events which were then happeningin the country. Bit by bit, his mind was being drawn to the political situation of the country. Young Chandra Shekhar was f ascinated by anddrawn to the great national upsurge of the non-violent, non-cooperation movement of 1920-21 under the leadership of Mahatma Gandhi.I\\n', 't is during\\n', ' this time, when the\\n', 'Jallianwala Baag massacre\\n', ' by British Army took place in Amritsar where hunderds (at least 2000) unarmed,peaceful and unwarned civilians were fired upon. This event had a profound effect on Indian national movement and inspired several youngIndians, like Azad, into political movement for liberation. The young mind of Chandrashekhar was wax to receive and marble to retain.\\n', 'From Chandrashekhar Tewari to Chandrashekhar â€˜Azadâ€™\\n', 'To protest the massacre and demanding the liberation, various popular activities sprouted up throughout the country. While participating in oneof these movements, Chandra Shekhar was arrested when he was just 16 years of age.He was brought to court. The Magistrate asked him, â€œWhat is your name?\\n', 'going to become very famous. He gave his name as â€˜\\n', 'Azadâ€™,\\n', ' his fatherâ€™s name asâ€˜Swatantraâ€™ and his place of dwelling as â€˜prison cellâ€™. Astonished was the Magistrate atthese straight and bold answers. Azad was sentenced to fifteen canes. He wasbeaten very severely. At every beat, his body turned blue and red and blood oozed outfreely. Azad was highly honored by the citizens and profusely garlanded when hecame out from jail. His photos appeared in the Press with streamlined captions.\\n', 'Fromhere on, he would be known far and wide as â€˜Azadâ€™, forever.\\n', ' After this incident, Shri Provesh, the chief organiser of the Revolutionary Party in India,sought him and persuaded him to join it. Azad proved to be a restless worker. He issuedsecretly and silently, many leaflets and bulletins to drive away the misconceptionsentertained by the people of the country. He proved a master propagandist. In physicalstrength, none equaled him and he was called Bhim Dada. Other eminent members of the party working along with Azad were Shri Yogesh Chatterji, Shri Sachin Sanyal andShri Rabindranath Kar. Men in the party learned all the arts of modern warfare. The mainproblem was finance. Finances! From where could the money be had? This was themajor issue before the party. To ask openly was impossible and to obtain it secretly was amuch more difficult task.']\n"
     ]
    }
   ],
   "source": [
    "with open(fname,'r') as f:\n",
    "    content=f.readlines()\n",
    "    print(content)"
   ]
  },
  {
   "cell_type": "code",
   "execution_count": 13,
   "id": "bbdb320d",
   "metadata": {},
   "outputs": [
    {
     "name": "stdout",
     "output_type": "stream",
     "text": [
      "Chandra Shekhar Azad\n",
      " was born on 23 July 1906 in Jujhautiya Brahmins family of Pandit SitaramTiwar i and Jagrani Devi in the bhabara (of jhabua District)|madhy Pradesh. He spent his childhood inthe village Bhabhra when his father was serving in the erstwhile estate of Alirajpur \n",
      "He got\n",
      " the natural training of a hardy and rough life along with the Bhils who inhabited the wildregion. From his Bhil friends, early in life, be learnt wrestling and swimming. He also became moreskilled with the bow and arrow. He learnt to throw the Bhala or Javelin, to shoot straight, to ride anduse the sword, in all of which he became proficient.\n",
      "From\n",
      " his childhood, he remained a devotee of\n",
      "Hanuman\n",
      " throughout his life, and had a very strongPehelwan(wrestler)-like body.\n",
      "He was even called\n",
      " Bhimsen or Bhim Dada later. After the early education in Jhabua, he was sentto theSanskrit Pathashala at Varanasi, where a near relative of the family, probably maternal unclewas then living. He returned home after a few months and he was admitted in the local school at Alirajpur. Again his father sent him to Benares for the boy exhibited a strange waywardness.\n",
      "This time\n",
      " he remained there and studied properly. On the whole, he was an average student.Political Initiation From the very outset, he had a deep aversion for study which was of no real but tosimply churn out quill drivers or babus for the use of the British Raj in India. His stay at Benareshowever had a salutary effect upon his life, for he came in contact with many young men and ideas.\n",
      "The atmosphere\n",
      " was such that he got the opportunity of studying many things, especially the unhappy events which were then happeningin the country. Bit by bit, his mind was being drawn to the political situation of the country. Young Chandra Shekhar was f ascinated by anddrawn to the great national upsurge of the non-violent, non-cooperation movement of 1920-21 under the leadership of Mahatma Gandhi.I\n",
      "t is during\n",
      " this time, when the\n",
      "Jallianwala Baag massacre\n",
      " by British Army took place in Amritsar where hunderds (at least 2000) unarmed,peaceful and unwarned civilians were fired upon. This event had a profound effect on Indian national movement and inspired several youngIndians, like Azad, into political movement for liberation. The young mind of Chandrashekhar was wax to receive and marble to retain.\n",
      "From Chandrashekhar Tewari to Chandrashekhar â€˜Azadâ€™\n",
      "To protest the massacre and demanding the liberation, various popular activities sprouted up throughout the country. While participating in oneof these movements, Chandra Shekhar was arrested when he was just 16 years of age.He was brought to court. The Magistrate asked him, â€œWhat is your name?\n",
      "going to become very famous. He gave his name as â€˜\n",
      "Azadâ€™,\n",
      " his fatherâ€™s name asâ€˜Swatantraâ€™ and his place of dwelling as â€˜prison cellâ€™. Astonished was the Magistrate atthese straight and bold answers. Azad was sentenced to fifteen canes. He wasbeaten very severely. At every beat, his body turned blue and red and blood oozed outfreely. Azad was highly honored by the citizens and profusely garlanded when hecame out from jail. His photos appeared in the Press with streamlined captions.\n",
      "Fromhere on, he would be known far and wide as â€˜Azadâ€™, forever.\n",
      " After this incident, Shri Provesh, the chief organiser of the Revolutionary Party in India,sought him and persuaded him to join it. Azad proved to be a restless worker. He issuedsecretly and silently, many leaflets and bulletins to drive away the misconceptionsentertained by the people of the country. He proved a master propagandist. In physicalstrength, none equaled him and he was called Bhim Dada. Other eminent members of the party working along with Azad were Shri Yogesh Chatterji, Shri Sachin Sanyal andShri Rabindranath Kar. Men in the party learned all the arts of modern warfare. The mainproblem was finance. Finances! From where could the money be had? This was themajor issue before the party. To ask openly was impossible and to obtain it secretly was amuch more difficult task.\n"
     ]
    }
   ],
   "source": [
    "# file open with function\n",
    "\n",
    "\n",
    "def file(x):\n",
    "    file_name=x\n",
    "    file=open(fname,'r')\n",
    "    content=file.read()\n",
    "    print(content)\n",
    "    \n",
    "file('Chandra_Shekhar_Azad.txt')"
   ]
  },
  {
   "cell_type": "code",
   "execution_count": 14,
   "id": "759e8994",
   "metadata": {},
   "outputs": [
    {
     "name": "stdout",
     "output_type": "stream",
     "text": [
      "Chandra Shekhar Azad\n",
      " was born on 23 July 1906 in Jujhautiya Brahmins family of Pandit SitaramTiwar i and Jagrani Devi in the bhabara (of jhabua District)|madhy Pradesh. He spent his childhood inthe village Bhabhra when his father was serving in the erstwhile estate of Alirajpur \n",
      "He got\n",
      " the natural training of a hardy and rough life along with the Bhils who inhabited the wildregion. From his Bhil friends, early in life, be learnt wrestling and swimming. He also became moreskilled with the bow and arrow. He learnt to throw the Bhala or Javelin, to shoot straight, to ride anduse the sword, in all of which he became proficient.\n",
      "From\n",
      " his childhood, he remained a devotee of\n",
      "Hanuman\n",
      " throughout his life, and had a very strongPehelwan(wrestler)-like body.\n",
      "He was even called\n",
      " Bhimsen or Bhim Dada later. After the early education in Jhabua, he was sentto theSanskrit Pathashala at Varanasi, where a near relative of the family, probably maternal unclewas then living. He returned home after a few months and he was admitted in the local school at Alirajpur. Again his father sent him to Benares for the boy exhibited a strange waywardness.\n",
      "This time\n",
      " he remained there and studied properly. On the whole, he was an average student.Political Initiation From the very outset, he had a deep aversion for study which was of no real but tosimply churn out quill drivers or babus for the use of the British Raj in India. His stay at Benareshowever had a salutary effect upon his life, for he came in contact with many young men and ideas.\n",
      "The atmosphere\n",
      " was such that he got the opportunity of studying many things, especially the unhappy events which were then happeningin the country. Bit by bit, his mind was being drawn to the political situation of the country. Young Chandra Shekhar was f ascinated by anddrawn to the great national upsurge of the non-violent, non-cooperation movement of 1920-21 under the leadership of Mahatma Gandhi.I\n",
      "t is during\n",
      " this time, when the\n",
      "Jallianwala Baag massacre\n",
      " by British Army took place in Amritsar where hunderds (at least 2000) unarmed,peaceful and unwarned civilians were fired upon. This event had a profound effect on Indian national movement and inspired several youngIndians, like Azad, into political movement for liberation. The young mind of Chandrashekhar was wax to receive and marble to retain.\n",
      "From Chandrashekhar Tewari to Chandrashekhar â€˜Azadâ€™\n",
      "To protest the massacre and demanding the liberation, various popular activities sprouted up throughout the country. While participating in oneof these movements, Chandra Shekhar was arrested when he was just 16 years of age.He was brought to court. The Magistrate asked him, â€œWhat is your name?\n",
      "going to become very famous. He gave his name as â€˜\n",
      "Azadâ€™,\n",
      " his fatherâ€™s name asâ€˜Swatantraâ€™ and his place of dwelling as â€˜prison cellâ€™. Astonished was the Magistrate atthese straight and bold answers. Azad was sentenced to fifteen canes. He wasbeaten very severely. At every beat, his body turned blue and red and blood oozed outfreely. Azad was highly honored by the citizens and profusely garlanded when hecame out from jail. His photos appeared in the Press with streamlined captions.\n",
      "Fromhere on, he would be known far and wide as â€˜Azadâ€™, forever.\n",
      " After this incident, Shri Provesh, the chief organiser of the Revolutionary Party in India,sought him and persuaded him to join it. Azad proved to be a restless worker. He issuedsecretly and silently, many leaflets and bulletins to drive away the misconceptionsentertained by the people of the country. He proved a master propagandist. In physicalstrength, none equaled him and he was called Bhim Dada. Other eminent members of the party working along with Azad were Shri Yogesh Chatterji, Shri Sachin Sanyal andShri Rabindranath Kar. Men in the party learned all the arts of modern warfare. The mainproblem was finance. Finances! From where could the money be had? This was themajor issue before the party. To ask openly was impossible and to obtain it secretly was amuch more difficult task.\n",
      "None\n"
     ]
    }
   ],
   "source": [
    "# file open with class and objects.\n",
    "\n",
    "class file:\n",
    "    def __init__(self,filename):\n",
    "        self.filename=filename\n",
    "    def openfile(self):\n",
    "        file_name=self.filename\n",
    "        file=open(file_name,'r')\n",
    "        content=file.read()\n",
    "        print(content)\n",
    "        \n",
    "def main():\n",
    "    file1=file('Chandra_Shekhar_Azad.txt')\n",
    "    print(file1.openfile())\n",
    "main()"
   ]
  },
  {
   "cell_type": "code",
   "execution_count": 3,
   "id": "52b77a54",
   "metadata": {},
   "outputs": [
    {
     "name": "stdout",
     "output_type": "stream",
     "text": [
      "Enter the name of file:Chandra_Shekhar_Azad.txt\n",
      "Chandra Shekhar Azad\n",
      " was born on 23 July 1906 in Jujhautiya Brahmins family of Pandit SitaramTiwar i and Jagrani Devi in the bhabara (of jhabua District)|madhy Pradesh. He spent his childhood inthe village Bhabhra when his father was serving in the erstwhile estate of Alirajpur \n",
      "He got\n",
      " the natural training of a hardy and rough life along with the Bhils who inhabited the wildregion. From his Bhil friends, early in life, be learnt wrestling and swimming. He also became moreskilled with the bow and arrow. He learnt to throw the Bhala or Javelin, to shoot straight, to ride anduse the sword, in all of which he became proficient.\n",
      "From\n",
      " his childhood, he remained a devotee of\n",
      "Hanuman\n",
      " throughout his life, and had a very strongPehelwan(wrestler)-like body.\n",
      "He was even called\n",
      " Bhimsen or Bhim Dada later. After the early education in Jhabua, he was sentto theSanskrit Pathashala at Varanasi, where a near relative of the family, probably maternal unclewas then living. He returned home after a few months and he was admitted in the local school at Alirajpur. Again his father sent him to Benares for the boy exhibited a strange waywardness.\n",
      "This time\n",
      " he remained there and studied properly. On the whole, he was an average student.Political Initiation From the very outset, he had a deep aversion for study which was of no real but tosimply churn out quill drivers or babus for the use of the British Raj in India. His stay at Benareshowever had a salutary effect upon his life, for he came in contact with many young men and ideas.\n",
      "The atmosphere\n",
      " was such that he got the opportunity of studying many things, especially the unhappy events which were then happeningin the country. Bit by bit, his mind was being drawn to the political situation of the country. Young Chandra Shekhar was f ascinated by anddrawn to the great national upsurge of the non-violent, non-cooperation movement of 1920-21 under the leadership of Mahatma Gandhi.I\n",
      "t is during\n",
      " this time, when the\n",
      "Jallianwala Baag massacre\n",
      " by British Army took place in Amritsar where hunderds (at least 2000) unarmed,peaceful and unwarned civilians were fired upon. This event had a profound effect on Indian national movement and inspired several youngIndians, like Azad, into political movement for liberation. The young mind of Chandrashekhar was wax to receive and marble to retain.\n",
      "From Chandrashekhar Tewari to Chandrashekhar â€˜Azadâ€™\n",
      "To protest the massacre and demanding the liberation, various popular activities sprouted up throughout the country. While participating in oneof these movements, Chandra Shekhar was arrested when he was just 16 years of age.He was brought to court. The Magistrate asked him, â€œWhat is your name?\n",
      "going to become very famous. He gave his name as â€˜\n",
      "Azadâ€™,\n",
      " his fatherâ€™s name asâ€˜Swatantraâ€™ and his place of dwelling as â€˜prison cellâ€™. Astonished was the Magistrate atthese straight and bold answers. Azad was sentenced to fifteen canes. He wasbeaten very severely. At every beat, his body turned blue and red and blood oozed outfreely. Azad was highly honored by the citizens and profusely garlanded when hecame out from jail. His photos appeared in the Press with streamlined captions.\n",
      "Fromhere on, he would be known far and wide as â€˜Azadâ€™, forever.\n",
      " After this incident, Shri Provesh, the chief organiser of the Revolutionary Party in India,sought him and persuaded him to join it. Azad proved to be a restless worker. He issuedsecretly and silently, many leaflets and bulletins to drive away the misconceptionsentertained by the people of the country. He proved a master propagandist. In physicalstrength, none equaled him and he was called Bhim Dada. Other eminent members of the party working along with Azad were Shri Yogesh Chatterji, Shri Sachin Sanyal andShri Rabindranath Kar. Men in the party learned all the arts of modern warfare. The mainproblem was finance. Finances! From where could the money be had? This was themajor issue before the party. To ask openly was impossible and to obtain it secretly was amuch more difficult task.\n"
     ]
    }
   ],
   "source": [
    "# Reading files using exception handling.\n",
    "\n",
    "try:\n",
    "    name=input('Enter the name of file:')\n",
    "    with open(name,'r') as f:\n",
    "        content=f.read()\n",
    "        print(content)\n",
    "except FileNotFoundError:\n",
    "    print('The name of the file was wrong, Please! give the correct file name.')\n",
    "    "
   ]
  },
  {
   "cell_type": "markdown",
   "id": "13075a0f",
   "metadata": {},
   "source": [
    "# Size of the text"
   ]
  },
  {
   "cell_type": "code",
   "execution_count": 6,
   "id": "87c87068",
   "metadata": {},
   "outputs": [
    {
     "name": "stdout",
     "output_type": "stream",
     "text": [
      "The total characters of the text is: 4069\n"
     ]
    }
   ],
   "source": [
    "# total characters in the file with space includng.\n",
    "fname='Chandra_Shekhar_Azad.txt'\n",
    "with open(fname,'r') as f:\n",
    "    str=''\n",
    "    for line in f:\n",
    "        str+=line\n",
    "    print(f'The total characters of the text is: {len(str)}')"
   ]
  },
  {
   "cell_type": "code",
   "execution_count": 7,
   "id": "61332a5c",
   "metadata": {},
   "outputs": [
    {
     "name": "stdout",
     "output_type": "stream",
     "text": [
      "Total Characters in file: 3420\n"
     ]
    }
   ],
   "source": [
    "# total characters in the file without spaces.\n",
    "\n",
    "file_name='Chandra_Shekhar_Azad.txt'\n",
    "file=open(file_name,'r') \n",
    "content=file.read()\n",
    "print('Total Characters in file:',len(content.replace(' ','')))"
   ]
  },
  {
   "cell_type": "code",
   "execution_count": null,
   "id": "4351cd0b",
   "metadata": {},
   "outputs": [],
   "source": []
  }
 ],
 "metadata": {
  "kernelspec": {
   "display_name": "Python 3 (ipykernel)",
   "language": "python",
   "name": "python3"
  },
  "language_info": {
   "codemirror_mode": {
    "name": "ipython",
    "version": 3
   },
   "file_extension": ".py",
   "mimetype": "text/x-python",
   "name": "python",
   "nbconvert_exporter": "python",
   "pygments_lexer": "ipython3",
   "version": "3.9.13"
  }
 },
 "nbformat": 4,
 "nbformat_minor": 5
}
