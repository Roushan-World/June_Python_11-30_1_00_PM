{
 "cells": [
  {
   "cell_type": "markdown",
   "id": "49c88e0b",
   "metadata": {},
   "source": [
    "# 21. Generators in Python\n",
    "\n",
    " * __Python generators are the functions that return the transversal object and a simple way of creating iteratos.__\n",
    " * __It transverses the entire items at once.__\n",
    " * __The generators can also be an expression in which syntax is smaller to the list comprehension in Python.__\n",
    " * __There is a lot of complexity in creating iteration in Python, it is required to implememnt iter() and next() methods to keep track of internal states.__\n",
    " * __It is a lenghty process to create iterators.__\n",
    " * __That is why the generators plays a significant role in simplifying this process.__\n",
    " * __If there is no value found in iteration, it raises Stopiteration exception.__\n",
    " * __It is quire simple to create a generatos in Python.__\n",
    " * __It is smaller to the normal function defined by the def keyword and employs a yield keyword instead of return.__\n",
    " * __If the body of any function included a yield statement, it automatically becomes a generator gunction.__\n",
    " * __The yield keyword is responsible to control the flow of the generator function.__\n",
    " * __If pauses the function execution by saving all states and yielded to the caller.__\n",
    " * __Later it resumes execution when a successive function is called.__\n",
    " * __The return keyword retunrs a value and terminates the whole function and only return statement can be employed in the functions.__"
   ]
  },
  {
   "cell_type": "code",
   "execution_count": 4,
   "id": "abbe4192",
   "metadata": {},
   "outputs": [
    {
     "name": "stdout",
     "output_type": "stream",
     "text": [
      "[0, 2, 4, 6, 8]\n"
     ]
    }
   ],
   "source": [
    "def function():\n",
    "    for i in range(10):\n",
    "        if i%2==0:\n",
    "            yield i\n",
    "            \n",
    "            \n",
    "nlis=[]\n",
    "\n",
    "for i in function():\n",
    "    nlis.append(i)\n",
    "    \n",
    "print(nlis)"
   ]
  },
  {
   "cell_type": "code",
   "execution_count": 13,
   "id": "d54fcda7",
   "metadata": {},
   "outputs": [
    {
     "name": "stdout",
     "output_type": "stream",
     "text": [
      "Hello World\n",
      "Akhilesh\n",
      "Python is the most programming language.\n"
     ]
    },
    {
     "ename": "StopIteration",
     "evalue": "",
     "output_type": "error",
     "traceback": [
      "\u001b[1;31m---------------------------------------------------------------------------\u001b[0m",
      "\u001b[1;31mStopIteration\u001b[0m                             Traceback (most recent call last)",
      "\u001b[1;32m~\\AppData\\Local\\Temp\\ipykernel_10816\\2282132871.py\u001b[0m in \u001b[0;36m<module>\u001b[1;34m\u001b[0m\n\u001b[0;32m     15\u001b[0m \u001b[0mprint\u001b[0m\u001b[1;33m(\u001b[0m\u001b[0mnext\u001b[0m\u001b[1;33m(\u001b[0m\u001b[0mresult\u001b[0m\u001b[1;33m)\u001b[0m\u001b[1;33m)\u001b[0m\u001b[1;33m\u001b[0m\u001b[1;33m\u001b[0m\u001b[0m\n\u001b[0;32m     16\u001b[0m \u001b[0mprint\u001b[0m\u001b[1;33m(\u001b[0m\u001b[0mnext\u001b[0m\u001b[1;33m(\u001b[0m\u001b[0mresult\u001b[0m\u001b[1;33m)\u001b[0m\u001b[1;33m)\u001b[0m\u001b[1;33m\u001b[0m\u001b[1;33m\u001b[0m\u001b[0m\n\u001b[1;32m---> 17\u001b[1;33m \u001b[0mprint\u001b[0m\u001b[1;33m(\u001b[0m\u001b[0mnext\u001b[0m\u001b[1;33m(\u001b[0m\u001b[0mresult\u001b[0m\u001b[1;33m)\u001b[0m\u001b[1;33m)\u001b[0m\u001b[1;33m\u001b[0m\u001b[1;33m\u001b[0m\u001b[0m\n\u001b[0m",
      "\u001b[1;31mStopIteration\u001b[0m: "
     ]
    }
   ],
   "source": [
    "\n",
    "def message():\n",
    "    msg_one='Hello World'\n",
    "    yield msg_one\n",
    "    \n",
    "    msg_two='Akhilesh'\n",
    "    yield msg_two\n",
    "    \n",
    "    msg_three='Python is the most programming language.'\n",
    "    yield msg_three\n",
    "    \n",
    "    \n",
    "result=message()\n",
    "\n",
    "print(next(result))\n",
    "print(next(result))\n",
    "print(next(result))\n",
    "print(next(result))"
   ]
  },
  {
   "cell_type": "code",
   "execution_count": 12,
   "id": "2449dc99",
   "metadata": {},
   "outputs": [
    {
     "name": "stdout",
     "output_type": "stream",
     "text": [
      "Hello World\n",
      "Akhilesh\n",
      "Python is the most programming language.\n",
      "No Value Available\n"
     ]
    }
   ],
   "source": [
    "try:\n",
    "    def message():\n",
    "        msg_one='Hello World'\n",
    "        yield msg_one\n",
    "\n",
    "        msg_two='Akhilesh'\n",
    "        yield msg_two\n",
    "\n",
    "        msg_three='Python is the most programming language.'\n",
    "        yield msg_three\n",
    "\n",
    "\n",
    "    result=message()\n",
    "\n",
    "    print(next(result))\n",
    "    print(next(result))\n",
    "    print(next(result))\n",
    "    print(next(result))\n",
    "    print(next(result))\n",
    "except StopIteration:\n",
    "    print('No Value Available')"
   ]
  },
  {
   "cell_type": "code",
   "execution_count": 21,
   "id": "eacdf296",
   "metadata": {},
   "outputs": [
    {
     "ename": "StopIteration",
     "evalue": "",
     "output_type": "error",
     "traceback": [
      "\u001b[1;31m---------------------------------------------------------------------------\u001b[0m",
      "\u001b[1;31mStopIteration\u001b[0m                             Traceback (most recent call last)",
      "\u001b[1;32m~\\AppData\\Local\\Temp\\ipykernel_10816\\3495108769.py\u001b[0m in \u001b[0;36m<module>\u001b[1;34m\u001b[0m\n\u001b[0;32m     10\u001b[0m \u001b[0mnums_list\u001b[0m\u001b[1;33m.\u001b[0m\u001b[0mappend\u001b[0m\u001b[1;33m(\u001b[0m\u001b[0mnext\u001b[0m\u001b[1;33m(\u001b[0m\u001b[0mgenerator_list\u001b[0m\u001b[1;33m)\u001b[0m\u001b[1;33m)\u001b[0m\u001b[1;33m\u001b[0m\u001b[1;33m\u001b[0m\u001b[0m\n\u001b[0;32m     11\u001b[0m \u001b[0mnums_list\u001b[0m\u001b[1;33m.\u001b[0m\u001b[0mappend\u001b[0m\u001b[1;33m(\u001b[0m\u001b[0mnext\u001b[0m\u001b[1;33m(\u001b[0m\u001b[0mgenerator_list\u001b[0m\u001b[1;33m)\u001b[0m\u001b[1;33m)\u001b[0m\u001b[1;33m\u001b[0m\u001b[1;33m\u001b[0m\u001b[0m\n\u001b[1;32m---> 12\u001b[1;33m \u001b[0mnums_list\u001b[0m\u001b[1;33m.\u001b[0m\u001b[0mappend\u001b[0m\u001b[1;33m(\u001b[0m\u001b[0mnext\u001b[0m\u001b[1;33m(\u001b[0m\u001b[0mgenerator_list\u001b[0m\u001b[1;33m)\u001b[0m\u001b[1;33m)\u001b[0m\u001b[1;33m\u001b[0m\u001b[1;33m\u001b[0m\u001b[0m\n\u001b[0m\u001b[0;32m     13\u001b[0m \u001b[1;33m\u001b[0m\u001b[0m\n\u001b[0;32m     14\u001b[0m \u001b[0mprint\u001b[0m\u001b[1;33m(\u001b[0m\u001b[0mnums_list\u001b[0m\u001b[1;33m)\u001b[0m\u001b[1;33m\u001b[0m\u001b[1;33m\u001b[0m\u001b[0m\n",
      "\u001b[1;31mStopIteration\u001b[0m: "
     ]
    }
   ],
   "source": [
    "special_nums=[0.577,1.618,2.718,6,37,1729]\n",
    "\n",
    "generator_list=(i*3 for i in special_nums)\n",
    "nums_list=[]\n",
    "\n",
    "nums_list.append(next(generator_list))\n",
    "nums_list.append(next(generator_list))\n",
    "nums_list.append(next(generator_list))\n",
    "nums_list.append(next(generator_list))\n",
    "nums_list.append(next(generator_list))\n",
    "nums_list.append(next(generator_list))\n",
    "nums_list.append(next(generator_list))\n",
    "\n",
    "print(nums_list)"
   ]
  },
  {
   "cell_type": "code",
   "execution_count": 41,
   "id": "4617ebf3",
   "metadata": {},
   "outputs": [
    {
     "name": "stdout",
     "output_type": "stream",
     "text": [
      "No Data Available\n"
     ]
    }
   ],
   "source": [
    "try:\n",
    "    special_nums=[0.577,1.618,2.718,6,37,1729]\n",
    "\n",
    "    generator_list=(i*3 for i in special_nums)\n",
    "    nums_list=[]\n",
    "\n",
    "    nums_list.append(next(generator_list))\n",
    "    nums_list.append(next(generator_list))\n",
    "    nums_list.append(next(generator_list))\n",
    "    nums_list.append(next(generator_list))\n",
    "    nums_list.append(next(generator_list))\n",
    "    nums_list.append(next(generator_list))\n",
    "    nums_list.append(next(generator_list))\n",
    "\n",
    "    print(nums_list)\n",
    "except StopIteration:\n",
    "    print('No Data Available')  # It display only one output because it is not in loop"
   ]
  },
  {
   "cell_type": "code",
   "execution_count": 39,
   "id": "c66a68ad",
   "metadata": {},
   "outputs": [
    {
     "name": "stdout",
     "output_type": "stream",
     "text": [
      "0\n",
      "1\n",
      "2\n",
      "3\n",
      "4\n",
      "5\n"
     ]
    },
    {
     "ename": "StopIteration",
     "evalue": "",
     "output_type": "error",
     "traceback": [
      "\u001b[1;31m---------------------------------------------------------------------------\u001b[0m",
      "\u001b[1;31mStopIteration\u001b[0m                             Traceback (most recent call last)",
      "\u001b[1;32m~\\AppData\\Local\\Temp\\ipykernel_10816\\3596870342.py\u001b[0m in \u001b[0;36m<module>\u001b[1;34m\u001b[0m\n\u001b[0;32m     10\u001b[0m \u001b[0mprint\u001b[0m\u001b[1;33m(\u001b[0m\u001b[0mnext\u001b[0m\u001b[1;33m(\u001b[0m\u001b[0mgen\u001b[0m\u001b[1;33m)\u001b[0m\u001b[1;33m)\u001b[0m\u001b[1;33m\u001b[0m\u001b[1;33m\u001b[0m\u001b[0m\n\u001b[0;32m     11\u001b[0m \u001b[0mprint\u001b[0m\u001b[1;33m(\u001b[0m\u001b[0mnext\u001b[0m\u001b[1;33m(\u001b[0m\u001b[0mgen\u001b[0m\u001b[1;33m)\u001b[0m\u001b[1;33m)\u001b[0m\u001b[1;33m\u001b[0m\u001b[1;33m\u001b[0m\u001b[0m\n\u001b[1;32m---> 12\u001b[1;33m \u001b[0mprint\u001b[0m\u001b[1;33m(\u001b[0m\u001b[0mnext\u001b[0m\u001b[1;33m(\u001b[0m\u001b[0mgen\u001b[0m\u001b[1;33m)\u001b[0m\u001b[1;33m)\u001b[0m\u001b[1;33m\u001b[0m\u001b[1;33m\u001b[0m\u001b[0m\n\u001b[0m\u001b[0;32m     13\u001b[0m \u001b[1;33m\u001b[0m\u001b[0m\n",
      "\u001b[1;31mStopIteration\u001b[0m: "
     ]
    }
   ],
   "source": [
    "\n",
    "def generator(a):\n",
    "    for i in range(a):\n",
    "        yield i\n",
    "            \n",
    "gen=generator(6)\n",
    "print(next(gen))\n",
    "print(next(gen))\n",
    "print(next(gen))\n",
    "print(next(gen))\n",
    "print(next(gen))\n",
    "print(next(gen))\n",
    "print(next(gen))\n",
    "    "
   ]
  },
  {
   "cell_type": "code",
   "execution_count": 42,
   "id": "5759d4f5",
   "metadata": {},
   "outputs": [
    {
     "name": "stdout",
     "output_type": "stream",
     "text": [
      "0\n",
      "1\n",
      "2\n",
      "3\n",
      "4\n",
      "5\n",
      "No Data Available\n"
     ]
    }
   ],
   "source": [
    "try:\n",
    "    def generator(a):\n",
    "        for i in range(a):\n",
    "            yield i\n",
    "\n",
    "    gen=generator(6)\n",
    "    print(next(gen))\n",
    "    print(next(gen))\n",
    "    print(next(gen))\n",
    "    print(next(gen))\n",
    "    print(next(gen))\n",
    "    print(next(gen))\n",
    "    print(next(gen))\n",
    "    \n",
    "except StopIteration:\n",
    "    print(\"No Data Available\")"
   ]
  },
  {
   "cell_type": "code",
   "execution_count": null,
   "id": "d87e30f4",
   "metadata": {},
   "outputs": [],
   "source": []
  }
 ],
 "metadata": {
  "kernelspec": {
   "display_name": "Python 3 (ipykernel)",
   "language": "python",
   "name": "python3"
  },
  "language_info": {
   "codemirror_mode": {
    "name": "ipython",
    "version": 3
   },
   "file_extension": ".py",
   "mimetype": "text/x-python",
   "name": "python",
   "nbconvert_exporter": "python",
   "pygments_lexer": "ipython3",
   "version": "3.9.13"
  }
 },
 "nbformat": 4,
 "nbformat_minor": 5
}
