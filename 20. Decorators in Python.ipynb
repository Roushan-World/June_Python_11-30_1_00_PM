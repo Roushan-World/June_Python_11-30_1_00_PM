{
 "cells": [
  {
   "cell_type": "markdown",
   "id": "cb242f6c",
   "metadata": {},
   "source": [
    "# 20. Decorators in Python\n",
    "\n",
    " * __Decorators provides a simple syntax for calling higher-order function.__\n",
    " * __By definition, a decorator is a function that takes another function and extends the behavior of the latter function without explicitly modifying it.__\n",
    " * __A decorator in Python is a function that takes another function as its argument, and return yet another functions.__\n",
    " * __Decorators can be extremely useful as they allow the extension of an existing function, without any modification to the original function source code.__\n",
    " * __In fact, there are two types of decorators in Python including class decorators and function decorators.__\n",
    " * __In application, decorators are majorly used in creating middle layer in the backend, it performs task like token authentication, valdation, image compression and many more.__"
   ]
  },
  {
   "cell_type": "code",
   "execution_count": 1,
   "id": "f3406b28",
   "metadata": {},
   "outputs": [],
   "source": [
    "import decorator\n",
    "\n",
    "from decorator import *"
   ]
  },
  {
   "cell_type": "code",
   "execution_count": 3,
   "id": "1ce19bbb",
   "metadata": {},
   "outputs": [
    {
     "name": "stdout",
     "output_type": "stream",
     "text": [
      "Python is a programming language.\n",
      "Hello world\n",
      "Welcome Python\n"
     ]
    }
   ],
   "source": [
    "def mytext(text):\n",
    "    print(text)\n",
    "    \n",
    "    \n",
    "    \n",
    "mytext('Python is a programming language.')\n",
    "\n",
    "new_text=mytext\n",
    "new_text('Hello world')\n",
    "x=mytext\n",
    "x('Welcome Python')"
   ]
  },
  {
   "cell_type": "markdown",
   "id": "d517d13e",
   "metadata": {},
   "source": [
    "# Nested/Inner function"
   ]
  },
  {
   "cell_type": "code",
   "execution_count": 8,
   "id": "f7bed337",
   "metadata": {},
   "outputs": [
    {
     "name": "stdout",
     "output_type": "stream",
     "text": [
      "Python is a programming language.\n",
      "Hello, Python\n",
      "Hy,Akhilesh\n"
     ]
    }
   ],
   "source": [
    "def mytext():\n",
    "    print('Python is a programming language.')\n",
    "    def new_text():\n",
    "        print('Hello, Python')\n",
    "    def message():\n",
    "        print('Hy,Akhilesh')\n",
    "        \n",
    "    new_text()\n",
    "    \n",
    "    message()\n",
    "    \n",
    "mytext()"
   ]
  },
  {
   "cell_type": "code",
   "execution_count": 8,
   "id": "1d3fe7cd",
   "metadata": {},
   "outputs": [
    {
     "name": "stdout",
     "output_type": "stream",
     "text": [
      "8.0\n"
     ]
    }
   ],
   "source": [
    "def decorator_one(function):\n",
    "    def inner():\n",
    "        num=function()\n",
    "        return num*(num**num)\n",
    "    return inner\n",
    "\n",
    "def decorator_two(function):\n",
    "    def inner():\n",
    "        num=function()\n",
    "        return (num**num)/num\n",
    "    return inner\n",
    "\n",
    "@decorator_one\n",
    "@decorator_two\n",
    "\n",
    "def number():\n",
    "    return 2\n",
    "print(number())\n",
    "\n",
    "\n",
    "\n"
   ]
  },
  {
   "cell_type": "code",
   "execution_count": 11,
   "id": "2ad13da8",
   "metadata": {},
   "outputs": [
    {
     "name": "stdout",
     "output_type": "stream",
     "text": [
      "PYTHON IS THE MOST POPULAR PROGRAMMING LANGUAGE.\n"
     ]
    }
   ],
   "source": [
    "def decorated_text_uppercase(func):\n",
    "    def wrapper():\n",
    "        function=func()\n",
    "        text_uppercase=function.upper()\n",
    "        return text_uppercase\n",
    "    return wrapper\n",
    "\n",
    "\n",
    "def text():\n",
    "    return 'Python is the most popular programming language.'\n",
    "decorated_result=decorated_text_uppercase(text)\n",
    "print(decorated_result())"
   ]
  },
  {
   "cell_type": "code",
   "execution_count": 12,
   "id": "bc347645",
   "metadata": {},
   "outputs": [
    {
     "name": "stdout",
     "output_type": "stream",
     "text": [
      "MY NAME IS AKHILESH\n"
     ]
    }
   ],
   "source": [
    "@decorated_text_uppercase\n",
    "\n",
    "def text():\n",
    "    return 'my name is akhilesh'\n",
    "print(text())"
   ]
  },
  {
   "cell_type": "code",
   "execution_count": 14,
   "id": "b7f11f81",
   "metadata": {},
   "outputs": [
    {
     "name": "stdout",
     "output_type": "stream",
     "text": [
      "Python is programming language\n",
      "Python is programming language\n",
      "Python is programming language\n",
      "Python is programming language\n",
      "Python is programming language\n"
     ]
    }
   ],
   "source": [
    "def do_twice(function):\n",
    "    def wrapper_do_twice():\n",
    "        function()\n",
    "        function()\n",
    "        function()\n",
    "        function()\n",
    "        function()\n",
    "    return wrapper_do_twice\n",
    "\n",
    "@do_twice\n",
    "\n",
    "def text():\n",
    "    print('Python is programming language')\n",
    "text()"
   ]
  },
  {
   "cell_type": "code",
   "execution_count": null,
   "id": "2f3d6a77",
   "metadata": {},
   "outputs": [],
   "source": []
  }
 ],
 "metadata": {
  "kernelspec": {
   "display_name": "Python 3 (ipykernel)",
   "language": "python",
   "name": "python3"
  },
  "language_info": {
   "codemirror_mode": {
    "name": "ipython",
    "version": 3
   },
   "file_extension": ".py",
   "mimetype": "text/x-python",
   "name": "python",
   "nbconvert_exporter": "python",
   "pygments_lexer": "ipython3",
   "version": "3.9.13"
  }
 },
 "nbformat": 4,
 "nbformat_minor": 5
}
